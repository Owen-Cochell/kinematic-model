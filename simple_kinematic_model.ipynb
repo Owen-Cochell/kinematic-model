{
 "cells": [
  {
   "cell_type": "code",
   "execution_count": 1,
   "metadata": {},
   "outputs": [],
   "source": [
    "import glob as glob\n",
    "import pandas as pd\n",
    "import numpy as np\n",
    "import plotly.express as px\n",
    "import plotly.graph_objects as go\n",
    "import plotly.io as pio\n",
    "import plotly.figure_factory as ff\n",
    "from pathlib import Path\n",
    "\n",
    "# Create the figures directory:\n",
    "\n",
    "Path(\"figures\").mkdir(parents=True, exist_ok=True)"
   ]
  },
  {
   "cell_type": "code",
   "execution_count": 2,
   "metadata": {},
   "outputs": [
    {
     "data": {
      "text/html": [
       "<div>\n",
       "<style scoped>\n",
       "    .dataframe tbody tr th:only-of-type {\n",
       "        vertical-align: middle;\n",
       "    }\n",
       "\n",
       "    .dataframe tbody tr th {\n",
       "        vertical-align: top;\n",
       "    }\n",
       "\n",
       "    .dataframe thead th {\n",
       "        text-align: right;\n",
       "    }\n",
       "</style>\n",
       "<table border=\"1\" class=\"dataframe\">\n",
       "  <thead>\n",
       "    <tr style=\"text-align: right;\">\n",
       "      <th></th>\n",
       "      <th>lat</th>\n",
       "      <th>lon</th>\n",
       "      <th>alt</th>\n",
       "      <th>vx</th>\n",
       "      <th>vy</th>\n",
       "      <th>vz</th>\n",
       "    </tr>\n",
       "    <tr>\n",
       "      <th>time</th>\n",
       "      <th></th>\n",
       "      <th></th>\n",
       "      <th></th>\n",
       "      <th></th>\n",
       "      <th></th>\n",
       "      <th></th>\n",
       "    </tr>\n",
       "  </thead>\n",
       "  <tbody>\n",
       "    <tr>\n",
       "      <th>0.140</th>\n",
       "      <td>42.724676</td>\n",
       "      <td>-84.480802</td>\n",
       "      <td>274.12</td>\n",
       "      <td>-0.01</td>\n",
       "      <td>-0.02</td>\n",
       "      <td>-0.00</td>\n",
       "    </tr>\n",
       "    <tr>\n",
       "      <th>0.473</th>\n",
       "      <td>42.724676</td>\n",
       "      <td>-84.480802</td>\n",
       "      <td>274.12</td>\n",
       "      <td>0.00</td>\n",
       "      <td>-0.02</td>\n",
       "      <td>-0.00</td>\n",
       "    </tr>\n",
       "    <tr>\n",
       "      <th>0.806</th>\n",
       "      <td>42.724676</td>\n",
       "      <td>-84.480802</td>\n",
       "      <td>274.12</td>\n",
       "      <td>0.00</td>\n",
       "      <td>-0.02</td>\n",
       "      <td>-0.00</td>\n",
       "    </tr>\n",
       "    <tr>\n",
       "      <th>1.138</th>\n",
       "      <td>42.724676</td>\n",
       "      <td>-84.480802</td>\n",
       "      <td>274.11</td>\n",
       "      <td>0.00</td>\n",
       "      <td>-0.02</td>\n",
       "      <td>-0.00</td>\n",
       "    </tr>\n",
       "    <tr>\n",
       "      <th>1.471</th>\n",
       "      <td>42.724675</td>\n",
       "      <td>-84.480802</td>\n",
       "      <td>274.11</td>\n",
       "      <td>0.00</td>\n",
       "      <td>-0.02</td>\n",
       "      <td>-0.00</td>\n",
       "    </tr>\n",
       "    <tr>\n",
       "      <th>...</th>\n",
       "      <td>...</td>\n",
       "      <td>...</td>\n",
       "      <td>...</td>\n",
       "      <td>...</td>\n",
       "      <td>...</td>\n",
       "      <td>...</td>\n",
       "    </tr>\n",
       "    <tr>\n",
       "      <th>75.398</th>\n",
       "      <td>42.724638</td>\n",
       "      <td>-84.480762</td>\n",
       "      <td>275.50</td>\n",
       "      <td>1.22</td>\n",
       "      <td>-0.39</td>\n",
       "      <td>-0.20</td>\n",
       "    </tr>\n",
       "    <tr>\n",
       "      <th>75.731</th>\n",
       "      <td>42.724641</td>\n",
       "      <td>-84.480763</td>\n",
       "      <td>275.55</td>\n",
       "      <td>0.92</td>\n",
       "      <td>-0.65</td>\n",
       "      <td>-0.00</td>\n",
       "    </tr>\n",
       "    <tr>\n",
       "      <th>76.063</th>\n",
       "      <td>42.724644</td>\n",
       "      <td>-84.480766</td>\n",
       "      <td>275.55</td>\n",
       "      <td>0.89</td>\n",
       "      <td>-0.89</td>\n",
       "      <td>-0.01</td>\n",
       "    </tr>\n",
       "    <tr>\n",
       "      <th>76.396</th>\n",
       "      <td>42.724646</td>\n",
       "      <td>-84.480770</td>\n",
       "      <td>275.60</td>\n",
       "      <td>0.79</td>\n",
       "      <td>-0.90</td>\n",
       "      <td>-0.20</td>\n",
       "    </tr>\n",
       "    <tr>\n",
       "      <th>76.731</th>\n",
       "      <td>42.724648</td>\n",
       "      <td>-84.480773</td>\n",
       "      <td>275.58</td>\n",
       "      <td>0.56</td>\n",
       "      <td>-1.01</td>\n",
       "      <td>0.11</td>\n",
       "    </tr>\n",
       "  </tbody>\n",
       "</table>\n",
       "<p>231 rows × 6 columns</p>\n",
       "</div>"
      ],
      "text/plain": [
       "              lat        lon     alt    vx    vy    vz\n",
       "time                                                  \n",
       "0.140   42.724676 -84.480802  274.12 -0.01 -0.02 -0.00\n",
       "0.473   42.724676 -84.480802  274.12  0.00 -0.02 -0.00\n",
       "0.806   42.724676 -84.480802  274.12  0.00 -0.02 -0.00\n",
       "1.138   42.724676 -84.480802  274.11  0.00 -0.02 -0.00\n",
       "1.471   42.724675 -84.480802  274.11  0.00 -0.02 -0.00\n",
       "...           ...        ...     ...   ...   ...   ...\n",
       "75.398  42.724638 -84.480762  275.50  1.22 -0.39 -0.20\n",
       "75.731  42.724641 -84.480763  275.55  0.92 -0.65 -0.00\n",
       "76.063  42.724644 -84.480766  275.55  0.89 -0.89 -0.01\n",
       "76.396  42.724646 -84.480770  275.60  0.79 -0.90 -0.20\n",
       "76.731  42.724648 -84.480773  275.58  0.56 -1.01  0.11\n",
       "\n",
       "[231 rows x 6 columns]"
      ]
     },
     "execution_count": 2,
     "metadata": {},
     "output_type": "execute_result"
    }
   ],
   "source": [
    "# Data preprocessing\n",
    "\n",
    "drone = pd.read_json('data/data_20092023-15:36:05(more_movement).json')\n",
    "gcs = pd.read_json('data/data_20092023-15:39:26(less_movement).json')\n",
    "\n",
    "# add prefix to packet type\n",
    "drone['mavpackettype'] = 'UAV_' + drone['mavpackettype']\n",
    "gcs['mavpackettype'] = 'GCS_' + gcs['mavpackettype']\n",
    "\n",
    "# zero time to the beginning of the flight\n",
    "drone['time_boot_ms'] -= drone['time_boot_ms'].min()\n",
    "gcs['time_boot_ms'] -= gcs['time_boot_ms'].min()\n",
    "\n",
    "# combine dataframes\n",
    "df = pd.concat([drone, gcs], ignore_index=True)\n",
    "df = df.sort_values(by=['time_boot_ms'], ignore_index=True)\n",
    "\n",
    "df['time_s'] = df['time_boot_ms'] / 1000\n",
    "df['lat'] = df['lat'] / 1e7 # int->float\n",
    "df['lon'] = df['lon'] / 1e7\n",
    "df['alt'] = df['alt'] / 1000 # orginally in mm\n",
    "\n",
    "df['vx'] = df['vx'] / 100 # to m/s\n",
    "df['vy'] = df['vy'] / 100\n",
    "df['vz'] = -1*(df['vz'] / 100) # Invert z velocity. Up is now positive.\n",
    "\n",
    "df = df[\n",
    "    df['mavpackettype'].str.contains('UAV_GLOBAL_POSITION_INT')\n",
    "]\n",
    "df = df[['time_s', 'lat', 'lon', 'alt', 'vx', 'vy', 'vz']]\n",
    "df.set_index('time_s', inplace=True)\n",
    "df.index.name = 'time'\n",
    "df"
   ]
  },
  {
   "cell_type": "markdown",
   "metadata": {},
   "source": [
    "This is the data we are working with in this exmaple.\n",
    "\n",
    "    - time is in seconds\n",
    "    - vx: m/s in north direction\n",
    "    - vy: m/s in east direction\n",
    "    - vz: m/s upwards\n",
    "    - alt: meters above sea level\n",
    "    - lat and lon: geodesic coordinates"
   ]
  },
  {
   "cell_type": "markdown",
   "metadata": {},
   "source": [
    "Next, use `pymap3d.geodetic2enu()` to convert lat, lon, and alt to east, north, up (m). The reference point is the starting point."
   ]
  },
  {
   "cell_type": "code",
   "execution_count": 3,
   "metadata": {},
   "outputs": [
    {
     "name": "stdout",
     "output_type": "stream",
     "text": [
      "lat     42.724676\n",
      "lon    -84.480802\n",
      "alt    274.120000\n",
      "vx      -0.010000\n",
      "vy      -0.020000\n",
      "vz      -0.000000\n",
      "Name: 0.14, dtype: float64\n"
     ]
    },
    {
     "data": {
      "text/html": [
       "<div>\n",
       "<style scoped>\n",
       "    .dataframe tbody tr th:only-of-type {\n",
       "        vertical-align: middle;\n",
       "    }\n",
       "\n",
       "    .dataframe tbody tr th {\n",
       "        vertical-align: top;\n",
       "    }\n",
       "\n",
       "    .dataframe thead th {\n",
       "        text-align: right;\n",
       "    }\n",
       "</style>\n",
       "<table border=\"1\" class=\"dataframe\">\n",
       "  <thead>\n",
       "    <tr style=\"text-align: right;\">\n",
       "      <th></th>\n",
       "      <th>lat</th>\n",
       "      <th>lon</th>\n",
       "      <th>alt</th>\n",
       "      <th>vx</th>\n",
       "      <th>vy</th>\n",
       "      <th>vz</th>\n",
       "      <th>x</th>\n",
       "      <th>y</th>\n",
       "      <th>z</th>\n",
       "    </tr>\n",
       "    <tr>\n",
       "      <th>time</th>\n",
       "      <th></th>\n",
       "      <th></th>\n",
       "      <th></th>\n",
       "      <th></th>\n",
       "      <th></th>\n",
       "      <th></th>\n",
       "      <th></th>\n",
       "      <th></th>\n",
       "      <th></th>\n",
       "    </tr>\n",
       "  </thead>\n",
       "  <tbody>\n",
       "    <tr>\n",
       "      <th>0.140</th>\n",
       "      <td>42.724676</td>\n",
       "      <td>-84.480802</td>\n",
       "      <td>274.12</td>\n",
       "      <td>-0.01</td>\n",
       "      <td>-0.02</td>\n",
       "      <td>-0.00</td>\n",
       "      <td>0.000000</td>\n",
       "      <td>0.000000</td>\n",
       "      <td>0.000000e+00</td>\n",
       "    </tr>\n",
       "    <tr>\n",
       "      <th>0.473</th>\n",
       "      <td>42.724676</td>\n",
       "      <td>-84.480802</td>\n",
       "      <td>274.12</td>\n",
       "      <td>0.00</td>\n",
       "      <td>-0.02</td>\n",
       "      <td>-0.00</td>\n",
       "      <td>-0.011109</td>\n",
       "      <td>-0.008191</td>\n",
       "      <td>-9.630020e-10</td>\n",
       "    </tr>\n",
       "    <tr>\n",
       "      <th>0.806</th>\n",
       "      <td>42.724676</td>\n",
       "      <td>-84.480802</td>\n",
       "      <td>274.12</td>\n",
       "      <td>0.00</td>\n",
       "      <td>-0.02</td>\n",
       "      <td>-0.00</td>\n",
       "      <td>-0.022218</td>\n",
       "      <td>-0.016382</td>\n",
       "      <td>1.029579e-11</td>\n",
       "    </tr>\n",
       "    <tr>\n",
       "      <th>1.138</th>\n",
       "      <td>42.724676</td>\n",
       "      <td>-84.480802</td>\n",
       "      <td>274.11</td>\n",
       "      <td>0.00</td>\n",
       "      <td>-0.02</td>\n",
       "      <td>-0.00</td>\n",
       "      <td>-0.033328</td>\n",
       "      <td>-0.032763</td>\n",
       "      <td>-9.999999e-03</td>\n",
       "    </tr>\n",
       "    <tr>\n",
       "      <th>1.471</th>\n",
       "      <td>42.724675</td>\n",
       "      <td>-84.480802</td>\n",
       "      <td>274.11</td>\n",
       "      <td>0.00</td>\n",
       "      <td>-0.02</td>\n",
       "      <td>-0.00</td>\n",
       "      <td>-0.044437</td>\n",
       "      <td>-0.040954</td>\n",
       "      <td>-9.999999e-03</td>\n",
       "    </tr>\n",
       "    <tr>\n",
       "      <th>...</th>\n",
       "      <td>...</td>\n",
       "      <td>...</td>\n",
       "      <td>...</td>\n",
       "      <td>...</td>\n",
       "      <td>...</td>\n",
       "      <td>...</td>\n",
       "      <td>...</td>\n",
       "      <td>...</td>\n",
       "      <td>...</td>\n",
       "    </tr>\n",
       "    <tr>\n",
       "      <th>75.398</th>\n",
       "      <td>42.724638</td>\n",
       "      <td>-84.480762</td>\n",
       "      <td>275.50</td>\n",
       "      <td>1.22</td>\n",
       "      <td>-0.39</td>\n",
       "      <td>-0.20</td>\n",
       "      <td>-4.154847</td>\n",
       "      <td>3.276307</td>\n",
       "      <td>1.379998e+00</td>\n",
       "    </tr>\n",
       "    <tr>\n",
       "      <th>75.731</th>\n",
       "      <td>42.724641</td>\n",
       "      <td>-84.480763</td>\n",
       "      <td>275.55</td>\n",
       "      <td>0.92</td>\n",
       "      <td>-0.65</td>\n",
       "      <td>-0.00</td>\n",
       "      <td>-3.821570</td>\n",
       "      <td>3.137064</td>\n",
       "      <td>1.429998e+00</td>\n",
       "    </tr>\n",
       "    <tr>\n",
       "      <th>76.063</th>\n",
       "      <td>42.724644</td>\n",
       "      <td>-84.480766</td>\n",
       "      <td>275.55</td>\n",
       "      <td>0.89</td>\n",
       "      <td>-0.89</td>\n",
       "      <td>-0.01</td>\n",
       "      <td>-3.588277</td>\n",
       "      <td>2.907722</td>\n",
       "      <td>1.429998e+00</td>\n",
       "    </tr>\n",
       "    <tr>\n",
       "      <th>76.396</th>\n",
       "      <td>42.724646</td>\n",
       "      <td>-84.480770</td>\n",
       "      <td>275.60</td>\n",
       "      <td>0.79</td>\n",
       "      <td>-0.90</td>\n",
       "      <td>-0.20</td>\n",
       "      <td>-3.366093</td>\n",
       "      <td>2.621045</td>\n",
       "      <td>1.479999e+00</td>\n",
       "    </tr>\n",
       "    <tr>\n",
       "      <th>76.731</th>\n",
       "      <td>42.724648</td>\n",
       "      <td>-84.480773</td>\n",
       "      <td>275.58</td>\n",
       "      <td>0.56</td>\n",
       "      <td>-1.01</td>\n",
       "      <td>0.11</td>\n",
       "      <td>-3.132799</td>\n",
       "      <td>2.309796</td>\n",
       "      <td>1.459999e+00</td>\n",
       "    </tr>\n",
       "  </tbody>\n",
       "</table>\n",
       "<p>231 rows × 9 columns</p>\n",
       "</div>"
      ],
      "text/plain": [
       "              lat        lon     alt    vx    vy    vz         x         y  \\\n",
       "time                                                                         \n",
       "0.140   42.724676 -84.480802  274.12 -0.01 -0.02 -0.00  0.000000  0.000000   \n",
       "0.473   42.724676 -84.480802  274.12  0.00 -0.02 -0.00 -0.011109 -0.008191   \n",
       "0.806   42.724676 -84.480802  274.12  0.00 -0.02 -0.00 -0.022218 -0.016382   \n",
       "1.138   42.724676 -84.480802  274.11  0.00 -0.02 -0.00 -0.033328 -0.032763   \n",
       "1.471   42.724675 -84.480802  274.11  0.00 -0.02 -0.00 -0.044437 -0.040954   \n",
       "...           ...        ...     ...   ...   ...   ...       ...       ...   \n",
       "75.398  42.724638 -84.480762  275.50  1.22 -0.39 -0.20 -4.154847  3.276307   \n",
       "75.731  42.724641 -84.480763  275.55  0.92 -0.65 -0.00 -3.821570  3.137064   \n",
       "76.063  42.724644 -84.480766  275.55  0.89 -0.89 -0.01 -3.588277  2.907722   \n",
       "76.396  42.724646 -84.480770  275.60  0.79 -0.90 -0.20 -3.366093  2.621045   \n",
       "76.731  42.724648 -84.480773  275.58  0.56 -1.01  0.11 -3.132799  2.309796   \n",
       "\n",
       "                   z  \n",
       "time                  \n",
       "0.140   0.000000e+00  \n",
       "0.473  -9.630020e-10  \n",
       "0.806   1.029579e-11  \n",
       "1.138  -9.999999e-03  \n",
       "1.471  -9.999999e-03  \n",
       "...              ...  \n",
       "75.398  1.379998e+00  \n",
       "75.731  1.429998e+00  \n",
       "76.063  1.429998e+00  \n",
       "76.396  1.479999e+00  \n",
       "76.731  1.459999e+00  \n",
       "\n",
       "[231 rows x 9 columns]"
      ]
     },
     "execution_count": 3,
     "metadata": {},
     "output_type": "execute_result"
    }
   ],
   "source": [
    "import pymap3d as pm\n",
    "\n",
    "def geodesic_distances(lat1, lon1, alt1, lat2, lon2, alt2):\n",
    "    # In mavlink, east is y, north is x, down is z (z flipped upwards in preprocessing)\n",
    "    y, x, z = pm.geodetic2enu(lat1, lon1, alt1, lat2, lon2, alt2)\n",
    "    return x, y, z\n",
    "\n",
    "origin = df.iloc[0]\n",
    "\n",
    "print(origin)\n",
    "\n",
    "df['x'], df['y'], df['z'] = geodesic_distances(\n",
    "    df['lat'], df['lon'], df['alt'], origin['lat'], origin['lon'], origin['alt']\n",
    ")\n",
    "df"
   ]
  },
  {
   "cell_type": "markdown",
   "metadata": {},
   "source": [
    "Run the incoming data through a moving average filter, in this case implemented via convolution. The goal of this is to remove random noise brought on by error in the GPS data. In the future, this should probably be implemented via a IIR filter for speed. To enable this functionality, set the `avg_flag` to `True`. You can also specify the pole count, which is the number of values included in the averaging operation. \n",
    "\n",
    "The problem with this implementation is there are issues with outliers in the boundaries. The higher the pole count, the more outliers in the last few values in the data will be present. This can be fixed with an IIR implementation."
   ]
  },
  {
   "cell_type": "code",
   "execution_count": 4,
   "metadata": {},
   "outputs": [
    {
     "data": {
      "text/html": [
       "<div>\n",
       "<style scoped>\n",
       "    .dataframe tbody tr th:only-of-type {\n",
       "        vertical-align: middle;\n",
       "    }\n",
       "\n",
       "    .dataframe tbody tr th {\n",
       "        vertical-align: top;\n",
       "    }\n",
       "\n",
       "    .dataframe thead th {\n",
       "        text-align: right;\n",
       "    }\n",
       "</style>\n",
       "<table border=\"1\" class=\"dataframe\">\n",
       "  <thead>\n",
       "    <tr style=\"text-align: right;\">\n",
       "      <th></th>\n",
       "      <th>lat</th>\n",
       "      <th>lon</th>\n",
       "      <th>alt</th>\n",
       "      <th>vx</th>\n",
       "      <th>vy</th>\n",
       "      <th>vz</th>\n",
       "      <th>x</th>\n",
       "      <th>y</th>\n",
       "      <th>z</th>\n",
       "    </tr>\n",
       "    <tr>\n",
       "      <th>time</th>\n",
       "      <th></th>\n",
       "      <th></th>\n",
       "      <th></th>\n",
       "      <th></th>\n",
       "      <th></th>\n",
       "      <th></th>\n",
       "      <th></th>\n",
       "      <th></th>\n",
       "      <th></th>\n",
       "    </tr>\n",
       "  </thead>\n",
       "  <tbody>\n",
       "    <tr>\n",
       "      <th>0.140</th>\n",
       "      <td>42.724676</td>\n",
       "      <td>-84.480802</td>\n",
       "      <td>274.12</td>\n",
       "      <td>-0.01</td>\n",
       "      <td>-0.02</td>\n",
       "      <td>-0.00</td>\n",
       "      <td>-0.002777</td>\n",
       "      <td>-0.002048</td>\n",
       "      <td>-2.407505e-10</td>\n",
       "    </tr>\n",
       "    <tr>\n",
       "      <th>0.473</th>\n",
       "      <td>42.724676</td>\n",
       "      <td>-84.480802</td>\n",
       "      <td>274.12</td>\n",
       "      <td>0.00</td>\n",
       "      <td>-0.02</td>\n",
       "      <td>-0.00</td>\n",
       "      <td>-0.008332</td>\n",
       "      <td>-0.006143</td>\n",
       "      <td>-2.381766e-10</td>\n",
       "    </tr>\n",
       "    <tr>\n",
       "      <th>0.806</th>\n",
       "      <td>42.724676</td>\n",
       "      <td>-84.480802</td>\n",
       "      <td>274.12</td>\n",
       "      <td>0.00</td>\n",
       "      <td>-0.02</td>\n",
       "      <td>-0.00</td>\n",
       "      <td>-0.016664</td>\n",
       "      <td>-0.014334</td>\n",
       "      <td>-2.500000e-03</td>\n",
       "    </tr>\n",
       "    <tr>\n",
       "      <th>1.138</th>\n",
       "      <td>42.724676</td>\n",
       "      <td>-84.480802</td>\n",
       "      <td>274.11</td>\n",
       "      <td>0.00</td>\n",
       "      <td>-0.02</td>\n",
       "      <td>-0.00</td>\n",
       "      <td>-0.027773</td>\n",
       "      <td>-0.024572</td>\n",
       "      <td>-5.000000e-03</td>\n",
       "    </tr>\n",
       "    <tr>\n",
       "      <th>1.471</th>\n",
       "      <td>42.724675</td>\n",
       "      <td>-84.480802</td>\n",
       "      <td>274.11</td>\n",
       "      <td>0.00</td>\n",
       "      <td>-0.02</td>\n",
       "      <td>-0.00</td>\n",
       "      <td>-0.038882</td>\n",
       "      <td>-0.034811</td>\n",
       "      <td>-5.000000e-03</td>\n",
       "    </tr>\n",
       "    <tr>\n",
       "      <th>...</th>\n",
       "      <td>...</td>\n",
       "      <td>...</td>\n",
       "      <td>...</td>\n",
       "      <td>...</td>\n",
       "      <td>...</td>\n",
       "      <td>...</td>\n",
       "      <td>...</td>\n",
       "      <td>...</td>\n",
       "      <td>...</td>\n",
       "    </tr>\n",
       "    <tr>\n",
       "      <th>75.398</th>\n",
       "      <td>42.724638</td>\n",
       "      <td>-84.480762</td>\n",
       "      <td>275.50</td>\n",
       "      <td>1.22</td>\n",
       "      <td>-0.39</td>\n",
       "      <td>-0.20</td>\n",
       "      <td>-4.354813</td>\n",
       "      <td>3.307023</td>\n",
       "      <td>1.384998e+00</td>\n",
       "    </tr>\n",
       "    <tr>\n",
       "      <th>75.731</th>\n",
       "      <td>42.724641</td>\n",
       "      <td>-84.480763</td>\n",
       "      <td>275.55</td>\n",
       "      <td>0.92</td>\n",
       "      <td>-0.65</td>\n",
       "      <td>-0.00</td>\n",
       "      <td>-4.024314</td>\n",
       "      <td>3.167779</td>\n",
       "      <td>1.397498e+00</td>\n",
       "    </tr>\n",
       "    <tr>\n",
       "      <th>76.063</th>\n",
       "      <td>42.724644</td>\n",
       "      <td>-84.480766</td>\n",
       "      <td>275.55</td>\n",
       "      <td>0.89</td>\n",
       "      <td>-0.89</td>\n",
       "      <td>-0.01</td>\n",
       "      <td>-3.732697</td>\n",
       "      <td>2.985535</td>\n",
       "      <td>1.429998e+00</td>\n",
       "    </tr>\n",
       "    <tr>\n",
       "      <th>76.396</th>\n",
       "      <td>42.724646</td>\n",
       "      <td>-84.480770</td>\n",
       "      <td>275.60</td>\n",
       "      <td>0.79</td>\n",
       "      <td>-0.90</td>\n",
       "      <td>-0.20</td>\n",
       "      <td>-3.477185</td>\n",
       "      <td>2.743907</td>\n",
       "      <td>1.449998e+00</td>\n",
       "    </tr>\n",
       "    <tr>\n",
       "      <th>76.731</th>\n",
       "      <td>42.724648</td>\n",
       "      <td>-84.480773</td>\n",
       "      <td>275.58</td>\n",
       "      <td>0.56</td>\n",
       "      <td>-1.01</td>\n",
       "      <td>0.11</td>\n",
       "      <td>-2.521792</td>\n",
       "      <td>1.959641</td>\n",
       "      <td>1.092499e+00</td>\n",
       "    </tr>\n",
       "  </tbody>\n",
       "</table>\n",
       "<p>231 rows × 9 columns</p>\n",
       "</div>"
      ],
      "text/plain": [
       "              lat        lon     alt    vx    vy    vz         x         y  \\\n",
       "time                                                                         \n",
       "0.140   42.724676 -84.480802  274.12 -0.01 -0.02 -0.00 -0.002777 -0.002048   \n",
       "0.473   42.724676 -84.480802  274.12  0.00 -0.02 -0.00 -0.008332 -0.006143   \n",
       "0.806   42.724676 -84.480802  274.12  0.00 -0.02 -0.00 -0.016664 -0.014334   \n",
       "1.138   42.724676 -84.480802  274.11  0.00 -0.02 -0.00 -0.027773 -0.024572   \n",
       "1.471   42.724675 -84.480802  274.11  0.00 -0.02 -0.00 -0.038882 -0.034811   \n",
       "...           ...        ...     ...   ...   ...   ...       ...       ...   \n",
       "75.398  42.724638 -84.480762  275.50  1.22 -0.39 -0.20 -4.354813  3.307023   \n",
       "75.731  42.724641 -84.480763  275.55  0.92 -0.65 -0.00 -4.024314  3.167779   \n",
       "76.063  42.724644 -84.480766  275.55  0.89 -0.89 -0.01 -3.732697  2.985535   \n",
       "76.396  42.724646 -84.480770  275.60  0.79 -0.90 -0.20 -3.477185  2.743907   \n",
       "76.731  42.724648 -84.480773  275.58  0.56 -1.01  0.11 -2.521792  1.959641   \n",
       "\n",
       "                   z  \n",
       "time                  \n",
       "0.140  -2.407505e-10  \n",
       "0.473  -2.381766e-10  \n",
       "0.806  -2.500000e-03  \n",
       "1.138  -5.000000e-03  \n",
       "1.471  -5.000000e-03  \n",
       "...              ...  \n",
       "75.398  1.384998e+00  \n",
       "75.731  1.397498e+00  \n",
       "76.063  1.429998e+00  \n",
       "76.396  1.449998e+00  \n",
       "76.731  1.092499e+00  \n",
       "\n",
       "[231 rows x 9 columns]"
      ]
     },
     "execution_count": 4,
     "metadata": {},
     "output_type": "execute_result"
    }
   ],
   "source": [
    "def moving_average(x, n=3):\n",
    "    return np.convolve(x, np.ones(n), 'same') / n\n",
    "\n",
    "avg_flag = True\n",
    "\n",
    "if avg_flag:\n",
    "\n",
    "    # Take moving average of input data:\n",
    "\n",
    "    n = 4\n",
    "\n",
    "    df['x'] = moving_average(df['x'], n)\n",
    "    df['y'] = moving_average(df['y'], n)\n",
    "    df['z'] = moving_average(df['z'], n)\n",
    "\n",
    "df"
   ]
  },
  {
   "cell_type": "markdown",
   "metadata": {},
   "source": [
    "Calculate the prediction for the next timestamp using the current position and velocity.\n",
    "\n",
    "In `df`, `x_pred`, `y_pred`, and `z_pred` are the current timestamp's predcitions for the next timestamp.\n",
    "\n",
    "In `df_shifted`, the `*_pred` columns hold last timestamp's predction for this timestamp.\n",
    "\n",
    "`df_shifted` is better for computing error metrics, and `df` is better for plotting.\n"
   ]
  },
  {
   "cell_type": "code",
   "execution_count": 5,
   "metadata": {},
   "outputs": [
    {
     "data": {
      "text/html": [
       "<div>\n",
       "<style scoped>\n",
       "    .dataframe tbody tr th:only-of-type {\n",
       "        vertical-align: middle;\n",
       "    }\n",
       "\n",
       "    .dataframe tbody tr th {\n",
       "        vertical-align: top;\n",
       "    }\n",
       "\n",
       "    .dataframe thead th {\n",
       "        text-align: right;\n",
       "    }\n",
       "</style>\n",
       "<table border=\"1\" class=\"dataframe\">\n",
       "  <thead>\n",
       "    <tr style=\"text-align: right;\">\n",
       "      <th></th>\n",
       "      <th>lat</th>\n",
       "      <th>lon</th>\n",
       "      <th>alt</th>\n",
       "      <th>vx</th>\n",
       "      <th>vy</th>\n",
       "      <th>vz</th>\n",
       "      <th>x</th>\n",
       "      <th>y</th>\n",
       "      <th>z</th>\n",
       "      <th>dt</th>\n",
       "      <th>x_pred</th>\n",
       "      <th>y_pred</th>\n",
       "      <th>z_pred</th>\n",
       "    </tr>\n",
       "    <tr>\n",
       "      <th>time</th>\n",
       "      <th></th>\n",
       "      <th></th>\n",
       "      <th></th>\n",
       "      <th></th>\n",
       "      <th></th>\n",
       "      <th></th>\n",
       "      <th></th>\n",
       "      <th></th>\n",
       "      <th></th>\n",
       "      <th></th>\n",
       "      <th></th>\n",
       "      <th></th>\n",
       "      <th></th>\n",
       "    </tr>\n",
       "  </thead>\n",
       "  <tbody>\n",
       "    <tr>\n",
       "      <th>0.140</th>\n",
       "      <td>42.724676</td>\n",
       "      <td>-84.480802</td>\n",
       "      <td>274.12</td>\n",
       "      <td>-0.01</td>\n",
       "      <td>-0.02</td>\n",
       "      <td>-0.00</td>\n",
       "      <td>-0.002777</td>\n",
       "      <td>-0.002048</td>\n",
       "      <td>-2.407505e-10</td>\n",
       "      <td>0.333</td>\n",
       "      <td>-0.006107</td>\n",
       "      <td>-0.008708</td>\n",
       "      <td>-2.407505e-10</td>\n",
       "    </tr>\n",
       "    <tr>\n",
       "      <th>0.473</th>\n",
       "      <td>42.724676</td>\n",
       "      <td>-84.480802</td>\n",
       "      <td>274.12</td>\n",
       "      <td>0.00</td>\n",
       "      <td>-0.02</td>\n",
       "      <td>-0.00</td>\n",
       "      <td>-0.008332</td>\n",
       "      <td>-0.006143</td>\n",
       "      <td>-2.381766e-10</td>\n",
       "      <td>0.333</td>\n",
       "      <td>-0.008332</td>\n",
       "      <td>-0.012803</td>\n",
       "      <td>-2.381766e-10</td>\n",
       "    </tr>\n",
       "    <tr>\n",
       "      <th>0.806</th>\n",
       "      <td>42.724676</td>\n",
       "      <td>-84.480802</td>\n",
       "      <td>274.12</td>\n",
       "      <td>0.00</td>\n",
       "      <td>-0.02</td>\n",
       "      <td>-0.00</td>\n",
       "      <td>-0.016664</td>\n",
       "      <td>-0.014334</td>\n",
       "      <td>-2.500000e-03</td>\n",
       "      <td>0.332</td>\n",
       "      <td>-0.016664</td>\n",
       "      <td>-0.020974</td>\n",
       "      <td>-2.500000e-03</td>\n",
       "    </tr>\n",
       "    <tr>\n",
       "      <th>1.138</th>\n",
       "      <td>42.724676</td>\n",
       "      <td>-84.480802</td>\n",
       "      <td>274.11</td>\n",
       "      <td>0.00</td>\n",
       "      <td>-0.02</td>\n",
       "      <td>-0.00</td>\n",
       "      <td>-0.027773</td>\n",
       "      <td>-0.024572</td>\n",
       "      <td>-5.000000e-03</td>\n",
       "      <td>0.333</td>\n",
       "      <td>-0.027773</td>\n",
       "      <td>-0.031232</td>\n",
       "      <td>-5.000000e-03</td>\n",
       "    </tr>\n",
       "    <tr>\n",
       "      <th>1.471</th>\n",
       "      <td>42.724675</td>\n",
       "      <td>-84.480802</td>\n",
       "      <td>274.11</td>\n",
       "      <td>0.00</td>\n",
       "      <td>-0.02</td>\n",
       "      <td>-0.00</td>\n",
       "      <td>-0.038882</td>\n",
       "      <td>-0.034811</td>\n",
       "      <td>-5.000000e-03</td>\n",
       "      <td>0.335</td>\n",
       "      <td>-0.038882</td>\n",
       "      <td>-0.041511</td>\n",
       "      <td>-5.000000e-03</td>\n",
       "    </tr>\n",
       "    <tr>\n",
       "      <th>...</th>\n",
       "      <td>...</td>\n",
       "      <td>...</td>\n",
       "      <td>...</td>\n",
       "      <td>...</td>\n",
       "      <td>...</td>\n",
       "      <td>...</td>\n",
       "      <td>...</td>\n",
       "      <td>...</td>\n",
       "      <td>...</td>\n",
       "      <td>...</td>\n",
       "      <td>...</td>\n",
       "      <td>...</td>\n",
       "      <td>...</td>\n",
       "    </tr>\n",
       "    <tr>\n",
       "      <th>75.398</th>\n",
       "      <td>42.724638</td>\n",
       "      <td>-84.480762</td>\n",
       "      <td>275.50</td>\n",
       "      <td>1.22</td>\n",
       "      <td>-0.39</td>\n",
       "      <td>-0.20</td>\n",
       "      <td>-4.354813</td>\n",
       "      <td>3.307023</td>\n",
       "      <td>1.384998e+00</td>\n",
       "      <td>0.333</td>\n",
       "      <td>-3.948553</td>\n",
       "      <td>3.177153</td>\n",
       "      <td>1.318398e+00</td>\n",
       "    </tr>\n",
       "    <tr>\n",
       "      <th>75.731</th>\n",
       "      <td>42.724641</td>\n",
       "      <td>-84.480763</td>\n",
       "      <td>275.55</td>\n",
       "      <td>0.92</td>\n",
       "      <td>-0.65</td>\n",
       "      <td>-0.00</td>\n",
       "      <td>-4.024314</td>\n",
       "      <td>3.167779</td>\n",
       "      <td>1.397498e+00</td>\n",
       "      <td>0.332</td>\n",
       "      <td>-3.718874</td>\n",
       "      <td>2.951979</td>\n",
       "      <td>1.397498e+00</td>\n",
       "    </tr>\n",
       "    <tr>\n",
       "      <th>76.063</th>\n",
       "      <td>42.724644</td>\n",
       "      <td>-84.480766</td>\n",
       "      <td>275.55</td>\n",
       "      <td>0.89</td>\n",
       "      <td>-0.89</td>\n",
       "      <td>-0.01</td>\n",
       "      <td>-3.732697</td>\n",
       "      <td>2.985535</td>\n",
       "      <td>1.429998e+00</td>\n",
       "      <td>0.333</td>\n",
       "      <td>-3.436327</td>\n",
       "      <td>2.689165</td>\n",
       "      <td>1.426668e+00</td>\n",
       "    </tr>\n",
       "    <tr>\n",
       "      <th>76.396</th>\n",
       "      <td>42.724646</td>\n",
       "      <td>-84.480770</td>\n",
       "      <td>275.60</td>\n",
       "      <td>0.79</td>\n",
       "      <td>-0.90</td>\n",
       "      <td>-0.20</td>\n",
       "      <td>-3.477185</td>\n",
       "      <td>2.743907</td>\n",
       "      <td>1.449998e+00</td>\n",
       "      <td>0.335</td>\n",
       "      <td>-3.212535</td>\n",
       "      <td>2.442407</td>\n",
       "      <td>1.382998e+00</td>\n",
       "    </tr>\n",
       "    <tr>\n",
       "      <th>76.731</th>\n",
       "      <td>42.724648</td>\n",
       "      <td>-84.480773</td>\n",
       "      <td>275.58</td>\n",
       "      <td>0.56</td>\n",
       "      <td>-1.01</td>\n",
       "      <td>0.11</td>\n",
       "      <td>-2.521792</td>\n",
       "      <td>1.959641</td>\n",
       "      <td>1.092499e+00</td>\n",
       "      <td>NaN</td>\n",
       "      <td>NaN</td>\n",
       "      <td>NaN</td>\n",
       "      <td>NaN</td>\n",
       "    </tr>\n",
       "  </tbody>\n",
       "</table>\n",
       "<p>231 rows × 13 columns</p>\n",
       "</div>"
      ],
      "text/plain": [
       "              lat        lon     alt    vx    vy    vz         x         y  \\\n",
       "time                                                                         \n",
       "0.140   42.724676 -84.480802  274.12 -0.01 -0.02 -0.00 -0.002777 -0.002048   \n",
       "0.473   42.724676 -84.480802  274.12  0.00 -0.02 -0.00 -0.008332 -0.006143   \n",
       "0.806   42.724676 -84.480802  274.12  0.00 -0.02 -0.00 -0.016664 -0.014334   \n",
       "1.138   42.724676 -84.480802  274.11  0.00 -0.02 -0.00 -0.027773 -0.024572   \n",
       "1.471   42.724675 -84.480802  274.11  0.00 -0.02 -0.00 -0.038882 -0.034811   \n",
       "...           ...        ...     ...   ...   ...   ...       ...       ...   \n",
       "75.398  42.724638 -84.480762  275.50  1.22 -0.39 -0.20 -4.354813  3.307023   \n",
       "75.731  42.724641 -84.480763  275.55  0.92 -0.65 -0.00 -4.024314  3.167779   \n",
       "76.063  42.724644 -84.480766  275.55  0.89 -0.89 -0.01 -3.732697  2.985535   \n",
       "76.396  42.724646 -84.480770  275.60  0.79 -0.90 -0.20 -3.477185  2.743907   \n",
       "76.731  42.724648 -84.480773  275.58  0.56 -1.01  0.11 -2.521792  1.959641   \n",
       "\n",
       "                   z     dt    x_pred    y_pred        z_pred  \n",
       "time                                                           \n",
       "0.140  -2.407505e-10  0.333 -0.006107 -0.008708 -2.407505e-10  \n",
       "0.473  -2.381766e-10  0.333 -0.008332 -0.012803 -2.381766e-10  \n",
       "0.806  -2.500000e-03  0.332 -0.016664 -0.020974 -2.500000e-03  \n",
       "1.138  -5.000000e-03  0.333 -0.027773 -0.031232 -5.000000e-03  \n",
       "1.471  -5.000000e-03  0.335 -0.038882 -0.041511 -5.000000e-03  \n",
       "...              ...    ...       ...       ...           ...  \n",
       "75.398  1.384998e+00  0.333 -3.948553  3.177153  1.318398e+00  \n",
       "75.731  1.397498e+00  0.332 -3.718874  2.951979  1.397498e+00  \n",
       "76.063  1.429998e+00  0.333 -3.436327  2.689165  1.426668e+00  \n",
       "76.396  1.449998e+00  0.335 -3.212535  2.442407  1.382998e+00  \n",
       "76.731  1.092499e+00    NaN       NaN       NaN           NaN  \n",
       "\n",
       "[231 rows x 13 columns]"
      ]
     },
     "execution_count": 5,
     "metadata": {},
     "output_type": "execute_result"
    }
   ],
   "source": [
    "# dt is the time to the next timestamp\n",
    "df['dt'] = df.index.to_series().diff().shift(-1)\n",
    "\n",
    "# Our guess for the position at the next timestamp is the current position plus the velocity times the time to the next timestamp\n",
    "df['x_pred'] = df['x'] + df['vx'] * df['dt']\n",
    "df['y_pred'] = df['y'] + df['vy'] * df['dt']\n",
    "df['z_pred'] = df['z'] + df['vz'] * df['dt']\n",
    "\n",
    "# now we need to shift the predictions forward one\n",
    "# df_shifted now has the prediction for the current timestamp from the last timestamp\n",
    "df_shifted = df.copy()\n",
    "df_shifted['x_pred'] = df['x_pred'].shift(1)\n",
    "df_shifted['y_pred'] = df['y_pred'].shift(1)\n",
    "df_shifted['z_pred'] = df['z_pred'].shift(1)\n",
    "\n",
    "\n",
    "df"
   ]
  },
  {
   "cell_type": "code",
   "execution_count": 6,
   "metadata": {},
   "outputs": [
    {
     "data": {
      "text/plain": [
       "time\n",
       "0.140           NaN\n",
       "0.473      0.339502\n",
       "0.806      0.883255\n",
       "1.138      1.194209\n",
       "1.471      1.167133\n",
       "            ...    \n",
       "75.398     3.556635\n",
       "75.731    10.992914\n",
       "76.063     4.871658\n",
       "76.396     7.218311\n",
       "76.731    89.139121\n",
       "Length: 231, dtype: float64"
      ]
     },
     "execution_count": 6,
     "metadata": {},
     "output_type": "execute_result"
    }
   ],
   "source": [
    "error = 100 * np.sqrt( # euclidean distance - centimeters\n",
    "    (df_shifted['x_pred'] - df_shifted['x'])**2 +\n",
    "    (df_shifted['y_pred'] - df_shifted['y'])**2 +\n",
    "    (df_shifted['z_pred'] - df_shifted['z'])**2\n",
    ")  \n",
    "error"
   ]
  },
  {
   "cell_type": "code",
   "execution_count": 7,
   "metadata": {},
   "outputs": [
    {
     "data": {
      "application/vnd.plotly.v1+json": {
       "config": {
        "plotlyServerURL": "https://plot.ly"
       },
       "data": [
        {
         "alignmentgroup": "True",
         "bingroup": "x",
         "hovertemplate": "variable=0<br>value=%{x}<br>count=%{y}<extra></extra>",
         "legendgroup": "0",
         "marker": {
          "color": "#636efa",
          "pattern": {
           "shape": ""
          }
         },
         "name": "0",
         "nbinsx": 50,
         "offsetgroup": "0",
         "orientation": "v",
         "showlegend": true,
         "type": "histogram",
         "x": [
          null,
          0.3395019288884251,
          0.8832552400666746,
          1.1942090545015636,
          1.1671331944802361,
          1.192414823565467,
          1.22808604012661,
          1.397063543819922,
          1.4009983616653023,
          2.062546286886279,
          2.194045975636366,
          1.5084085771314437,
          1.9536113055273567,
          1.5913534032567833,
          1.5588735886829392,
          2.0707896513925372,
          2.2757288425798867,
          2.461837585108313,
          2.4270068191731426,
          5.593594779802561,
          7.9984966704752924,
          2.1050929522835453,
          7.369189367657972,
          15.34577843446297,
          13.277665835382974,
          11.289792562623322,
          10.218989903353348,
          5.913023115062673,
          8.746214170358051,
          7.853882521801222,
          5.985457422924748,
          3.4992935364860145,
          7.78111624011095,
          10.307189129372258,
          7.094927112333988,
          5.736138195585987,
          6.4476728686838705,
          8.119153322984262,
          10.166483869907733,
          7.340289200012899,
          6.454023856124555,
          3.302050942235011,
          3.6018073701867257,
          4.224936714295495,
          6.4864951839514555,
          8.717195953245731,
          7.96127372145004,
          8.482456452815434,
          16.049129466934712,
          11.90142752868252,
          10.300590108977122,
          7.62649188801481,
          4.807079672293554,
          9.390251498491995,
          6.234544203620341,
          6.1184716464483095,
          7.32525028257085,
          4.502808927324388,
          6.663140682964051,
          8.488061011313436,
          4.750042064752794,
          9.594168609921992,
          5.64863338377296,
          5.2813294144677885,
          8.567156783345537,
          5.783731292037031,
          5.53805045626918,
          4.133296985328315,
          2.318998157432949,
          4.149801162691973,
          4.693341242937354,
          4.023361927709143,
          4.512424212754762,
          8.988395723568303,
          4.4692778410155265,
          3.9735171331064882,
          8.387732979971274,
          5.851776191884352,
          7.504977753644337,
          9.569349760737627,
          5.917237463488175,
          5.944604417010011,
          3.0452350745281276,
          5.7860802414260375,
          3.5919310855833775,
          5.194914382491348,
          4.380104354053272,
          4.035767032747112,
          6.765505480094397,
          5.1198909514154725,
          2.662331392938998,
          4.5937363350121805,
          3.9252329767090983,
          7.2482428753863735,
          6.4955462903300925,
          4.931346639483664,
          8.03045166635677,
          2.202238883775499,
          2.6505894268537458,
          9.119602170123597,
          7.0564684722813436,
          11.221740681054037,
          8.549213067751788,
          8.874609914331113,
          8.331937006090403,
          8.093954273144991,
          10.472046534558466,
          10.65338426076375,
          6.62343531095351,
          9.966655601353432,
          10.51525850463452,
          4.240934123534922,
          7.794079697683269,
          6.917615930702425,
          4.089702231543988,
          0.4641364936352659,
          8.114688635057703,
          1.7033399960187687,
          7.004071013596401,
          5.627335037235847,
          3.9840924821814463,
          10.76388396415221,
          7.120327557102439,
          8.406544662177653,
          9.707484884806155,
          5.510626472692637,
          4.390843379539911,
          1.5627127044135183,
          4.254917448000316,
          9.335362088251534,
          5.151211638726803,
          8.110278811786179,
          11.214650591415792,
          8.071083330672323,
          9.060912403019426,
          6.963609494631723,
          7.643128695556753,
          8.708941481589235,
          7.161144982533721,
          11.85762279334578,
          5.280701723950926,
          5.275338982229652,
          10.930784786856837,
          5.294505108828365,
          4.7806972998653805,
          5.670300212034565,
          12.251476482892839,
          6.187240612685948,
          11.754192676855693,
          12.609823605255762,
          8.171558095933271,
          9.990223315537744,
          8.606092434167694,
          3.0843009895714006,
          9.517249482265267,
          15.118510461348212,
          15.525365356657698,
          20.370382940502225,
          14.0939396849324,
          11.88478711014283,
          12.702023669507328,
          9.056829461722373,
          11.86431270850972,
          6.174323073711062,
          5.975046357634845,
          3.208519370419813,
          5.473909307534537,
          8.915909135945748,
          10.779842999692374,
          4.426118700183046,
          7.010178653132529,
          3.988400355140044,
          10.90669850659572,
          6.138002485882456,
          12.893232642478239,
          12.10386049626539,
          6.6395284826544305,
          9.121567353633484,
          6.468674552677073,
          5.487025965151585,
          6.160383021711006,
          6.399912760673724,
          6.325481821158924,
          5.218952398800545,
          9.49463941076955,
          8.06347314942745,
          10.361657713369942,
          3.925608548883544,
          5.511928254083258,
          3.8681607315627744,
          10.280087538296325,
          5.922487397337517,
          2.7105170147968147,
          7.891997342231306,
          4.339035532935755,
          3.632989366172401,
          5.007897450839172,
          5.627787923133843,
          8.539478265818078,
          3.147457555109321,
          7.194943387140137,
          7.508007834169031,
          5.273285383255702,
          5.27542914080568,
          4.874292579354359,
          3.836490343765793,
          6.83910886508734,
          5.751871447422466,
          3.7555199271680917,
          6.5060103881164375,
          2.8849595311324543,
          8.393678833520324,
          9.632025198771514,
          6.921059718245812,
          5.719420884172611,
          4.410927946694897,
          5.4174242793387295,
          7.804631168001388,
          4.946375096410361,
          2.084809038940598,
          2.791162154398866,
          4.005829122976307,
          4.703098967897818,
          2.7520104015365816,
          6.295217351297142,
          7.895855935125364,
          3.5566347155262856,
          10.992914138328123,
          4.871657954569317,
          7.218310782142214,
          89.13912063346854
         ],
         "xaxis": "x",
         "yaxis": "y"
        },
        {
         "alignmentgroup": "True",
         "hovertemplate": "variable=0<br>value=%{x}<extra></extra>",
         "legendgroup": "0",
         "marker": {
          "color": "#636efa"
         },
         "name": "0",
         "offsetgroup": "0",
         "scalegroup": "x",
         "showlegend": false,
         "type": "violin",
         "x": [
          null,
          0.3395019288884251,
          0.8832552400666746,
          1.1942090545015636,
          1.1671331944802361,
          1.192414823565467,
          1.22808604012661,
          1.397063543819922,
          1.4009983616653023,
          2.062546286886279,
          2.194045975636366,
          1.5084085771314437,
          1.9536113055273567,
          1.5913534032567833,
          1.5588735886829392,
          2.0707896513925372,
          2.2757288425798867,
          2.461837585108313,
          2.4270068191731426,
          5.593594779802561,
          7.9984966704752924,
          2.1050929522835453,
          7.369189367657972,
          15.34577843446297,
          13.277665835382974,
          11.289792562623322,
          10.218989903353348,
          5.913023115062673,
          8.746214170358051,
          7.853882521801222,
          5.985457422924748,
          3.4992935364860145,
          7.78111624011095,
          10.307189129372258,
          7.094927112333988,
          5.736138195585987,
          6.4476728686838705,
          8.119153322984262,
          10.166483869907733,
          7.340289200012899,
          6.454023856124555,
          3.302050942235011,
          3.6018073701867257,
          4.224936714295495,
          6.4864951839514555,
          8.717195953245731,
          7.96127372145004,
          8.482456452815434,
          16.049129466934712,
          11.90142752868252,
          10.300590108977122,
          7.62649188801481,
          4.807079672293554,
          9.390251498491995,
          6.234544203620341,
          6.1184716464483095,
          7.32525028257085,
          4.502808927324388,
          6.663140682964051,
          8.488061011313436,
          4.750042064752794,
          9.594168609921992,
          5.64863338377296,
          5.2813294144677885,
          8.567156783345537,
          5.783731292037031,
          5.53805045626918,
          4.133296985328315,
          2.318998157432949,
          4.149801162691973,
          4.693341242937354,
          4.023361927709143,
          4.512424212754762,
          8.988395723568303,
          4.4692778410155265,
          3.9735171331064882,
          8.387732979971274,
          5.851776191884352,
          7.504977753644337,
          9.569349760737627,
          5.917237463488175,
          5.944604417010011,
          3.0452350745281276,
          5.7860802414260375,
          3.5919310855833775,
          5.194914382491348,
          4.380104354053272,
          4.035767032747112,
          6.765505480094397,
          5.1198909514154725,
          2.662331392938998,
          4.5937363350121805,
          3.9252329767090983,
          7.2482428753863735,
          6.4955462903300925,
          4.931346639483664,
          8.03045166635677,
          2.202238883775499,
          2.6505894268537458,
          9.119602170123597,
          7.0564684722813436,
          11.221740681054037,
          8.549213067751788,
          8.874609914331113,
          8.331937006090403,
          8.093954273144991,
          10.472046534558466,
          10.65338426076375,
          6.62343531095351,
          9.966655601353432,
          10.51525850463452,
          4.240934123534922,
          7.794079697683269,
          6.917615930702425,
          4.089702231543988,
          0.4641364936352659,
          8.114688635057703,
          1.7033399960187687,
          7.004071013596401,
          5.627335037235847,
          3.9840924821814463,
          10.76388396415221,
          7.120327557102439,
          8.406544662177653,
          9.707484884806155,
          5.510626472692637,
          4.390843379539911,
          1.5627127044135183,
          4.254917448000316,
          9.335362088251534,
          5.151211638726803,
          8.110278811786179,
          11.214650591415792,
          8.071083330672323,
          9.060912403019426,
          6.963609494631723,
          7.643128695556753,
          8.708941481589235,
          7.161144982533721,
          11.85762279334578,
          5.280701723950926,
          5.275338982229652,
          10.930784786856837,
          5.294505108828365,
          4.7806972998653805,
          5.670300212034565,
          12.251476482892839,
          6.187240612685948,
          11.754192676855693,
          12.609823605255762,
          8.171558095933271,
          9.990223315537744,
          8.606092434167694,
          3.0843009895714006,
          9.517249482265267,
          15.118510461348212,
          15.525365356657698,
          20.370382940502225,
          14.0939396849324,
          11.88478711014283,
          12.702023669507328,
          9.056829461722373,
          11.86431270850972,
          6.174323073711062,
          5.975046357634845,
          3.208519370419813,
          5.473909307534537,
          8.915909135945748,
          10.779842999692374,
          4.426118700183046,
          7.010178653132529,
          3.988400355140044,
          10.90669850659572,
          6.138002485882456,
          12.893232642478239,
          12.10386049626539,
          6.6395284826544305,
          9.121567353633484,
          6.468674552677073,
          5.487025965151585,
          6.160383021711006,
          6.399912760673724,
          6.325481821158924,
          5.218952398800545,
          9.49463941076955,
          8.06347314942745,
          10.361657713369942,
          3.925608548883544,
          5.511928254083258,
          3.8681607315627744,
          10.280087538296325,
          5.922487397337517,
          2.7105170147968147,
          7.891997342231306,
          4.339035532935755,
          3.632989366172401,
          5.007897450839172,
          5.627787923133843,
          8.539478265818078,
          3.147457555109321,
          7.194943387140137,
          7.508007834169031,
          5.273285383255702,
          5.27542914080568,
          4.874292579354359,
          3.836490343765793,
          6.83910886508734,
          5.751871447422466,
          3.7555199271680917,
          6.5060103881164375,
          2.8849595311324543,
          8.393678833520324,
          9.632025198771514,
          6.921059718245812,
          5.719420884172611,
          4.410927946694897,
          5.4174242793387295,
          7.804631168001388,
          4.946375096410361,
          2.084809038940598,
          2.791162154398866,
          4.005829122976307,
          4.703098967897818,
          2.7520104015365816,
          6.295217351297142,
          7.895855935125364,
          3.5566347155262856,
          10.992914138328123,
          4.871657954569317,
          7.218310782142214,
          89.13912063346854
         ],
         "xaxis": "x2",
         "yaxis": "y2"
        }
       ],
       "layout": {
        "bargap": 0.2,
        "bargroupgap": 0.1,
        "barmode": "relative",
        "legend": {
         "title": {
          "text": "variable"
         },
         "tracegroupgap": 0
        },
        "margin": {
         "t": 60
        },
        "template": {
         "data": {
          "bar": [
           {
            "error_x": {
             "color": "#2a3f5f"
            },
            "error_y": {
             "color": "#2a3f5f"
            },
            "marker": {
             "line": {
              "color": "#E5ECF6",
              "width": 0.5
             },
             "pattern": {
              "fillmode": "overlay",
              "size": 10,
              "solidity": 0.2
             }
            },
            "type": "bar"
           }
          ],
          "barpolar": [
           {
            "marker": {
             "line": {
              "color": "#E5ECF6",
              "width": 0.5
             },
             "pattern": {
              "fillmode": "overlay",
              "size": 10,
              "solidity": 0.2
             }
            },
            "type": "barpolar"
           }
          ],
          "carpet": [
           {
            "aaxis": {
             "endlinecolor": "#2a3f5f",
             "gridcolor": "white",
             "linecolor": "white",
             "minorgridcolor": "white",
             "startlinecolor": "#2a3f5f"
            },
            "baxis": {
             "endlinecolor": "#2a3f5f",
             "gridcolor": "white",
             "linecolor": "white",
             "minorgridcolor": "white",
             "startlinecolor": "#2a3f5f"
            },
            "type": "carpet"
           }
          ],
          "choropleth": [
           {
            "colorbar": {
             "outlinewidth": 0,
             "ticks": ""
            },
            "type": "choropleth"
           }
          ],
          "contour": [
           {
            "colorbar": {
             "outlinewidth": 0,
             "ticks": ""
            },
            "colorscale": [
             [
              0,
              "#0d0887"
             ],
             [
              0.1111111111111111,
              "#46039f"
             ],
             [
              0.2222222222222222,
              "#7201a8"
             ],
             [
              0.3333333333333333,
              "#9c179e"
             ],
             [
              0.4444444444444444,
              "#bd3786"
             ],
             [
              0.5555555555555556,
              "#d8576b"
             ],
             [
              0.6666666666666666,
              "#ed7953"
             ],
             [
              0.7777777777777778,
              "#fb9f3a"
             ],
             [
              0.8888888888888888,
              "#fdca26"
             ],
             [
              1,
              "#f0f921"
             ]
            ],
            "type": "contour"
           }
          ],
          "contourcarpet": [
           {
            "colorbar": {
             "outlinewidth": 0,
             "ticks": ""
            },
            "type": "contourcarpet"
           }
          ],
          "heatmap": [
           {
            "colorbar": {
             "outlinewidth": 0,
             "ticks": ""
            },
            "colorscale": [
             [
              0,
              "#0d0887"
             ],
             [
              0.1111111111111111,
              "#46039f"
             ],
             [
              0.2222222222222222,
              "#7201a8"
             ],
             [
              0.3333333333333333,
              "#9c179e"
             ],
             [
              0.4444444444444444,
              "#bd3786"
             ],
             [
              0.5555555555555556,
              "#d8576b"
             ],
             [
              0.6666666666666666,
              "#ed7953"
             ],
             [
              0.7777777777777778,
              "#fb9f3a"
             ],
             [
              0.8888888888888888,
              "#fdca26"
             ],
             [
              1,
              "#f0f921"
             ]
            ],
            "type": "heatmap"
           }
          ],
          "heatmapgl": [
           {
            "colorbar": {
             "outlinewidth": 0,
             "ticks": ""
            },
            "colorscale": [
             [
              0,
              "#0d0887"
             ],
             [
              0.1111111111111111,
              "#46039f"
             ],
             [
              0.2222222222222222,
              "#7201a8"
             ],
             [
              0.3333333333333333,
              "#9c179e"
             ],
             [
              0.4444444444444444,
              "#bd3786"
             ],
             [
              0.5555555555555556,
              "#d8576b"
             ],
             [
              0.6666666666666666,
              "#ed7953"
             ],
             [
              0.7777777777777778,
              "#fb9f3a"
             ],
             [
              0.8888888888888888,
              "#fdca26"
             ],
             [
              1,
              "#f0f921"
             ]
            ],
            "type": "heatmapgl"
           }
          ],
          "histogram": [
           {
            "marker": {
             "pattern": {
              "fillmode": "overlay",
              "size": 10,
              "solidity": 0.2
             }
            },
            "type": "histogram"
           }
          ],
          "histogram2d": [
           {
            "colorbar": {
             "outlinewidth": 0,
             "ticks": ""
            },
            "colorscale": [
             [
              0,
              "#0d0887"
             ],
             [
              0.1111111111111111,
              "#46039f"
             ],
             [
              0.2222222222222222,
              "#7201a8"
             ],
             [
              0.3333333333333333,
              "#9c179e"
             ],
             [
              0.4444444444444444,
              "#bd3786"
             ],
             [
              0.5555555555555556,
              "#d8576b"
             ],
             [
              0.6666666666666666,
              "#ed7953"
             ],
             [
              0.7777777777777778,
              "#fb9f3a"
             ],
             [
              0.8888888888888888,
              "#fdca26"
             ],
             [
              1,
              "#f0f921"
             ]
            ],
            "type": "histogram2d"
           }
          ],
          "histogram2dcontour": [
           {
            "colorbar": {
             "outlinewidth": 0,
             "ticks": ""
            },
            "colorscale": [
             [
              0,
              "#0d0887"
             ],
             [
              0.1111111111111111,
              "#46039f"
             ],
             [
              0.2222222222222222,
              "#7201a8"
             ],
             [
              0.3333333333333333,
              "#9c179e"
             ],
             [
              0.4444444444444444,
              "#bd3786"
             ],
             [
              0.5555555555555556,
              "#d8576b"
             ],
             [
              0.6666666666666666,
              "#ed7953"
             ],
             [
              0.7777777777777778,
              "#fb9f3a"
             ],
             [
              0.8888888888888888,
              "#fdca26"
             ],
             [
              1,
              "#f0f921"
             ]
            ],
            "type": "histogram2dcontour"
           }
          ],
          "mesh3d": [
           {
            "colorbar": {
             "outlinewidth": 0,
             "ticks": ""
            },
            "type": "mesh3d"
           }
          ],
          "parcoords": [
           {
            "line": {
             "colorbar": {
              "outlinewidth": 0,
              "ticks": ""
             }
            },
            "type": "parcoords"
           }
          ],
          "pie": [
           {
            "automargin": true,
            "type": "pie"
           }
          ],
          "scatter": [
           {
            "fillpattern": {
             "fillmode": "overlay",
             "size": 10,
             "solidity": 0.2
            },
            "type": "scatter"
           }
          ],
          "scatter3d": [
           {
            "line": {
             "colorbar": {
              "outlinewidth": 0,
              "ticks": ""
             }
            },
            "marker": {
             "colorbar": {
              "outlinewidth": 0,
              "ticks": ""
             }
            },
            "type": "scatter3d"
           }
          ],
          "scattercarpet": [
           {
            "marker": {
             "colorbar": {
              "outlinewidth": 0,
              "ticks": ""
             }
            },
            "type": "scattercarpet"
           }
          ],
          "scattergeo": [
           {
            "marker": {
             "colorbar": {
              "outlinewidth": 0,
              "ticks": ""
             }
            },
            "type": "scattergeo"
           }
          ],
          "scattergl": [
           {
            "marker": {
             "colorbar": {
              "outlinewidth": 0,
              "ticks": ""
             }
            },
            "type": "scattergl"
           }
          ],
          "scattermapbox": [
           {
            "marker": {
             "colorbar": {
              "outlinewidth": 0,
              "ticks": ""
             }
            },
            "type": "scattermapbox"
           }
          ],
          "scatterpolar": [
           {
            "marker": {
             "colorbar": {
              "outlinewidth": 0,
              "ticks": ""
             }
            },
            "type": "scatterpolar"
           }
          ],
          "scatterpolargl": [
           {
            "marker": {
             "colorbar": {
              "outlinewidth": 0,
              "ticks": ""
             }
            },
            "type": "scatterpolargl"
           }
          ],
          "scatterternary": [
           {
            "marker": {
             "colorbar": {
              "outlinewidth": 0,
              "ticks": ""
             }
            },
            "type": "scatterternary"
           }
          ],
          "surface": [
           {
            "colorbar": {
             "outlinewidth": 0,
             "ticks": ""
            },
            "colorscale": [
             [
              0,
              "#0d0887"
             ],
             [
              0.1111111111111111,
              "#46039f"
             ],
             [
              0.2222222222222222,
              "#7201a8"
             ],
             [
              0.3333333333333333,
              "#9c179e"
             ],
             [
              0.4444444444444444,
              "#bd3786"
             ],
             [
              0.5555555555555556,
              "#d8576b"
             ],
             [
              0.6666666666666666,
              "#ed7953"
             ],
             [
              0.7777777777777778,
              "#fb9f3a"
             ],
             [
              0.8888888888888888,
              "#fdca26"
             ],
             [
              1,
              "#f0f921"
             ]
            ],
            "type": "surface"
           }
          ],
          "table": [
           {
            "cells": {
             "fill": {
              "color": "#EBF0F8"
             },
             "line": {
              "color": "white"
             }
            },
            "header": {
             "fill": {
              "color": "#C8D4E3"
             },
             "line": {
              "color": "white"
             }
            },
            "type": "table"
           }
          ]
         },
         "layout": {
          "annotationdefaults": {
           "arrowcolor": "#2a3f5f",
           "arrowhead": 0,
           "arrowwidth": 1
          },
          "autotypenumbers": "strict",
          "coloraxis": {
           "colorbar": {
            "outlinewidth": 0,
            "ticks": ""
           }
          },
          "colorscale": {
           "diverging": [
            [
             0,
             "#8e0152"
            ],
            [
             0.1,
             "#c51b7d"
            ],
            [
             0.2,
             "#de77ae"
            ],
            [
             0.3,
             "#f1b6da"
            ],
            [
             0.4,
             "#fde0ef"
            ],
            [
             0.5,
             "#f7f7f7"
            ],
            [
             0.6,
             "#e6f5d0"
            ],
            [
             0.7,
             "#b8e186"
            ],
            [
             0.8,
             "#7fbc41"
            ],
            [
             0.9,
             "#4d9221"
            ],
            [
             1,
             "#276419"
            ]
           ],
           "sequential": [
            [
             0,
             "#0d0887"
            ],
            [
             0.1111111111111111,
             "#46039f"
            ],
            [
             0.2222222222222222,
             "#7201a8"
            ],
            [
             0.3333333333333333,
             "#9c179e"
            ],
            [
             0.4444444444444444,
             "#bd3786"
            ],
            [
             0.5555555555555556,
             "#d8576b"
            ],
            [
             0.6666666666666666,
             "#ed7953"
            ],
            [
             0.7777777777777778,
             "#fb9f3a"
            ],
            [
             0.8888888888888888,
             "#fdca26"
            ],
            [
             1,
             "#f0f921"
            ]
           ],
           "sequentialminus": [
            [
             0,
             "#0d0887"
            ],
            [
             0.1111111111111111,
             "#46039f"
            ],
            [
             0.2222222222222222,
             "#7201a8"
            ],
            [
             0.3333333333333333,
             "#9c179e"
            ],
            [
             0.4444444444444444,
             "#bd3786"
            ],
            [
             0.5555555555555556,
             "#d8576b"
            ],
            [
             0.6666666666666666,
             "#ed7953"
            ],
            [
             0.7777777777777778,
             "#fb9f3a"
            ],
            [
             0.8888888888888888,
             "#fdca26"
            ],
            [
             1,
             "#f0f921"
            ]
           ]
          },
          "colorway": [
           "#636efa",
           "#EF553B",
           "#00cc96",
           "#ab63fa",
           "#FFA15A",
           "#19d3f3",
           "#FF6692",
           "#B6E880",
           "#FF97FF",
           "#FECB52"
          ],
          "font": {
           "color": "#2a3f5f"
          },
          "geo": {
           "bgcolor": "white",
           "lakecolor": "white",
           "landcolor": "#E5ECF6",
           "showlakes": true,
           "showland": true,
           "subunitcolor": "white"
          },
          "hoverlabel": {
           "align": "left"
          },
          "hovermode": "closest",
          "mapbox": {
           "style": "light"
          },
          "paper_bgcolor": "white",
          "plot_bgcolor": "#E5ECF6",
          "polar": {
           "angularaxis": {
            "gridcolor": "white",
            "linecolor": "white",
            "ticks": ""
           },
           "bgcolor": "#E5ECF6",
           "radialaxis": {
            "gridcolor": "white",
            "linecolor": "white",
            "ticks": ""
           }
          },
          "scene": {
           "xaxis": {
            "backgroundcolor": "#E5ECF6",
            "gridcolor": "white",
            "gridwidth": 2,
            "linecolor": "white",
            "showbackground": true,
            "ticks": "",
            "zerolinecolor": "white"
           },
           "yaxis": {
            "backgroundcolor": "#E5ECF6",
            "gridcolor": "white",
            "gridwidth": 2,
            "linecolor": "white",
            "showbackground": true,
            "ticks": "",
            "zerolinecolor": "white"
           },
           "zaxis": {
            "backgroundcolor": "#E5ECF6",
            "gridcolor": "white",
            "gridwidth": 2,
            "linecolor": "white",
            "showbackground": true,
            "ticks": "",
            "zerolinecolor": "white"
           }
          },
          "shapedefaults": {
           "line": {
            "color": "#2a3f5f"
           }
          },
          "ternary": {
           "aaxis": {
            "gridcolor": "white",
            "linecolor": "white",
            "ticks": ""
           },
           "baxis": {
            "gridcolor": "white",
            "linecolor": "white",
            "ticks": ""
           },
           "bgcolor": "#E5ECF6",
           "caxis": {
            "gridcolor": "white",
            "linecolor": "white",
            "ticks": ""
           }
          },
          "title": {
           "x": 0.05
          },
          "xaxis": {
           "automargin": true,
           "gridcolor": "white",
           "linecolor": "white",
           "ticks": "",
           "title": {
            "standoff": 15
           },
           "zerolinecolor": "white",
           "zerolinewidth": 2
          },
          "yaxis": {
           "automargin": true,
           "gridcolor": "white",
           "linecolor": "white",
           "ticks": "",
           "title": {
            "standoff": 15
           },
           "zerolinecolor": "white",
           "zerolinewidth": 2
          }
         }
        },
        "title": {
         "text": "Error in Position Prediction"
        },
        "xaxis": {
         "anchor": "y",
         "domain": [
          0,
          1
         ],
         "title": {
          "text": "Error (cm)"
         }
        },
        "xaxis2": {
         "anchor": "y2",
         "domain": [
          0,
          1
         ],
         "matches": "x",
         "showgrid": true,
         "showticklabels": false
        },
        "yaxis": {
         "anchor": "x",
         "domain": [
          0,
          0.7326
         ],
         "title": {
          "text": "Count"
         }
        },
        "yaxis2": {
         "anchor": "x2",
         "domain": [
          0.7426,
          1
         ],
         "matches": "y2",
         "showgrid": false,
         "showline": false,
         "showticklabels": false,
         "ticks": ""
        }
       }
      }
     },
     "metadata": {},
     "output_type": "display_data"
    }
   ],
   "source": [
    "fig = px.histogram(error, nbins=50, marginal=\"violin\") # or violin,)\n",
    "fig.update_layout(\n",
    "    title_text='Error in Position Prediction',\n",
    "    xaxis_title_text='Error (cm)',\n",
    "    yaxis_title_text='Count',\n",
    "    bargap=0.2,\n",
    "    bargroupgap=0.1\n",
    ")"
   ]
  },
  {
   "cell_type": "code",
   "execution_count": 8,
   "metadata": {},
   "outputs": [
    {
     "name": "stdout",
     "output_type": "stream",
     "text": [
      "95% of the error is less than 12.19 cm\n"
     ]
    }
   ],
   "source": [
    "ninefifthpercent = np.quantile(error.dropna(), 0.95)\n",
    "print(f'95% of the error is less than {ninefifthpercent:.2f} cm')"
   ]
  },
  {
   "cell_type": "code",
   "execution_count": 9,
   "metadata": {},
   "outputs": [
    {
     "name": "stdout",
     "output_type": "stream",
     "text": [
      "Average error is 6.95 cm\n"
     ]
    }
   ],
   "source": [
    "av = error.mean()\n",
    "print(f'Average error is {av:.2f} cm')"
   ]
  },
  {
   "cell_type": "code",
   "execution_count": 10,
   "metadata": {},
   "outputs": [
    {
     "name": "stdout",
     "output_type": "stream",
     "text": [
      "Standard Deviation is: 6.36 cm\n"
     ]
    }
   ],
   "source": [
    "sd = error.std()\n",
    "print(f'Standard Deviation is: {sd:.2f} cm')"
   ]
  },
  {
   "cell_type": "code",
   "execution_count": 11,
   "metadata": {},
   "outputs": [
    {
     "name": "stdout",
     "output_type": "stream",
     "text": [
      "67.97% of the error is below 15cm\n"
     ]
    }
   ],
   "source": [
    "below_15 = (error < 8).sum() / len(error)\n",
    "print(f'{below_15:.2%} of the error is below 15cm')"
   ]
  },
  {
   "cell_type": "markdown",
   "metadata": {},
   "source": [
    "Below are plots showing the locations in the telemetry streams (points), and their predicted movement to the next timestamp (lines).\n",
    "\n",
    "In a perfect system, the lines would connect to the position at the next timestamp."
   ]
  },
  {
   "cell_type": "code",
   "execution_count": 12,
   "metadata": {},
   "outputs": [
    {
     "data": {
      "application/vnd.plotly.v1+json": {
       "config": {
        "plotlyServerURL": "https://plot.ly"
       },
       "data": [
        {
         "hovertemplate": "x=%{x}<br>y=%{y}<extra></extra>",
         "legendgroup": "",
         "marker": {
          "color": "#636efa",
          "symbol": "circle"
         },
         "mode": "markers",
         "name": "",
         "orientation": "v",
         "showlegend": false,
         "type": "scatter",
         "x": [
          -0.002777303941683742,
          -0.008331911955189715,
          -0.01666382378074808,
          -0.027773039689084834,
          -0.038882255504400956,
          -0.04999147125284605,
          -0.061100687081982734,
          -0.07498720664625172,
          -0.08609642212841653,
          -0.10276024553807105,
          -0.11942406873956507,
          -0.13053328413472265,
          -0.14719710748079382,
          -0.15830632312640452,
          -0.17219284250924152,
          -0.19163396986490444,
          -0.21385240119287413,
          -0.24162544032624628,
          -0.26662117587442935,
          -0.28328500144985863,
          -0.2888396146913579,
          -0.2721757984091548,
          -0.2638438978810097,
          -0.29439425554571225,
          -0.4082637387122324,
          -0.6304480856628346,
          -0.958169996914048,
          -1.321996873233671,
          -1.6108365374245754,
          -1.7497017659567722,
          -1.6913783842621268,
          -1.4997443828233092,
          -1.2497869772110355,
          -0.9998295609836699,
          -0.76653595585552,
          -0.5360196366597308,
          -0.28883947831040546,
          -0.030550094001878372,
          0.21385278357000959,
          0.46103298250026864,
          0.7082131999697965,
          0.9331750019928889,
          1.1331410736993872,
          1.285892983127697,
          1.3608803888540904,
          1.3692125092263516,
          1.3136666598732079,
          1.1914655257116176,
          1.008163704985286,
          0.7665384922707772,
          0.49158561001976164,
          0.1805277531970723,
          -0.16385777739459728,
          -0.5276844623305064,
          -0.9387253585738036,
          -1.3914258797724515,
          -1.8607902766642088,
          -2.3412639385591145,
          -2.8217376304415165,
          -3.2883247957158894,
          -3.7549119698034303,
          -4.238162980236252,
          -4.726968599000973,
          -5.235215359360712,
          -5.7490167339547735,
          -6.257263478172701,
          -6.765510206926567,
          -7.259870403538095,
          -7.7514532972355115,
          -8.243036208219685,
          -8.723509907102283,
          -9.190097104344177,
          -9.653907010318594,
          -10.106607697519216,
          -10.55375381808314,
          -11.006454557534864,
          -11.445268790200469,
          -11.8729738577542,
          -12.295124322662325,
          -12.69783368782494,
          -13.086656518228214,
          -13.467147387489431,
          -13.833751707043705,
          -14.205910595029604,
          -14.589178671730892,
          -14.983555976652688,
          -15.405706325267808,
          -15.83896589977594,
          -16.28611202624006,
          -16.741590028926744,
          -17.17484959176512,
          -17.574781500828045,
          -17.93027652389022,
          -18.227448225369123,
          -18.474628507358688,
          -18.655153526425522,
          -18.757914094930623,
          -18.785687435832507,
          -18.73291890095173,
          -18.61071766501123,
          -18.421860993275438,
          -18.17190355072043,
          -17.858068048819113,
          -17.510904874227585,
          -17.14707788033732,
          -16.791582744564444,
          -16.466637978158477,
          -16.13891594828953,
          -15.811193927860158,
          -15.464030839129519,
          -15.083540060684872,
          -14.68916270743037,
          -14.264235006375543,
          -13.800425027599083,
          -13.314396663917893,
          -12.82559105787372,
          -12.353449322026583,
          -11.928521837693953,
          -11.536922022701397,
          -11.173095276016465,
          -10.834264283321357,
          -10.489878634558877,
          -10.156602187764213,
          -9.823325689104408,
          -9.476162602211582,
          -9.131776794527028,
          -8.784613636479227,
          -8.459668886816207,
          -8.179160975549342,
          -7.9236487732968826,
          -7.679245803127547,
          -7.395960573894446,
          -7.054352016806817,
          -6.659974751032424,
          -6.2406017832407015,
          -5.849001936606701,
          -5.507393614559282,
          -5.229663312690746,
          -4.9963699171921,
          -4.7880722621672405,
          -4.568665370754191,
          -4.31870809785854,
          -4.024313904468792,
          -3.6771508779311053,
          -3.293882832676811,
          -2.893950928111611,
          -2.507905520003966,
          -2.1468558245575027,
          -1.8219110843656903,
          -1.5164074667419576,
          -1.2109038403651171,
          -0.874849868453135,
          -0.49435903367334466,
          -0.0916497852432207,
          0.2999502028352439,
          0.6193402116201452,
          0.855411028488824,
          1.0276038013906548,
          1.1636915929226779,
          1.2831155539932966,
          1.3830983893009485,
          1.4247578371239167,
          1.383098156470262,
          1.269228568986578,
          1.0859263760136462,
          0.8498554040076476,
          0.5971206181863107,
          0.34716315048397794,
          0.0999829994692395,
          -0.15275175417958053,
          -0.43325954905848707,
          -0.7554269064550128,
          -1.1109219077943526,
          -1.4497530601486202,
          -1.755256534354524,
          -2.0413188435185314,
          -2.3079399929560593,
          -2.5717838236909474,
          -2.846736854927649,
          -3.113357975284536,
          -3.3605379687939814,
          -3.5938314490162604,
          -3.7854653795600663,
          -3.9354397731875683,
          -4.0798596046427615,
          -4.252052531384372,
          -4.488123490410957,
          -4.796404381361058,
          -5.157454049011557,
          -5.549054035854111,
          -5.951763238028573,
          -6.360027034840943,
          -6.765513526955651,
          -7.182109235125958,
          -7.607036843946725,
          -8.029187159508835,
          -8.459669369763779,
          -8.87904235912244,
          -9.292860757940451,
          -9.701124532353848,
          -10.101056431145903,
          -10.478769914467932,
          -10.806491917949808,
          -11.0620040175831,
          -11.200869291835183,
          -11.223087777698051,
          -11.13976866408596,
          -10.962021179995306,
          -10.72872762477855,
          -10.456551767972208,
          -10.159380180528105,
          -9.845544746501965,
          -9.52893196008884,
          -9.201209962159297,
          -8.856824107210876,
          -8.520770155682161,
          -8.173606992634557,
          -7.815334601403911,
          -7.448730314380246,
          -7.059907582388048,
          -6.659975639045664,
          -6.26004371095309,
          -5.865666389292514,
          -5.479621026296124,
          -5.099130299639977,
          -4.721416896804438,
          -4.354812749253556,
          -4.024313579719333,
          -3.7326966996796704,
          -3.477184788694472,
          -2.5217921923560294
         ],
         "xaxis": "x",
         "y": [
          -0.0020476899333640533,
          -0.006143070047661469,
          -0.01433383080385329,
          -0.02457228176203835,
          -0.0348107330100637,
          -0.04504918433723798,
          -0.053239945514200145,
          -0.06143070641592273,
          -0.07166915774130969,
          -0.08190760934346741,
          -0.09214606040821549,
          -0.10238451176899556,
          -0.11262296321197551,
          -0.12286141465323808,
          -0.13309986613822153,
          -0.14333831774752465,
          -0.15152907931618334,
          -0.15767215055462483,
          -0.16586291257584124,
          -0.18224443726913295,
          -0.20067365514147742,
          -0.22934132890668216,
          -0.2621043878137046,
          -0.3214874283796646,
          -0.43206274222230145,
          -0.5610672808223192,
          -0.6777856831157203,
          -0.733073366780357,
          -0.6921195713671724,
          -0.5651627400726323,
          -0.37677516513150466,
          -0.13719531080605388,
          0.15971987861420692,
          0.487350408810702,
          0.8334101340856288,
          1.1917559752290796,
          1.5296248805141544,
          1.8490645408650503,
          2.1664564934556827,
          2.48384843309905,
          2.811478798292641,
          3.153442981002752,
          3.4913117607490793,
          3.8291805312228426,
          4.16909702158143,
          4.511061238305493,
          4.861216289703188,
          5.205228356550099,
          5.5369543680274615,
          5.850251264572274,
          6.136928218020957,
          6.399032924729468,
          6.63451770187624,
          6.84338252684868,
          7.015389001050958,
          7.1341555851401495,
          7.205825295166545,
          7.23039811665147,
          7.222207859524915,
          7.205826790371507,
          7.177159566697052,
          7.142349288682143,
          7.117777489197605,
          7.097301113869596,
          7.0747770505285885,
          7.07068220514997,
          7.0768258153184025,
          7.082969400593596,
          7.103446846849781,
          7.1177812246404955,
          7.113686342797506,
          7.107543766779299,
          7.093210413441123,
          7.070686263742423,
          7.04816213250481,
          7.025638007203303,
          6.988780001754373,
          6.939635835318374,
          6.882300873846971,
          6.808584336004043,
          6.7410108544340295,
          6.69596198422595,
          6.6591038633057416,
          6.628388808747994,
          6.612007619754457,
          6.5935787480631785,
          6.573102201693299,
          6.55876875397185,
          6.528053757279526,
          6.474814087797157,
          6.415431301140979,
          6.33761920798969,
          6.212710036223793,
          6.040703802555904,
          5.811362024692331,
          5.520589292715195,
          5.192957973122669,
          4.8346111441121,
          4.468073465694479,
          4.117917309354878,
          3.8046196438253714,
          3.5609436308076496,
          3.4012231401143396,
          3.321362794563009,
          3.331601076672321,
          3.421699490537819,
          3.5404656576830216,
          3.679708779583488,
          3.8209995869176963,
          3.9336226465335824,
          4.031911799376882,
          4.126105527753499,
          4.208013053993375,
          4.27149128641786,
          4.31654025834113,
          4.3226830383528005,
          4.259204222561516,
          4.124056158803615,
          3.9233819113624024,
          3.6510384056043668,
          3.3582180041966674,
          3.089969944624567,
          2.8606280969326097,
          2.71524170481741,
          2.6824784555954033,
          2.750052190218352,
          2.9036290332852444,
          3.1432089912030214,
          3.436028968351401,
          3.751373553795626,
          4.070813521774643,
          4.345204193231474,
          4.523353256670704,
          4.599117649260526,
          4.578640454838108,
          4.457826358764461,
          4.259199997607578,
          4.009381380229167,
          3.710418205810785,
          3.384835064590959,
          3.071538090526355,
          2.8073857292852846,
          2.6149025787237394,
          2.5227563207593464,
          2.5432330909132004,
          2.6271882868060206,
          2.7664311456118043,
          2.95481858282235,
          3.1616352437181603,
          3.384833423551056,
          3.6182700373979095,
          3.8373727729722145,
          4.029855465843552,
          4.183432010863134,
          4.267387074210016,
          4.248957664992551,
          4.126096124549566,
          3.923374707346568,
          3.663317995200911,
          3.3725459432714597,
          3.073583131073219,
          2.768477273428886,
          2.459276061342358,
          2.1541702432403453,
          1.842921360525723,
          1.525529398267206,
          1.2101851108797885,
          0.8927931100642934,
          0.5958779927316661,
          0.3153443761006839,
          0.034810728403700114,
          -0.23753218601427142,
          -0.5344474239384822,
          -0.8682211308143134,
          -1.2286148526778478,
          -1.6279147383832895,
          -2.0517869548082137,
          -2.4715638257528676,
          -2.8688161168553137,
          -3.221019221429985,
          -3.51179158116002,
          -3.7370377979513583,
          -3.9049486295250135,
          -3.995047144256554,
          -3.99095182104198,
          -3.906996524846868,
          -3.7677535680759275,
          -3.6059860287959298,
          -3.460600045165286,
          -3.347977134455254,
          -3.251735765120444,
          -3.1657328479268942,
          -3.0981591611056905,
          -3.051062406881469,
          -3.016251806581396,
          -2.9998704460138716,
          -2.99577524159013,
          -2.9671077064368934,
          -2.901581682462025,
          -2.7930540731848597,
          -2.610809479457652,
          -2.365086352396507,
          -2.0763616148393824,
          -1.742587573850662,
          -1.38424115756695,
          -1.0258947127013982,
          -0.6532143961400554,
          -0.290772553436124,
          0.0491446383769239,
          0.38087103210210627,
          0.6798343003604721,
          0.9644636838958578,
          1.2368068767230513,
          1.4825300288106191,
          1.7159669884676358,
          1.9494039228076228,
          2.193079297705631,
          2.436754644269917,
          2.6660961195159247,
          2.8770083198537204,
          3.057205100787026,
          3.210781863015824,
          3.3438816823818325,
          3.4216938095718556,
          3.429884393371681,
          3.39507344324456,
          3.307022518546499,
          3.1677793212598706,
          2.9855346364355877,
          2.74390691426761,
          1.9596409493919449
         ],
         "yaxis": "y"
        }
       ],
       "layout": {
        "annotations": [
         {
          "arrowcolor": "rgb(255,51,0)",
          "arrowhead": 3,
          "arrowwidth": 1.5,
          "ax": -0.027773039689084834,
          "axref": "x",
          "ay": -0.02457228176203835,
          "ayref": "y",
          "showarrow": true,
          "text": "",
          "x": -0.027773039689084834,
          "xref": "x",
          "y": -0.031232281762038353,
          "yref": "y"
         },
         {
          "arrowcolor": "rgb(255,51,0)",
          "arrowhead": 3,
          "arrowwidth": 1.5,
          "ax": -0.038882255504400956,
          "axref": "x",
          "ay": -0.0348107330100637,
          "ayref": "y",
          "showarrow": true,
          "text": "",
          "x": -0.038882255504400956,
          "xref": "x",
          "y": -0.0415107330100637,
          "yref": "y"
         },
         {
          "arrowcolor": "rgb(255,51,0)",
          "arrowhead": 3,
          "arrowwidth": 1.5,
          "ax": -0.04999147125284605,
          "axref": "x",
          "ay": -0.04504918433723798,
          "ayref": "y",
          "showarrow": true,
          "text": "",
          "x": -0.04999147125284605,
          "xref": "x",
          "y": -0.05168918433723798,
          "yref": "y"
         },
         {
          "arrowcolor": "rgb(255,51,0)",
          "arrowhead": 3,
          "arrowwidth": 1.5,
          "ax": -0.061100687081982734,
          "axref": "x",
          "ay": -0.053239945514200145,
          "ayref": "y",
          "showarrow": true,
          "text": "",
          "x": -0.061100687081982734,
          "xref": "x",
          "y": -0.05989994551420015,
          "yref": "y"
         },
         {
          "arrowcolor": "rgb(255,51,0)",
          "arrowhead": 3,
          "arrowwidth": 1.5,
          "ax": -0.07498720664625172,
          "axref": "x",
          "ay": -0.06143070641592273,
          "ayref": "y",
          "showarrow": true,
          "text": "",
          "x": -0.07498720664625172,
          "xref": "x",
          "y": -0.06475070641592273,
          "yref": "y"
         },
         {
          "arrowcolor": "rgb(255,51,0)",
          "arrowhead": 3,
          "arrowwidth": 1.5,
          "ax": -0.08609642212841653,
          "axref": "x",
          "ay": -0.07166915774130969,
          "ayref": "y",
          "showarrow": true,
          "text": "",
          "x": -0.08609642212841653,
          "xref": "x",
          "y": -0.07499915774130969,
          "yref": "y"
         },
         {
          "arrowcolor": "rgb(255,51,0)",
          "arrowhead": 3,
          "arrowwidth": 1.5,
          "ax": -0.10276024553807105,
          "axref": "x",
          "ay": -0.08190760934346741,
          "ayref": "y",
          "showarrow": true,
          "text": "",
          "x": -0.10276024553807105,
          "xref": "x",
          "y": -0.08525760934346742,
          "yref": "y"
         },
         {
          "arrowcolor": "rgb(255,51,0)",
          "arrowhead": 3,
          "arrowwidth": 1.5,
          "ax": -0.11942406873956507,
          "axref": "x",
          "ay": -0.09214606040821549,
          "ayref": "y",
          "showarrow": true,
          "text": "",
          "x": -0.11942406873956507,
          "xref": "x",
          "y": -0.0954660604082155,
          "yref": "y"
         },
         {
          "arrowcolor": "rgb(255,51,0)",
          "arrowhead": 3,
          "arrowwidth": 1.5,
          "ax": -0.13053328413472265,
          "axref": "x",
          "ay": -0.10238451176899556,
          "ayref": "y",
          "showarrow": true,
          "text": "",
          "x": -0.13053328413472265,
          "xref": "x",
          "y": -0.10571451176899556,
          "yref": "y"
         },
         {
          "arrowcolor": "rgb(255,51,0)",
          "arrowhead": 3,
          "arrowwidth": 1.5,
          "ax": -0.14719710748079382,
          "axref": "x",
          "ay": -0.11262296321197551,
          "ayref": "y",
          "showarrow": true,
          "text": "",
          "x": -0.14719710748079382,
          "xref": "x",
          "y": -0.11262296321197551,
          "yref": "y"
         },
         {
          "arrowcolor": "rgb(255,51,0)",
          "arrowhead": 3,
          "arrowwidth": 1.5,
          "ax": -0.15830632312640452,
          "axref": "x",
          "ay": -0.12286141465323808,
          "ayref": "y",
          "showarrow": true,
          "text": "",
          "x": -0.15830632312640452,
          "xref": "x",
          "y": -0.12621141465323807,
          "yref": "y"
         },
         {
          "arrowcolor": "rgb(255,51,0)",
          "arrowhead": 3,
          "arrowwidth": 1.5,
          "ax": -0.17219284250924152,
          "axref": "x",
          "ay": -0.13309986613822153,
          "ayref": "y",
          "showarrow": true,
          "text": "",
          "x": -0.17219284250924152,
          "xref": "x",
          "y": -0.13640986613822154,
          "yref": "y"
         },
         {
          "arrowcolor": "rgb(255,51,0)",
          "arrowhead": 3,
          "arrowwidth": 1.5,
          "ax": -0.19163396986490444,
          "axref": "x",
          "ay": -0.14333831774752465,
          "ayref": "y",
          "showarrow": true,
          "text": "",
          "x": -0.19163396986490444,
          "xref": "x",
          "y": -0.14667831774752466,
          "yref": "y"
         },
         {
          "arrowcolor": "rgb(255,51,0)",
          "arrowhead": 3,
          "arrowwidth": 1.5,
          "ax": -0.21385240119287413,
          "axref": "x",
          "ay": -0.15152907931618334,
          "ayref": "y",
          "showarrow": true,
          "text": "",
          "x": -0.21718240119287413,
          "xref": "x",
          "y": -0.15485907931618334,
          "yref": "y"
         },
         {
          "arrowcolor": "rgb(255,51,0)",
          "arrowhead": 3,
          "arrowwidth": 1.5,
          "ax": -0.24162544032624628,
          "axref": "x",
          "ay": -0.15767215055462483,
          "ayref": "y",
          "showarrow": true,
          "text": "",
          "x": -0.24495544032624628,
          "xref": "x",
          "y": -0.16433215055462483,
          "yref": "y"
         },
         {
          "arrowcolor": "rgb(255,51,0)",
          "arrowhead": 3,
          "arrowwidth": 1.5,
          "ax": -0.26662117587442935,
          "axref": "x",
          "ay": -0.16586291257584124,
          "ayref": "y",
          "showarrow": true,
          "text": "",
          "x": -0.26662117587442935,
          "xref": "x",
          "y": -0.17250291257584124,
          "yref": "y"
         },
         {
          "arrowcolor": "rgb(255,51,0)",
          "arrowhead": 3,
          "arrowwidth": 1.5,
          "ax": -0.28328500144985863,
          "axref": "x",
          "ay": -0.18224443726913295,
          "ayref": "y",
          "showarrow": true,
          "text": "",
          "x": -0.26324500144985863,
          "xref": "x",
          "y": -0.2256644372691329,
          "yref": "y"
         },
         {
          "arrowcolor": "rgb(255,51,0)",
          "arrowhead": 3,
          "arrowwidth": 1.5,
          "ax": -0.2888396146913579,
          "axref": "x",
          "ay": -0.20067365514147742,
          "ayref": "y",
          "showarrow": true,
          "text": "",
          "x": -0.27881961469135785,
          "xref": "x",
          "y": -0.21069365514147742,
          "yref": "y"
         },
         {
          "arrowcolor": "rgb(255,51,0)",
          "arrowhead": 3,
          "arrowwidth": 1.5,
          "ax": -0.2721757984091548,
          "axref": "x",
          "ay": -0.22934132890668216,
          "ayref": "y",
          "showarrow": true,
          "text": "",
          "x": -0.21905579840915482,
          "xref": "x",
          "y": -0.2891013289066821,
          "yref": "y"
         },
         {
          "arrowcolor": "rgb(255,51,0)",
          "arrowhead": 3,
          "arrowwidth": 1.5,
          "ax": -0.2638438978810097,
          "axref": "x",
          "ay": -0.2621043878137046,
          "ayref": "y",
          "showarrow": true,
          "text": "",
          "x": -0.23064389788100972,
          "xref": "x",
          "y": -0.31190438781370455,
          "yref": "y"
         },
         {
          "arrowcolor": "rgb(255,51,0)",
          "arrowhead": 3,
          "arrowwidth": 1.5,
          "ax": -0.29439425554571225,
          "axref": "x",
          "ay": -0.3214874283796646,
          "ayref": "y",
          "showarrow": true,
          "text": "",
          "x": -0.3510042555457123,
          "xref": "x",
          "y": -0.38475742837966465,
          "yref": "y"
         },
         {
          "arrowcolor": "rgb(255,51,0)",
          "arrowhead": 3,
          "arrowwidth": 1.5,
          "ax": -0.4082637387122324,
          "axref": "x",
          "ay": -0.43206274222230145,
          "ayref": "y",
          "showarrow": true,
          "text": "",
          "x": -0.5255137387122321,
          "xref": "x",
          "y": -0.596212742222301,
          "yref": "y"
         },
         {
          "arrowcolor": "rgb(255,51,0)",
          "arrowhead": 3,
          "arrowwidth": 1.5,
          "ax": -0.6304480856628346,
          "axref": "x",
          "ay": -0.5610672808223192,
          "ayref": "y",
          "showarrow": true,
          "text": "",
          "x": -0.8761280856628352,
          "xref": "x",
          "y": -0.7337072808223195,
          "yref": "y"
         },
         {
          "arrowcolor": "rgb(255,51,0)",
          "arrowhead": 3,
          "arrowwidth": 1.5,
          "ax": -0.958169996914048,
          "axref": "x",
          "ay": -0.6777856831157203,
          "ayref": "y",
          "showarrow": true,
          "text": "",
          "x": -1.3610999969140483,
          "xref": "x",
          "y": -0.7377256831157203,
          "yref": "y"
         },
         {
          "arrowcolor": "rgb(255,51,0)",
          "arrowhead": 3,
          "arrowwidth": 1.5,
          "ax": -1.321996873233671,
          "axref": "x",
          "ay": -0.733073366780357,
          "ayref": "y",
          "showarrow": true,
          "text": "",
          "x": -1.69051687323367,
          "xref": "x",
          "y": -0.716473366780357,
          "yref": "y"
         },
         {
          "arrowcolor": "rgb(255,51,0)",
          "arrowhead": 3,
          "arrowwidth": 1.5,
          "ax": -1.6108365374245754,
          "axref": "x",
          "ay": -0.6921195713671724,
          "ayref": "y",
          "showarrow": true,
          "text": "",
          "x": -1.8106365374245756,
          "xref": "x",
          "y": -0.5955495713671723,
          "yref": "y"
         },
         {
          "arrowcolor": "rgb(255,51,0)",
          "arrowhead": 3,
          "arrowwidth": 1.5,
          "ax": -1.7497017659567722,
          "axref": "x",
          "ay": -0.5651627400726323,
          "ayref": "y",
          "showarrow": true,
          "text": "",
          "x": -1.7430017659567723,
          "xref": "x",
          "y": -0.3541127400726318,
          "yref": "y"
         },
         {
          "arrowcolor": "rgb(255,51,0)",
          "arrowhead": 3,
          "arrowwidth": 1.5,
          "ax": -1.6913783842621268,
          "axref": "x",
          "ay": -0.37677516513150466,
          "ayref": "y",
          "showarrow": true,
          "text": "",
          "x": -1.5054583842621274,
          "xref": "x",
          "y": -0.13109516513150543,
          "yref": "y"
         },
         {
          "arrowcolor": "rgb(255,51,0)",
          "arrowhead": 3,
          "arrowwidth": 1.5,
          "ax": -1.4997443828233092,
          "axref": "x",
          "ay": -0.13719531080605388,
          "ayref": "y",
          "showarrow": true,
          "text": "",
          "x": -1.286624382823309,
          "xref": "x",
          "y": 0.17582468919394625,
          "yref": "y"
         },
         {
          "arrowcolor": "rgb(255,51,0)",
          "arrowhead": 3,
          "arrowwidth": 1.5,
          "ax": -1.2497869772110355,
          "axref": "x",
          "ay": 0.15971987861420692,
          "ayref": "y",
          "showarrow": true,
          "text": "",
          "x": -1.0705069772110352,
          "xref": "x",
          "y": 0.5481598786142078,
          "yref": "y"
         },
         {
          "arrowcolor": "rgb(255,51,0)",
          "arrowhead": 3,
          "arrowwidth": 1.5,
          "ax": -0.9998295609836699,
          "axref": "x",
          "ay": 0.487350408810702,
          "ayref": "y",
          "showarrow": true,
          "text": "",
          "x": -0.7633995609836698,
          "xref": "x",
          "y": 0.8636404088107021,
          "yref": "y"
         },
         {
          "arrowcolor": "rgb(255,51,0)",
          "arrowhead": 3,
          "arrowwidth": 1.5,
          "ax": -0.76653595585552,
          "axref": "x",
          "ay": 0.8334101340856288,
          "ayref": "y",
          "showarrow": true,
          "text": "",
          "x": -0.4884859558555208,
          "xref": "x",
          "y": 1.2220101340856278,
          "yref": "y"
         },
         {
          "arrowcolor": "rgb(255,51,0)",
          "arrowhead": 3,
          "arrowwidth": 1.5,
          "ax": -0.5360196366597308,
          "axref": "x",
          "ay": 1.1917559752290796,
          "ayref": "y",
          "showarrow": true,
          "text": "",
          "x": -0.26377963665973025,
          "xref": "x",
          "y": 1.5835159752290804,
          "yref": "y"
         },
         {
          "arrowcolor": "rgb(255,51,0)",
          "arrowhead": 3,
          "arrowwidth": 1.5,
          "ax": -0.28883947831040546,
          "axref": "x",
          "ay": 1.5296248805141544,
          "ayref": "y",
          "showarrow": true,
          "text": "",
          "x": -0.025769478310405325,
          "xref": "x",
          "y": 1.9225648805141544,
          "yref": "y"
         },
         {
          "arrowcolor": "rgb(255,51,0)",
          "arrowhead": 3,
          "arrowwidth": 1.5,
          "ax": -0.030550094001878372,
          "axref": "x",
          "ay": 1.8490645408650503,
          "ayref": "y",
          "showarrow": true,
          "text": "",
          "x": 0.2748899059981207,
          "xref": "x",
          "y": 2.1545045408650494,
          "yref": "y"
         },
         {
          "arrowcolor": "rgb(255,51,0)",
          "arrowhead": 3,
          "arrowwidth": 1.5,
          "ax": 0.21385278357000959,
          "axref": "x",
          "ay": 2.1664564934556827,
          "ayref": "y",
          "showarrow": true,
          "text": "",
          "x": 0.47850278357001025,
          "xref": "x",
          "y": 2.4813564934556833,
          "yref": "y"
         },
         {
          "arrowcolor": "rgb(255,51,0)",
          "arrowhead": 3,
          "arrowwidth": 1.5,
          "ax": 0.46103298250026864,
          "axref": "x",
          "ay": 2.48384843309905,
          "ayref": "y",
          "showarrow": true,
          "text": "",
          "x": 0.6908029825002687,
          "xref": "x",
          "y": 2.84348843309905,
          "yref": "y"
         },
         {
          "arrowcolor": "rgb(255,51,0)",
          "arrowhead": 3,
          "arrowwidth": 1.5,
          "ax": 0.7082131999697965,
          "axref": "x",
          "ay": 2.811478798292641,
          "ayref": "y",
          "showarrow": true,
          "text": "",
          "x": 0.9505731999697957,
          "xref": "x",
          "y": 3.17667879829264,
          "yref": "y"
         },
         {
          "arrowcolor": "rgb(255,51,0)",
          "arrowhead": 3,
          "arrowwidth": 1.5,
          "ax": 0.9331750019928889,
          "axref": "x",
          "ay": 3.153442981002752,
          "ayref": "y",
          "showarrow": true,
          "text": "",
          "x": 1.1489750019928895,
          "xref": "x",
          "y": 3.5053629810027527,
          "yref": "y"
         },
         {
          "arrowcolor": "rgb(255,51,0)",
          "arrowhead": 3,
          "arrowwidth": 1.5,
          "ax": 1.1331410736993872,
          "axref": "x",
          "ay": 3.4913117607490793,
          "ayref": "y",
          "showarrow": true,
          "text": "",
          "x": 1.2996410736993873,
          "xref": "x",
          "y": 3.8309717607490796,
          "yref": "y"
         },
         {
          "arrowcolor": "rgb(255,51,0)",
          "arrowhead": 3,
          "arrowwidth": 1.5,
          "ax": 1.285892983127697,
          "axref": "x",
          "ay": 3.8291805312228426,
          "ayref": "y",
          "showarrow": true,
          "text": "",
          "x": 1.4131929831276968,
          "xref": "x",
          "y": 4.1608305312228415,
          "yref": "y"
         },
         {
          "arrowcolor": "rgb(255,51,0)",
          "arrowhead": 3,
          "arrowwidth": 1.5,
          "ax": 1.3608803888540904,
          "axref": "x",
          "ay": 4.16909702158143,
          "ayref": "y",
          "showarrow": true,
          "text": "",
          "x": 1.4274803888540903,
          "xref": "x",
          "y": 4.52540702158143,
          "yref": "y"
         },
         {
          "arrowcolor": "rgb(255,51,0)",
          "arrowhead": 3,
          "arrowwidth": 1.5,
          "ax": 1.3692125092263516,
          "axref": "x",
          "ay": 4.511061238305493,
          "ayref": "y",
          "showarrow": true,
          "text": "",
          "x": 1.3360125092263515,
          "xref": "x",
          "y": 4.849701238305494,
          "yref": "y"
         },
         {
          "arrowcolor": "rgb(255,51,0)",
          "arrowhead": 3,
          "arrowwidth": 1.5,
          "ax": 1.3136666598732079,
          "axref": "x",
          "ay": 4.861216289703188,
          "ayref": "y",
          "showarrow": true,
          "text": "",
          "x": 1.247266659873208,
          "xref": "x",
          "y": 5.169976289703188,
          "yref": "y"
         },
         {
          "arrowcolor": "rgb(255,51,0)",
          "arrowhead": 3,
          "arrowwidth": 1.5,
          "ax": 1.1914655257116176,
          "axref": "x",
          "ay": 5.205228356550099,
          "ayref": "y",
          "showarrow": true,
          "text": "",
          "x": 1.094895525711617,
          "xref": "x",
          "y": 5.531568356550101,
          "yref": "y"
         },
         {
          "arrowcolor": "rgb(255,51,0)",
          "arrowhead": 3,
          "arrowwidth": 1.5,
          "ax": 1.008163704985286,
          "axref": "x",
          "ay": 5.5369543680274615,
          "ayref": "y",
          "showarrow": true,
          "text": "",
          "x": 0.8250137049852869,
          "xref": "x",
          "y": 5.82999436802746,
          "yref": "y"
         },
         {
          "arrowcolor": "rgb(255,51,0)",
          "arrowhead": 3,
          "arrowwidth": 1.5,
          "ax": 0.7665384922707772,
          "axref": "x",
          "ay": 5.850251264572274,
          "ayref": "y",
          "showarrow": true,
          "text": "",
          "x": 0.5160384922707775,
          "xref": "x",
          "y": 6.137491264572274,
          "yref": "y"
         },
         {
          "arrowcolor": "rgb(255,51,0)",
          "arrowhead": 3,
          "arrowwidth": 1.5,
          "ax": 0.49158561001976164,
          "axref": "x",
          "ay": 6.136928218020957,
          "ayref": "y",
          "showarrow": true,
          "text": "",
          "x": 0.21519561001976,
          "xref": "x",
          "y": 6.376688218020958,
          "yref": "y"
         },
         {
          "arrowcolor": "rgb(255,51,0)",
          "arrowhead": 3,
          "arrowwidth": 1.5,
          "ax": 0.1805277531970723,
          "axref": "x",
          "ay": 6.399032924729468,
          "ayref": "y",
          "showarrow": true,
          "text": "",
          "x": -0.13582224680292618,
          "xref": "x",
          "y": 6.595502924729467,
          "yref": "y"
         },
         {
          "arrowcolor": "rgb(255,51,0)",
          "arrowhead": 3,
          "arrowwidth": 1.5,
          "ax": -0.16385777739459728,
          "axref": "x",
          "ay": 6.63451770187624,
          "ayref": "y",
          "showarrow": true,
          "text": "",
          "x": -0.5423377773945981,
          "xref": "x",
          "y": 6.80383770187624,
          "yref": "y"
         },
         {
          "arrowcolor": "rgb(255,51,0)",
          "arrowhead": 3,
          "arrowwidth": 1.5,
          "ax": -0.5276844623305064,
          "axref": "x",
          "ay": 6.84338252684868,
          "ayref": "y",
          "showarrow": true,
          "text": "",
          "x": -0.8806644623305047,
          "xref": "x",
          "y": 7.003222526848679,
          "yref": "y"
         },
         {
          "arrowcolor": "rgb(255,51,0)",
          "arrowhead": 3,
          "arrowwidth": 1.5,
          "ax": -0.9387253585738036,
          "axref": "x",
          "ay": 7.015389001050958,
          "ayref": "y",
          "showarrow": true,
          "text": "",
          "x": -1.3474253585738045,
          "xref": "x",
          "y": 7.142689001050958,
          "yref": "y"
         },
         {
          "arrowcolor": "rgb(255,51,0)",
          "arrowhead": 3,
          "arrowwidth": 1.5,
          "ax": -1.3914258797724515,
          "axref": "x",
          "ay": 7.1341555851401495,
          "ayref": "y",
          "showarrow": true,
          "text": "",
          "x": -1.8628658797724524,
          "xref": "x",
          "y": 7.15739558514015,
          "yref": "y"
         },
         {
          "arrowcolor": "rgb(255,51,0)",
          "arrowhead": 3,
          "arrowwidth": 1.5,
          "ax": -1.8607902766642088,
          "axref": "x",
          "ay": 7.205825295166545,
          "ayref": "y",
          "showarrow": true,
          "text": "",
          "x": -2.3103402766642067,
          "xref": "x",
          "y": 7.205825295166545,
          "yref": "y"
         },
         {
          "arrowcolor": "rgb(255,51,0)",
          "arrowhead": 3,
          "arrowwidth": 1.5,
          "ax": -2.3412639385591145,
          "axref": "x",
          "ay": 7.23039811665147,
          "ayref": "y",
          "showarrow": true,
          "text": "",
          "x": -2.7629039385591154,
          "xref": "x",
          "y": 7.2071581166514695,
          "yref": "y"
         },
         {
          "arrowcolor": "rgb(255,51,0)",
          "arrowhead": 3,
          "arrowwidth": 1.5,
          "ax": -2.8217376304415165,
          "axref": "x",
          "ay": 7.222207859524915,
          "ayref": "y",
          "showarrow": true,
          "text": "",
          "x": -3.254637630441519,
          "xref": "x",
          "y": 7.152277859524915,
          "yref": "y"
         },
         {
          "arrowcolor": "rgb(255,51,0)",
          "arrowhead": 3,
          "arrowwidth": 1.5,
          "ax": -3.2883247957158894,
          "axref": "x",
          "ay": 7.205826790371507,
          "ayref": "y",
          "showarrow": true,
          "text": "",
          "x": -3.723824795715886,
          "xref": "x",
          "y": 7.1522267903715075,
          "yref": "y"
         },
         {
          "arrowcolor": "rgb(255,51,0)",
          "arrowhead": 3,
          "arrowwidth": 1.5,
          "ax": -3.7549119698034303,
          "axref": "x",
          "ay": 7.177159566697052,
          "ayref": "y",
          "showarrow": true,
          "text": "",
          "x": -4.199791969803432,
          "xref": "x",
          "y": 7.143959566697052,
          "yref": "y"
         },
         {
          "arrowcolor": "rgb(255,51,0)",
          "arrowhead": 3,
          "arrowwidth": 1.5,
          "ax": -4.238162980236252,
          "axref": "x",
          "ay": 7.142349288682143,
          "ayref": "y",
          "showarrow": true,
          "text": "",
          "x": -4.7010329802362545,
          "xref": "x",
          "y": 7.092399288682143,
          "yref": "y"
         },
         {
          "arrowcolor": "rgb(255,51,0)",
          "arrowhead": 3,
          "arrowwidth": 1.5,
          "ax": -4.726968599000973,
          "axref": "x",
          "ay": 7.117777489197605,
          "ayref": "y",
          "showarrow": true,
          "text": "",
          "x": -5.185128599000969,
          "xref": "x",
          "y": 7.094537489197606,
          "yref": "y"
         },
         {
          "arrowcolor": "rgb(255,51,0)",
          "arrowhead": 3,
          "arrowwidth": 1.5,
          "ax": -5.235215359360712,
          "axref": "x",
          "ay": 7.097301113869596,
          "ayref": "y",
          "showarrow": true,
          "text": "",
          "x": -5.717615359360713,
          "xref": "x",
          "y": 7.107351113869596,
          "yref": "y"
         },
         {
          "arrowcolor": "rgb(255,51,0)",
          "arrowhead": 3,
          "arrowwidth": 1.5,
          "ax": -5.7490167339547735,
          "axref": "x",
          "ay": 7.0747770505285885,
          "ayref": "y",
          "showarrow": true,
          "text": "",
          "x": -6.225206733954776,
          "xref": "x",
          "y": 7.051467050528588,
          "yref": "y"
         },
         {
          "arrowcolor": "rgb(255,51,0)",
          "arrowhead": 3,
          "arrowwidth": 1.5,
          "ax": -6.257263478172701,
          "axref": "x",
          "ay": 7.07068220514997,
          "ayref": "y",
          "showarrow": true,
          "text": "",
          "x": -6.735343478172696,
          "xref": "x",
          "y": 7.07732220514997,
          "yref": "y"
         },
         {
          "arrowcolor": "rgb(255,51,0)",
          "arrowhead": 3,
          "arrowwidth": 1.5,
          "ax": -6.765510206926567,
          "axref": "x",
          "ay": 7.0768258153184025,
          "ayref": "y",
          "showarrow": true,
          "text": "",
          "x": -7.273470206926569,
          "xref": "x",
          "y": 7.096745815318402,
          "yref": "y"
         },
         {
          "arrowcolor": "rgb(255,51,0)",
          "arrowhead": 3,
          "arrowwidth": 1.5,
          "ax": -7.259870403538095,
          "axref": "x",
          "ay": 7.082969400593596,
          "ayref": "y",
          "showarrow": true,
          "text": "",
          "x": -7.752710403538098,
          "xref": "x",
          "y": 7.082969400593596,
          "yref": "y"
         },
         {
          "arrowcolor": "rgb(255,51,0)",
          "arrowhead": 3,
          "arrowwidth": 1.5,
          "ax": -7.7514532972355115,
          "axref": "x",
          "ay": 7.103446846849781,
          "ayref": "y",
          "showarrow": true,
          "text": "",
          "x": -8.220453297235508,
          "xref": "x",
          "y": 7.126896846849781,
          "yref": "y"
         },
         {
          "arrowcolor": "rgb(255,51,0)",
          "arrowhead": 3,
          "arrowwidth": 1.5,
          "ax": -8.243036208219685,
          "axref": "x",
          "ay": 7.1177812246404955,
          "ayref": "y",
          "showarrow": true,
          "text": "",
          "x": -8.757636208219687,
          "xref": "x",
          "y": 7.144341224640495,
          "yref": "y"
         },
         {
          "arrowcolor": "rgb(255,51,0)",
          "arrowhead": 3,
          "arrowwidth": 1.5,
          "ax": -8.723509907102283,
          "axref": "x",
          "ay": 7.113686342797506,
          "ayref": "y",
          "showarrow": true,
          "text": "",
          "x": -9.213019907102286,
          "xref": "x",
          "y": 7.113686342797506,
          "yref": "y"
         },
         {
          "arrowcolor": "rgb(255,51,0)",
          "arrowhead": 3,
          "arrowwidth": 1.5,
          "ax": -9.190097104344177,
          "axref": "x",
          "ay": 7.107543766779299,
          "ayref": "y",
          "showarrow": true,
          "text": "",
          "x": -9.631657104344173,
          "xref": "x",
          "y": 7.127463766779299,
          "yref": "y"
         },
         {
          "arrowcolor": "rgb(255,51,0)",
          "arrowhead": 3,
          "arrowwidth": 1.5,
          "ax": -9.653907010318594,
          "axref": "x",
          "ay": 7.093210413441123,
          "ayref": "y",
          "showarrow": true,
          "text": "",
          "x": -10.106787010318596,
          "xref": "x",
          "y": 7.146490413441123,
          "yref": "y"
         },
         {
          "arrowcolor": "rgb(255,51,0)",
          "arrowhead": 3,
          "arrowwidth": 1.5,
          "ax": -10.106607697519216,
          "axref": "x",
          "ay": 7.070686263742423,
          "ayref": "y",
          "showarrow": true,
          "text": "",
          "x": -10.552827697519215,
          "xref": "x",
          "y": 7.084006263742423,
          "yref": "y"
         },
         {
          "arrowcolor": "rgb(255,51,0)",
          "arrowhead": 3,
          "arrowwidth": 1.5,
          "ax": -10.55375381808314,
          "axref": "x",
          "ay": 7.04816213250481,
          "ayref": "y",
          "showarrow": true,
          "text": "",
          "x": -10.984613818083139,
          "xref": "x",
          "y": 7.0548421325048105,
          "yref": "y"
         },
         {
          "arrowcolor": "rgb(255,51,0)",
          "arrowhead": 3,
          "arrowwidth": 1.5,
          "ax": -11.006454557534864,
          "axref": "x",
          "ay": 7.025638007203303,
          "ayref": "y",
          "showarrow": true,
          "text": "",
          "x": -11.439354557534866,
          "xref": "x",
          "y": 7.062268007203303,
          "yref": "y"
         },
         {
          "arrowcolor": "rgb(255,51,0)",
          "arrowhead": 3,
          "arrowwidth": 1.5,
          "ax": -11.445268790200469,
          "axref": "x",
          "ay": 6.988780001754373,
          "ayref": "y",
          "showarrow": true,
          "text": "",
          "x": -11.861518790200467,
          "xref": "x",
          "y": 6.995440001754373,
          "yref": "y"
         },
         {
          "arrowcolor": "rgb(255,51,0)",
          "arrowhead": 3,
          "arrowwidth": 1.5,
          "ax": -11.8729738577542,
          "axref": "x",
          "ay": 6.939635835318374,
          "ayref": "y",
          "showarrow": true,
          "text": "",
          "x": -12.301253857754201,
          "xref": "x",
          "y": 6.932995835318374,
          "yref": "y"
         },
         {
          "arrowcolor": "rgb(255,51,0)",
          "arrowhead": 3,
          "arrowwidth": 1.5,
          "ax": -12.295124322662325,
          "axref": "x",
          "ay": 6.882300873846971,
          "ayref": "y",
          "showarrow": true,
          "text": "",
          "x": -12.694724322662328,
          "xref": "x",
          "y": 6.885630873846971,
          "yref": "y"
         },
         {
          "arrowcolor": "rgb(255,51,0)",
          "arrowhead": 3,
          "arrowwidth": 1.5,
          "ax": -12.69783368782494,
          "axref": "x",
          "ay": 6.808584336004043,
          "ayref": "y",
          "showarrow": true,
          "text": "",
          "x": -13.103183687824936,
          "xref": "x",
          "y": 6.791834336004043,
          "yref": "y"
         },
         {
          "arrowcolor": "rgb(255,51,0)",
          "arrowhead": 3,
          "arrowwidth": 1.5,
          "ax": -13.086656518228214,
          "axref": "x",
          "ay": 6.7410108544340295,
          "ayref": "y",
          "showarrow": true,
          "text": "",
          "x": -13.498336518228214,
          "xref": "x",
          "y": 6.68789085443403,
          "yref": "y"
         },
         {
          "arrowcolor": "rgb(255,51,0)",
          "arrowhead": 3,
          "arrowwidth": 1.5,
          "ax": -13.467147387489431,
          "axref": "x",
          "ay": 6.69596198422595,
          "ayref": "y",
          "showarrow": true,
          "text": "",
          "x": -13.856757387489434,
          "xref": "x",
          "y": 6.6593319842259495,
          "yref": "y"
         },
         {
          "arrowcolor": "rgb(255,51,0)",
          "arrowhead": 3,
          "arrowwidth": 1.5,
          "ax": -13.833751707043705,
          "axref": "x",
          "ay": 6.6591038633057416,
          "ayref": "y",
          "showarrow": true,
          "text": "",
          "x": -14.212231707043701,
          "xref": "x",
          "y": 6.622583863305742,
          "yref": "y"
         },
         {
          "arrowcolor": "rgb(255,51,0)",
          "arrowhead": 3,
          "arrowwidth": 1.5,
          "ax": -14.205910595029604,
          "axref": "x",
          "ay": 6.628388808747994,
          "ayref": "y",
          "showarrow": true,
          "text": "",
          "x": -14.595520595029607,
          "xref": "x",
          "y": 6.581768808747994,
          "yref": "y"
         },
         {
          "arrowcolor": "rgb(255,51,0)",
          "arrowhead": 3,
          "arrowwidth": 1.5,
          "ax": -14.589178671730892,
          "axref": "x",
          "ay": 6.612007619754457,
          "ayref": "y",
          "showarrow": true,
          "text": "",
          "x": -14.967728671730892,
          "xref": "x",
          "y": 6.595257619754457,
          "yref": "y"
         },
         {
          "arrowcolor": "rgb(255,51,0)",
          "arrowhead": 3,
          "arrowwidth": 1.5,
          "ax": -14.983555976652688,
          "axref": "x",
          "ay": 6.5935787480631785,
          "ayref": "y",
          "showarrow": true,
          "text": "",
          "x": -15.375315976652685,
          "xref": "x",
          "y": 6.603538748063178,
          "yref": "y"
         },
         {
          "arrowcolor": "rgb(255,51,0)",
          "arrowhead": 3,
          "arrowwidth": 1.5,
          "ax": -15.405706325267808,
          "axref": "x",
          "ay": 6.573102201693299,
          "ayref": "y",
          "showarrow": true,
          "text": "",
          "x": -15.81196632526781,
          "xref": "x",
          "y": 6.559782201693299,
          "yref": "y"
         },
         {
          "arrowcolor": "rgb(255,51,0)",
          "arrowhead": 3,
          "arrowwidth": 1.5,
          "ax": -15.83896589977594,
          "axref": "x",
          "ay": 6.55876875397185,
          "ayref": "y",
          "showarrow": true,
          "text": "",
          "x": -16.24732589977594,
          "xref": "x",
          "y": 6.54880875397185,
          "yref": "y"
         },
         {
          "arrowcolor": "rgb(255,51,0)",
          "arrowhead": 3,
          "arrowwidth": 1.5,
          "ax": -16.28611202624006,
          "axref": "x",
          "ay": 6.528053757279526,
          "ayref": "y",
          "showarrow": true,
          "text": "",
          "x": -16.721612026240056,
          "xref": "x",
          "y": 6.521353757279526,
          "yref": "y"
         },
         {
          "arrowcolor": "rgb(255,51,0)",
          "arrowhead": 3,
          "arrowwidth": 1.5,
          "ax": -16.741590028926744,
          "axref": "x",
          "ay": 6.474814087797157,
          "ayref": "y",
          "showarrow": true,
          "text": "",
          "x": -17.158650028926747,
          "xref": "x",
          "y": 6.428474087797157,
          "yref": "y"
         },
         {
          "arrowcolor": "rgb(255,51,0)",
          "arrowhead": 3,
          "arrowwidth": 1.5,
          "ax": -17.17484959176512,
          "axref": "x",
          "ay": 6.415431301140979,
          "ayref": "y",
          "showarrow": true,
          "text": "",
          "x": -17.60236959176512,
          "xref": "x",
          "y": 6.348631301140979,
          "yref": "y"
         },
         {
          "arrowcolor": "rgb(255,51,0)",
          "arrowhead": 3,
          "arrowwidth": 1.5,
          "ax": -17.574781500828045,
          "axref": "x",
          "ay": 6.33761920798969,
          "ayref": "y",
          "showarrow": true,
          "text": "",
          "x": -17.94662150082804,
          "xref": "x",
          "y": 6.244659207989691,
          "yref": "y"
         },
         {
          "arrowcolor": "rgb(255,51,0)",
          "arrowhead": 3,
          "arrowwidth": 1.5,
          "ax": -17.93027652389022,
          "axref": "x",
          "ay": 6.212710036223793,
          "ayref": "y",
          "showarrow": true,
          "text": "",
          "x": -18.260936523890223,
          "xref": "x",
          "y": 6.039030036223791,
          "yref": "y"
         },
         {
          "arrowcolor": "rgb(255,51,0)",
          "arrowhead": 3,
          "arrowwidth": 1.5,
          "ax": -18.227448225369123,
          "axref": "x",
          "ay": 6.040703802555904,
          "ayref": "y",
          "showarrow": true,
          "text": "",
          "x": -18.51802822536912,
          "xref": "x",
          "y": 5.773503802555904,
          "yref": "y"
         },
         {
          "arrowcolor": "rgb(255,51,0)",
          "arrowhead": 3,
          "arrowwidth": 1.5,
          "ax": -18.474628507358688,
          "axref": "x",
          "ay": 5.811362024692331,
          "ayref": "y",
          "showarrow": true,
          "text": "",
          "x": -18.703708507358687,
          "xref": "x",
          "y": 5.529162024692333,
          "yref": "y"
         },
         {
          "arrowcolor": "rgb(255,51,0)",
          "arrowhead": 3,
          "arrowwidth": 1.5,
          "ax": -18.655153526425522,
          "axref": "x",
          "ay": 5.520589292715195,
          "ayref": "y",
          "showarrow": true,
          "text": "",
          "x": -18.785413526425522,
          "xref": "x",
          "y": 5.186589292715192,
          "yref": "y"
         },
         {
          "arrowcolor": "rgb(255,51,0)",
          "arrowhead": 3,
          "arrowwidth": 1.5,
          "ax": -18.757914094930623,
          "axref": "x",
          "ay": 5.192957973122669,
          "ayref": "y",
          "showarrow": true,
          "text": "",
          "x": -18.767844094930624,
          "xref": "x",
          "y": 4.825547973122674,
          "yref": "y"
         },
         {
          "arrowcolor": "rgb(255,51,0)",
          "arrowhead": 3,
          "arrowwidth": 1.5,
          "ax": -18.785687435832507,
          "axref": "x",
          "ay": 4.8346111441121,
          "ayref": "y",
          "showarrow": true,
          "text": "",
          "x": -18.722417435832504,
          "xref": "x",
          "y": 4.464981144112094,
          "yref": "y"
         },
         {
          "arrowcolor": "rgb(255,51,0)",
          "arrowhead": 3,
          "arrowwidth": 1.5,
          "ax": -18.73291890095173,
          "axref": "x",
          "ay": 4.468073465694479,
          "ayref": "y",
          "showarrow": true,
          "text": "",
          "x": -18.563088900951733,
          "xref": "x",
          "y": 4.12508346569448,
          "yref": "y"
         },
         {
          "arrowcolor": "rgb(255,51,0)",
          "arrowhead": 3,
          "arrowwidth": 1.5,
          "ax": -18.61071766501123,
          "axref": "x",
          "ay": 4.117917309354878,
          "ayref": "y",
          "showarrow": true,
          "text": "",
          "x": -18.35353766501123,
          "xref": "x",
          "y": 3.8072973093548814,
          "yref": "y"
         },
         {
          "arrowcolor": "rgb(255,51,0)",
          "arrowhead": 3,
          "arrowwidth": 1.5,
          "ax": -18.421860993275438,
          "axref": "x",
          "ay": 3.8046196438253714,
          "ayref": "y",
          "showarrow": true,
          "text": "",
          "x": -18.112170993275434,
          "xref": "x",
          "y": 3.5581996438253674,
          "yref": "y"
         },
         {
          "arrowcolor": "rgb(255,51,0)",
          "arrowhead": 3,
          "arrowwidth": 1.5,
          "ax": -18.17190355072043,
          "axref": "x",
          "ay": 3.5609436308076496,
          "ayref": "y",
          "showarrow": true,
          "text": "",
          "x": -17.795613550720432,
          "xref": "x",
          "y": 3.3911136308076504,
          "yref": "y"
         },
         {
          "arrowcolor": "rgb(255,51,0)",
          "arrowhead": 3,
          "arrowwidth": 1.5,
          "ax": -17.858068048819113,
          "axref": "x",
          "ay": 3.4012231401143396,
          "ayref": "y",
          "showarrow": true,
          "text": "",
          "x": -17.429788048819113,
          "xref": "x",
          "y": 3.3547431401143393,
          "yref": "y"
         },
         {
          "arrowcolor": "rgb(255,51,0)",
          "arrowhead": 3,
          "arrowwidth": 1.5,
          "ax": -17.510904874227585,
          "axref": "x",
          "ay": 3.321362794563009,
          "ayref": "y",
          "showarrow": true,
          "text": "",
          "x": -17.094654874227587,
          "xref": "x",
          "y": 3.3579927945630086,
          "yref": "y"
         },
         {
          "arrowcolor": "rgb(255,51,0)",
          "arrowhead": 3,
          "arrowwidth": 1.5,
          "ax": -17.14707788033732,
          "axref": "x",
          "ay": 3.331601076672321,
          "ayref": "y",
          "showarrow": true,
          "text": "",
          "x": -16.71157788033732,
          "xref": "x",
          "y": 3.4321010766723212,
          "yref": "y"
         },
         {
          "arrowcolor": "rgb(255,51,0)",
          "arrowhead": 3,
          "arrowwidth": 1.5,
          "ax": -16.791582744564444,
          "axref": "x",
          "ay": 3.421699490537819,
          "ayref": "y",
          "showarrow": true,
          "text": "",
          "x": -16.399822744564442,
          "xref": "x",
          "y": 3.6208994905378193,
          "yref": "y"
         },
         {
          "arrowcolor": "rgb(255,51,0)",
          "arrowhead": 3,
          "arrowwidth": 1.5,
          "ax": -16.466637978158477,
          "axref": "x",
          "ay": 3.5404656576830216,
          "ayref": "y",
          "showarrow": true,
          "text": "",
          "x": -16.11032797815848,
          "xref": "x",
          "y": 3.7669056576830204,
          "yref": "y"
         },
         {
          "arrowcolor": "rgb(255,51,0)",
          "arrowhead": 3,
          "arrowwidth": 1.5,
          "ax": -16.13891594828953,
          "axref": "x",
          "ay": 3.679708779583488,
          "ayref": "y",
          "showarrow": true,
          "text": "",
          "x": -15.763755948289528,
          "xref": "x",
          "y": 3.8623087795834885,
          "yref": "y"
         },
         {
          "arrowcolor": "rgb(255,51,0)",
          "arrowhead": 3,
          "arrowwidth": 1.5,
          "ax": -15.811193927860158,
          "axref": "x",
          "ay": 3.8209995869176963,
          "ayref": "y",
          "showarrow": true,
          "text": "",
          "x": -15.43157392786016,
          "xref": "x",
          "y": 4.020799586917695,
          "yref": "y"
         },
         {
          "arrowcolor": "rgb(255,51,0)",
          "arrowhead": 3,
          "arrowwidth": 1.5,
          "ax": -15.464030839129519,
          "axref": "x",
          "ay": 3.9336226465335824,
          "ayref": "y",
          "showarrow": true,
          "text": "",
          "x": -15.062030839129518,
          "xref": "x",
          "y": 4.1346226465335825,
          "yref": "y"
         },
         {
          "arrowcolor": "rgb(255,51,0)",
          "arrowhead": 3,
          "arrowwidth": 1.5,
          "ax": -15.083540060684872,
          "axref": "x",
          "ay": 4.031911799376882,
          "ayref": "y",
          "showarrow": true,
          "text": "",
          "x": -14.70506006068487,
          "xref": "x",
          "y": 4.161391799376882,
          "yref": "y"
         },
         {
          "arrowcolor": "rgb(255,51,0)",
          "arrowhead": 3,
          "arrowwidth": 1.5,
          "ax": -14.68916270743037,
          "axref": "x",
          "ay": 4.126105527753499,
          "ayref": "y",
          "showarrow": true,
          "text": "",
          "x": -14.299552707430372,
          "xref": "x",
          "y": 4.232665527753498,
          "yref": "y"
         },
         {
          "arrowcolor": "rgb(255,51,0)",
          "arrowhead": 3,
          "arrowwidth": 1.5,
          "ax": -14.264235006375543,
          "axref": "x",
          "ay": 4.208013053993375,
          "ayref": "y",
          "showarrow": true,
          "text": "",
          "x": -13.829315006375541,
          "xref": "x",
          "y": 4.320893053993376,
          "yref": "y"
         },
         {
          "arrowcolor": "rgb(255,51,0)",
          "arrowhead": 3,
          "arrowwidth": 1.5,
          "ax": -13.800425027599083,
          "axref": "x",
          "ay": 4.27149128641786,
          "ayref": "y",
          "showarrow": true,
          "text": "",
          "x": -13.354875027599082,
          "xref": "x",
          "y": 4.311691286417861,
          "yref": "y"
         },
         {
          "arrowcolor": "rgb(255,51,0)",
          "arrowhead": 3,
          "arrowwidth": 1.5,
          "ax": -13.314396663917893,
          "axref": "x",
          "ay": 4.31654025834113,
          "ayref": "y",
          "showarrow": true,
          "text": "",
          "x": -12.824886663917896,
          "xref": "x",
          "y": 4.32653025834113,
          "yref": "y"
         },
         {
          "arrowcolor": "rgb(255,51,0)",
          "arrowhead": 3,
          "arrowwidth": 1.5,
          "ax": -12.82559105787372,
          "axref": "x",
          "ay": 4.3226830383528005,
          "ayref": "y",
          "showarrow": true,
          "text": "",
          "x": -12.354151057873718,
          "xref": "x",
          "y": 4.2928030383528,
          "yref": "y"
         },
         {
          "arrowcolor": "rgb(255,51,0)",
          "arrowhead": 3,
          "arrowwidth": 1.5,
          "ax": -12.353449322026583,
          "axref": "x",
          "ay": 4.259204222561516,
          "ayref": "y",
          "showarrow": true,
          "text": "",
          "x": -11.93180932202658,
          "xref": "x",
          "y": 4.116444222561516,
          "yref": "y"
         },
         {
          "arrowcolor": "rgb(255,51,0)",
          "arrowhead": 3,
          "arrowwidth": 1.5,
          "ax": -11.928521837693953,
          "axref": "x",
          "ay": 4.124056158803615,
          "ayref": "y",
          "showarrow": true,
          "text": "",
          "x": -11.512271837693955,
          "xref": "x",
          "y": 3.887626158803616,
          "yref": "y"
         },
         {
          "arrowcolor": "rgb(255,51,0)",
          "arrowhead": 3,
          "arrowwidth": 1.5,
          "ax": -11.536922022701397,
          "axref": "x",
          "ay": 3.9233819113624024,
          "ayref": "y",
          "showarrow": true,
          "text": "",
          "x": -11.1473120227014,
          "xref": "x",
          "y": 3.6536519113624037,
          "yref": "y"
         },
         {
          "arrowcolor": "rgb(255,51,0)",
          "arrowhead": 3,
          "arrowwidth": 1.5,
          "ax": -11.173095276016465,
          "axref": "x",
          "ay": 3.6510384056043668,
          "ayref": "y",
          "showarrow": true,
          "text": "",
          "x": -10.81237527601646,
          "xref": "x",
          "y": 3.3337384056043637,
          "yref": "y"
         },
         {
          "arrowcolor": "rgb(255,51,0)",
          "arrowhead": 3,
          "arrowwidth": 1.5,
          "ax": -10.834264283321357,
          "axref": "x",
          "ay": 3.3582180041966674,
          "ayref": "y",
          "showarrow": true,
          "text": "",
          "x": -10.474624283321358,
          "xref": "x",
          "y": 3.018558004196669,
          "yref": "y"
         },
         {
          "arrowcolor": "rgb(255,51,0)",
          "arrowhead": 3,
          "arrowwidth": 1.5,
          "ax": -10.489878634558877,
          "axref": "x",
          "ay": 3.089969944624567,
          "ayref": "y",
          "showarrow": true,
          "text": "",
          "x": -10.116918634558878,
          "xref": "x",
          "y": 2.813579944624568,
          "yref": "y"
         },
         {
          "arrowcolor": "rgb(255,51,0)",
          "arrowhead": 3,
          "arrowwidth": 1.5,
          "ax": -10.156602187764213,
          "axref": "x",
          "ay": 2.8606280969326097,
          "ayref": "y",
          "showarrow": true,
          "text": "",
          "x": -9.748242187764212,
          "xref": "x",
          "y": 2.6780280969326093,
          "yref": "y"
         },
         {
          "arrowcolor": "rgb(255,51,0)",
          "arrowhead": 3,
          "arrowwidth": 1.5,
          "ax": -9.823325689104408,
          "axref": "x",
          "ay": 2.71524170481741,
          "ayref": "y",
          "showarrow": true,
          "text": "",
          "x": -9.43704568910441,
          "xref": "x",
          "y": 2.6053517048174104,
          "yref": "y"
         },
         {
          "arrowcolor": "rgb(255,51,0)",
          "arrowhead": 3,
          "arrowwidth": 1.5,
          "ax": -9.476162602211582,
          "axref": "x",
          "ay": 2.6824784555954033,
          "ayref": "y",
          "showarrow": true,
          "text": "",
          "x": -9.097612602211582,
          "xref": "x",
          "y": 2.7260284555954035,
          "yref": "y"
         },
         {
          "arrowcolor": "rgb(255,51,0)",
          "arrowhead": 3,
          "arrowwidth": 1.5,
          "ax": -9.131776794527028,
          "axref": "x",
          "ay": 2.750052190218352,
          "ayref": "y",
          "showarrow": true,
          "text": "",
          "x": -8.759936794527027,
          "xref": "x",
          "y": 2.935972190218352,
          "yref": "y"
         },
         {
          "arrowcolor": "rgb(255,51,0)",
          "arrowhead": 3,
          "arrowwidth": 1.5,
          "ax": -8.784613636479227,
          "axref": "x",
          "ay": 2.9036290332852444,
          "ayref": "y",
          "showarrow": true,
          "text": "",
          "x": -8.448283636479228,
          "xref": "x",
          "y": 3.153379033285243,
          "yref": "y"
         },
         {
          "arrowcolor": "rgb(255,51,0)",
          "arrowhead": 3,
          "arrowwidth": 1.5,
          "ax": -8.459668886816207,
          "axref": "x",
          "ay": 3.1432089912030214,
          "ayref": "y",
          "showarrow": true,
          "text": "",
          "x": -8.160868886816207,
          "xref": "x",
          "y": 3.4552889912030222,
          "yref": "y"
         },
         {
          "arrowcolor": "rgb(255,51,0)",
          "arrowhead": 3,
          "arrowwidth": 1.5,
          "ax": -8.179160975549342,
          "axref": "x",
          "ay": 3.436028968351401,
          "ayref": "y",
          "showarrow": true,
          "text": "",
          "x": -7.9394009755493435,
          "xref": "x",
          "y": 3.8189789683513995,
          "yref": "y"
         },
         {
          "arrowcolor": "rgb(255,51,0)",
          "arrowhead": 3,
          "arrowwidth": 1.5,
          "ax": -7.9236487732968826,
          "axref": "x",
          "ay": 3.751373553795626,
          "ayref": "y",
          "showarrow": true,
          "text": "",
          "x": -7.672398773296882,
          "xref": "x",
          "y": 4.113173553795627,
          "yref": "y"
         },
         {
          "arrowcolor": "rgb(255,51,0)",
          "arrowhead": 3,
          "arrowwidth": 1.5,
          "ax": -7.679245803127547,
          "axref": "x",
          "ay": 4.070813521774643,
          "ayref": "y",
          "showarrow": true,
          "text": "",
          "x": -7.393725803127546,
          "xref": "x",
          "y": 4.412773521774644,
          "yref": "y"
         },
         {
          "arrowcolor": "rgb(255,51,0)",
          "arrowhead": 3,
          "arrowwidth": 1.5,
          "ax": -7.395960573894446,
          "axref": "x",
          "ay": 4.345204193231474,
          "ayref": "y",
          "showarrow": true,
          "text": "",
          "x": -7.072950573894448,
          "xref": "x",
          "y": 4.621594193231473,
          "yref": "y"
         },
         {
          "arrowcolor": "rgb(255,51,0)",
          "arrowhead": 3,
          "arrowwidth": 1.5,
          "ax": -7.054352016806817,
          "axref": "x",
          "ay": 4.523353256670704,
          "ayref": "y",
          "showarrow": true,
          "text": "",
          "x": -6.665912016806816,
          "xref": "x",
          "y": 4.679393256670704,
          "yref": "y"
         },
         {
          "arrowcolor": "rgb(255,51,0)",
          "arrowhead": 3,
          "arrowwidth": 1.5,
          "ax": -6.659974751032424,
          "axref": "x",
          "ay": 4.599117649260526,
          "ayref": "y",
          "showarrow": true,
          "text": "",
          "x": -6.2170847510324165,
          "xref": "x",
          "y": 4.622427649260526,
          "yref": "y"
         },
         {
          "arrowcolor": "rgb(255,51,0)",
          "arrowhead": 3,
          "arrowwidth": 1.5,
          "ax": -6.2406017832407015,
          "axref": "x",
          "ay": 4.578640454838108,
          "ayref": "y",
          "showarrow": true,
          "text": "",
          "x": -5.805101783240709,
          "xref": "x",
          "y": 4.511640454838109,
          "yref": "y"
         },
         {
          "arrowcolor": "rgb(255,51,0)",
          "arrowhead": 3,
          "arrowwidth": 1.5,
          "ax": -5.849001936606701,
          "axref": "x",
          "ay": 4.457826358764461,
          "ayref": "y",
          "showarrow": true,
          "text": "",
          "x": -5.4539219366067,
          "xref": "x",
          "y": 4.31174635876446,
          "yref": "y"
         },
         {
          "arrowcolor": "rgb(255,51,0)",
          "arrowhead": 3,
          "arrowwidth": 1.5,
          "ax": -5.507393614559282,
          "axref": "x",
          "ay": 4.259199997607578,
          "ayref": "y",
          "showarrow": true,
          "text": "",
          "x": -5.184383614559277,
          "xref": "x",
          "y": 4.002789997607573,
          "yref": "y"
         },
         {
          "arrowcolor": "rgb(255,51,0)",
          "arrowhead": 3,
          "arrowwidth": 1.5,
          "ax": -5.229663312690746,
          "axref": "x",
          "ay": 4.009381380229167,
          "ayref": "y",
          "showarrow": true,
          "text": "",
          "x": -4.930863312690745,
          "xref": "x",
          "y": 3.7238613802291662,
          "yref": "y"
         },
         {
          "arrowcolor": "rgb(255,51,0)",
          "arrowhead": 3,
          "arrowwidth": 1.5,
          "ax": -4.9963699171921,
          "axref": "x",
          "ay": 3.710418205810785,
          "ayref": "y",
          "showarrow": true,
          "text": "",
          "x": -4.7015699171921055,
          "xref": "x",
          "y": 3.385468205810791,
          "yref": "y"
         },
         {
          "arrowcolor": "rgb(255,51,0)",
          "arrowhead": 3,
          "arrowwidth": 1.5,
          "ax": -4.7880722621672405,
          "axref": "x",
          "ay": 3.384835064590959,
          "ayref": "y",
          "showarrow": true,
          "text": "",
          "x": -4.5483122621672365,
          "xref": "x",
          "y": 3.0385150645909533,
          "yref": "y"
         },
         {
          "arrowcolor": "rgb(255,51,0)",
          "arrowhead": 3,
          "arrowwidth": 1.5,
          "ax": -4.568665370754191,
          "axref": "x",
          "ay": 3.071538090526355,
          "ayref": "y",
          "showarrow": true,
          "text": "",
          "x": -4.322985370754191,
          "xref": "x",
          "y": 2.7561380905263544,
          "yref": "y"
         },
         {
          "arrowcolor": "rgb(255,51,0)",
          "arrowhead": 3,
          "arrowwidth": 1.5,
          "ax": -4.31870809785854,
          "axref": "x",
          "ay": 2.8073857292852846,
          "ayref": "y",
          "showarrow": true,
          "text": "",
          "x": -3.9966680978585463,
          "xref": "x",
          "y": 2.5617057292852894,
          "yref": "y"
         },
         {
          "arrowcolor": "rgb(255,51,0)",
          "arrowhead": 3,
          "arrowwidth": 1.5,
          "ax": -4.024313904468792,
          "axref": "x",
          "ay": 2.6149025787237394,
          "ayref": "y",
          "showarrow": true,
          "text": "",
          "x": -3.6646739044687857,
          "xref": "x",
          "y": 2.4883625787237373,
          "yref": "y"
         },
         {
          "arrowcolor": "rgb(255,51,0)",
          "arrowhead": 3,
          "arrowwidth": 1.5,
          "ax": -3.6771508779311053,
          "axref": "x",
          "ay": 2.5227563207593464,
          "ayref": "y",
          "showarrow": true,
          "text": "",
          "x": -3.2852008779311044,
          "xref": "x",
          "y": 2.4993063207593464,
          "yref": "y"
         },
         {
          "arrowcolor": "rgb(255,51,0)",
          "arrowhead": 3,
          "arrowwidth": 1.5,
          "ax": -3.293882832676811,
          "axref": "x",
          "ay": 2.5432330909132004,
          "ayref": "y",
          "showarrow": true,
          "text": "",
          "x": -2.9021228326768185,
          "xref": "x",
          "y": 2.6826730909131977,
          "yref": "y"
         },
         {
          "arrowcolor": "rgb(255,51,0)",
          "arrowhead": 3,
          "arrowwidth": 1.5,
          "ax": -2.893950928111611,
          "axref": "x",
          "ay": 2.6271882868060206,
          "ayref": "y",
          "showarrow": true,
          "text": "",
          "x": -2.534310928111605,
          "xref": "x",
          "y": 2.840308286806024,
          "yref": "y"
         },
         {
          "arrowcolor": "rgb(255,51,0)",
          "arrowhead": 3,
          "arrowwidth": 1.5,
          "ax": -2.507905520003966,
          "axref": "x",
          "ay": 2.7664311456118043,
          "ayref": "y",
          "showarrow": true,
          "text": "",
          "x": -2.1526655200039655,
          "xref": "x",
          "y": 3.015431145611805,
          "yref": "y"
         },
         {
          "arrowcolor": "rgb(255,51,0)",
          "arrowhead": 3,
          "arrowwidth": 1.5,
          "ax": -2.1468558245575027,
          "axref": "x",
          "ay": 2.95481858282235,
          "ayref": "y",
          "showarrow": true,
          "text": "",
          "x": -1.8604758245575042,
          "xref": "x",
          "y": 3.2478585828223485,
          "yref": "y"
         },
         {
          "arrowcolor": "rgb(255,51,0)",
          "arrowhead": 3,
          "arrowwidth": 1.5,
          "ax": -1.8219110843656903,
          "axref": "x",
          "ay": 3.1616352437181603,
          "ayref": "y",
          "showarrow": true,
          "text": "",
          "x": -1.5455210843656917,
          "xref": "x",
          "y": 3.4979652437181588,
          "yref": "y"
         },
         {
          "arrowcolor": "rgb(255,51,0)",
          "arrowhead": 3,
          "arrowwidth": 1.5,
          "ax": -1.5164074667419576,
          "axref": "x",
          "ay": 3.384833423551056,
          "ayref": "y",
          "showarrow": true,
          "text": "",
          "x": -1.2325074667419549,
          "xref": "x",
          "y": 3.6954534235510588,
          "yref": "y"
         },
         {
          "arrowcolor": "rgb(255,51,0)",
          "arrowhead": 3,
          "arrowwidth": 1.5,
          "ax": -1.2109038403651171,
          "axref": "x",
          "ay": 3.6182700373979095,
          "ayref": "y",
          "showarrow": true,
          "text": "",
          "x": -0.9211938403651185,
          "xref": "x",
          "y": 3.8946600373979083,
          "yref": "y"
         },
         {
          "arrowcolor": "rgb(255,51,0)",
          "arrowhead": 3,
          "arrowwidth": 1.5,
          "ax": -0.874849868453135,
          "axref": "x",
          "ay": 3.8373727729722145,
          "ayref": "y",
          "showarrow": true,
          "text": "",
          "x": -0.5351898684531365,
          "xref": "x",
          "y": 4.1037727729722135,
          "yref": "y"
         },
         {
          "arrowcolor": "rgb(255,51,0)",
          "arrowhead": 3,
          "arrowwidth": 1.5,
          "ax": -0.49435903367334466,
          "axref": "x",
          "ay": 4.029855465843552,
          "ayref": "y",
          "showarrow": true,
          "text": "",
          "x": -0.07935903367334374,
          "xref": "x",
          "y": 4.202495465843552,
          "yref": "y"
         },
         {
          "arrowcolor": "rgb(255,51,0)",
          "arrowhead": 3,
          "arrowwidth": 1.5,
          "ax": -0.0916497852432207,
          "axref": "x",
          "ay": 4.183432010863134,
          "ayref": "y",
          "showarrow": true,
          "text": "",
          "x": 0.38787021475677697,
          "xref": "x",
          "y": 4.2467020108631335,
          "yref": "y"
         },
         {
          "arrowcolor": "rgb(255,51,0)",
          "arrowhead": 3,
          "arrowwidth": 1.5,
          "ax": 0.2999502028352439,
          "axref": "x",
          "ay": 4.267387074210016,
          "ayref": "y",
          "showarrow": true,
          "text": "",
          "x": 0.7589002028352451,
          "xref": "x",
          "y": 4.233887074210016,
          "yref": "y"
         },
         {
          "arrowcolor": "rgb(255,51,0)",
          "arrowhead": 3,
          "arrowwidth": 1.5,
          "ax": 0.6193402116201452,
          "axref": "x",
          "ay": 4.248957664992551,
          "ayref": "y",
          "showarrow": true,
          "text": "",
          "x": 0.997820211620146,
          "xref": "x",
          "y": 4.07631766499255,
          "yref": "y"
         },
         {
          "arrowcolor": "rgb(255,51,0)",
          "arrowhead": 3,
          "arrowwidth": 1.5,
          "ax": 0.855411028488824,
          "axref": "x",
          "ay": 4.126096124549566,
          "ayref": "y",
          "showarrow": true,
          "text": "",
          "x": 1.1684310284888224,
          "xref": "x",
          "y": 3.849706124549567,
          "yref": "y"
         },
         {
          "arrowcolor": "rgb(255,51,0)",
          "arrowhead": 3,
          "arrowwidth": 1.5,
          "ax": 1.0276038013906548,
          "axref": "x",
          "ay": 3.923374707346568,
          "ayref": "y",
          "showarrow": true,
          "text": "",
          "x": 1.2898838013906553,
          "xref": "x",
          "y": 3.6478147073465674,
          "yref": "y"
         },
         {
          "arrowcolor": "rgb(255,51,0)",
          "arrowhead": 3,
          "arrowwidth": 1.5,
          "ax": 1.1636915929226779,
          "axref": "x",
          "ay": 3.663317995200911,
          "ayref": "y",
          "showarrow": true,
          "text": "",
          "x": 1.3934615929226768,
          "xref": "x",
          "y": 3.3436379952009125,
          "yref": "y"
         },
         {
          "arrowcolor": "rgb(255,51,0)",
          "arrowhead": 3,
          "arrowwidth": 1.5,
          "ax": 1.2831155539932966,
          "axref": "x",
          "ay": 3.3725459432714597,
          "ayref": "y",
          "showarrow": true,
          "text": "",
          "x": 1.430515553993297,
          "xref": "x",
          "y": 2.9939959432714587,
          "yref": "y"
         },
         {
          "arrowcolor": "rgb(255,51,0)",
          "arrowhead": 3,
          "arrowwidth": 1.5,
          "ax": 1.3830983893009485,
          "axref": "x",
          "ay": 3.073583131073219,
          "ayref": "y",
          "showarrow": true,
          "text": "",
          "x": 1.4727383893009487,
          "xref": "x",
          "y": 2.691783131073218,
          "yref": "y"
         },
         {
          "arrowcolor": "rgb(255,51,0)",
          "arrowhead": 3,
          "arrowwidth": 1.5,
          "ax": 1.4247578371239167,
          "axref": "x",
          "ay": 2.768477273428886,
          "ayref": "y",
          "showarrow": true,
          "text": "",
          "x": 1.4680478371239165,
          "xref": "x",
          "y": 2.398847273428888,
          "yref": "y"
         },
         {
          "arrowcolor": "rgb(255,51,0)",
          "arrowhead": 3,
          "arrowwidth": 1.5,
          "ax": 1.383098156470262,
          "axref": "x",
          "ay": 2.459276061342358,
          "ayref": "y",
          "showarrow": true,
          "text": "",
          "x": 1.2735381564702617,
          "xref": "x",
          "y": 2.104036061342357,
          "yref": "y"
         },
         {
          "arrowcolor": "rgb(255,51,0)",
          "arrowhead": 3,
          "arrowwidth": 1.5,
          "ax": 1.269228568986578,
          "axref": "x",
          "ay": 2.1541702432403453,
          "ayref": "y",
          "showarrow": true,
          "text": "",
          "x": 1.0749285689865777,
          "xref": "x",
          "y": 1.8258702432403444,
          "yref": "y"
         },
         {
          "arrowcolor": "rgb(255,51,0)",
          "arrowhead": 3,
          "arrowwidth": 1.5,
          "ax": 1.0859263760136462,
          "axref": "x",
          "ay": 1.842921360525723,
          "ayref": "y",
          "showarrow": true,
          "text": "",
          "x": 0.8494963760136474,
          "xref": "x",
          "y": 1.5165813605257248,
          "yref": "y"
         },
         {
          "arrowcolor": "rgb(255,51,0)",
          "arrowhead": 3,
          "arrowwidth": 1.5,
          "ax": 0.8498554040076476,
          "axref": "x",
          "ay": 1.525529398267206,
          "ayref": "y",
          "showarrow": true,
          "text": "",
          "x": 0.574295404007647,
          "xref": "x",
          "y": 1.2599293982672055,
          "yref": "y"
         },
         {
          "arrowcolor": "rgb(255,51,0)",
          "arrowhead": 3,
          "arrowwidth": 1.5,
          "ax": 0.5971206181863107,
          "axref": "x",
          "ay": 1.2101851108797885,
          "ayref": "y",
          "showarrow": true,
          "text": "",
          "x": 0.26844061818630993,
          "xref": "x",
          "y": 0.934625110879788,
          "yref": "y"
         },
         {
          "arrowcolor": "rgb(255,51,0)",
          "arrowhead": 3,
          "arrowwidth": 1.5,
          "ax": 0.34716315048397794,
          "axref": "x",
          "ay": 0.8927931100642934,
          "ayref": "y",
          "showarrow": true,
          "text": "",
          "x": 0.054123150483979365,
          "xref": "x",
          "y": 0.5997531100642948,
          "yref": "y"
         },
         {
          "arrowcolor": "rgb(255,51,0)",
          "arrowhead": 3,
          "arrowwidth": 1.5,
          "ax": 0.0999829994692395,
          "axref": "x",
          "ay": 0.5958779927316661,
          "ayref": "y",
          "showarrow": true,
          "text": "",
          "x": -0.19146700053076127,
          "xref": "x",
          "y": 0.3345779927316654,
          "yref": "y"
         },
         {
          "arrowcolor": "rgb(255,51,0)",
          "arrowhead": 3,
          "arrowwidth": 1.5,
          "ax": -0.15275175417958053,
          "axref": "x",
          "ay": 0.3153443761006839,
          "ayref": "y",
          "showarrow": true,
          "text": "",
          "x": -0.46151175417958124,
          "xref": "x",
          "y": 0.06302437610068334,
          "yref": "y"
         },
         {
          "arrowcolor": "rgb(255,51,0)",
          "arrowhead": 3,
          "arrowwidth": 1.5,
          "ax": -0.43325954905848707,
          "axref": "x",
          "ay": 0.034810728403700114,
          "ayref": "y",
          "showarrow": true,
          "text": "",
          "x": -0.7329595490584857,
          "xref": "x",
          "y": -0.20494927159629872,
          "yref": "y"
         },
         {
          "arrowcolor": "rgb(255,51,0)",
          "arrowhead": 3,
          "arrowwidth": 1.5,
          "ax": -0.7554269064550128,
          "axref": "x",
          "ay": -0.23753218601427142,
          "ayref": "y",
          "showarrow": true,
          "text": "",
          "x": -1.0551269064550113,
          "xref": "x",
          "y": -0.5006021860142702,
          "yref": "y"
         },
         {
          "arrowcolor": "rgb(255,51,0)",
          "arrowhead": 3,
          "arrowwidth": 1.5,
          "ax": -1.1109219077943526,
          "axref": "x",
          "ay": -0.5344474239384822,
          "ayref": "y",
          "showarrow": true,
          "text": "",
          "x": -1.4462419077943534,
          "xref": "x",
          "y": -0.8100074239384828,
          "yref": "y"
         },
         {
          "arrowcolor": "rgb(255,51,0)",
          "arrowhead": 3,
          "arrowwidth": 1.5,
          "ax": -1.4497530601486202,
          "axref": "x",
          "ay": -0.8682211308143134,
          "ayref": "y",
          "showarrow": true,
          "text": "",
          "x": -1.7328030601486248,
          "xref": "x",
          "y": -1.1745811308143184,
          "yref": "y"
         },
         {
          "arrowcolor": "rgb(255,51,0)",
          "arrowhead": 3,
          "arrowwidth": 1.5,
          "ax": -1.755256534354524,
          "axref": "x",
          "ay": -1.2286148526778478,
          "ayref": "y",
          "showarrow": true,
          "text": "",
          "x": -1.9931065343545193,
          "xref": "x",
          "y": -1.6105148526778406,
          "yref": "y"
         },
         {
          "arrowcolor": "rgb(255,51,0)",
          "arrowhead": 3,
          "arrowwidth": 1.5,
          "ax": -2.0413188435185314,
          "axref": "x",
          "ay": -1.6279147383832895,
          "ayref": "y",
          "showarrow": true,
          "text": "",
          "x": -2.277038843518532,
          "xref": "x",
          "y": -1.9931147383832903,
          "yref": "y"
         },
         {
          "arrowcolor": "rgb(255,51,0)",
          "arrowhead": 3,
          "arrowwidth": 1.5,
          "ax": -2.3079399929560593,
          "axref": "x",
          "ay": -2.0517869548082137,
          "ayref": "y",
          "showarrow": true,
          "text": "",
          "x": -2.5476999929560633,
          "xref": "x",
          "y": -2.43473695480822,
          "yref": "y"
         },
         {
          "arrowcolor": "rgb(255,51,0)",
          "arrowhead": 3,
          "arrowwidth": 1.5,
          "ax": -2.5717838236909474,
          "axref": "x",
          "ay": -2.4715638257528676,
          "ayref": "y",
          "showarrow": true,
          "text": "",
          "x": -2.8141438236909426,
          "xref": "x",
          "y": -2.8799238257528597,
          "yref": "y"
         },
         {
          "arrowcolor": "rgb(255,51,0)",
          "arrowhead": 3,
          "arrowwidth": 1.5,
          "ax": -2.846736854927649,
          "axref": "x",
          "ay": -2.8688161168553137,
          "ayref": "y",
          "showarrow": true,
          "text": "",
          "x": -3.093156854927653,
          "xref": "x",
          "y": -3.198486116855319,
          "yref": "y"
         },
         {
          "arrowcolor": "rgb(255,51,0)",
          "arrowhead": 3,
          "arrowwidth": 1.5,
          "ax": -3.113357975284536,
          "axref": "x",
          "ay": -3.221019221429985,
          "ayref": "y",
          "showarrow": true,
          "text": "",
          "x": -3.3780079752845364,
          "xref": "x",
          "y": -3.532569221429986,
          "yref": "y"
         },
         {
          "arrowcolor": "rgb(255,51,0)",
          "arrowhead": 3,
          "arrowwidth": 1.5,
          "ax": -3.3605379687939814,
          "axref": "x",
          "ay": -3.51179158116002,
          "ayref": "y",
          "showarrow": true,
          "text": "",
          "x": -3.589617968793977,
          "xref": "x",
          "y": -3.784031581160015,
          "yref": "y"
         },
         {
          "arrowcolor": "rgb(255,51,0)",
          "arrowhead": 3,
          "arrowwidth": 1.5,
          "ax": -3.5938314490162604,
          "axref": "x",
          "ay": -3.7370377979513583,
          "ayref": "y",
          "showarrow": true,
          "text": "",
          "x": -3.813611449016264,
          "xref": "x",
          "y": -3.903537797951361,
          "yref": "y"
         },
         {
          "arrowcolor": "rgb(255,51,0)",
          "arrowhead": 3,
          "arrowwidth": 1.5,
          "ax": -3.7854653795600663,
          "axref": "x",
          "ay": -3.9049486295250135,
          "ayref": "y",
          "showarrow": true,
          "text": "",
          "x": -3.924905379560067,
          "xref": "x",
          "y": -4.001228629525014,
          "yref": "y"
         },
         {
          "arrowcolor": "rgb(255,51,0)",
          "arrowhead": 3,
          "arrowwidth": 1.5,
          "ax": -3.9354397731875683,
          "axref": "x",
          "ay": -3.995047144256554,
          "ayref": "y",
          "showarrow": true,
          "text": "",
          "x": -4.045329773187568,
          "xref": "x",
          "y": -4.041667144256554,
          "yref": "y"
         },
         {
          "arrowcolor": "rgb(255,51,0)",
          "arrowhead": 3,
          "arrowwidth": 1.5,
          "ax": -4.0798596046427615,
          "axref": "x",
          "ay": -3.99095182104198,
          "ayref": "y",
          "showarrow": true,
          "text": "",
          "x": -4.2239096046427616,
          "xref": "x",
          "y": -3.88375182104198,
          "yref": "y"
         },
         {
          "arrowcolor": "rgb(255,51,0)",
          "arrowhead": 3,
          "arrowwidth": 1.5,
          "ax": -4.252052531384372,
          "axref": "x",
          "ay": -3.906996524846868,
          "ayref": "y",
          "showarrow": true,
          "text": "",
          "x": -4.494412531384373,
          "xref": "x",
          "y": -3.6878765248468675,
          "yref": "y"
         },
         {
          "arrowcolor": "rgb(255,51,0)",
          "arrowhead": 3,
          "arrowwidth": 1.5,
          "ax": -4.488123490410957,
          "axref": "x",
          "ay": -3.7677535680759275,
          "ayref": "y",
          "showarrow": true,
          "text": "",
          "x": -4.791153490410956,
          "xref": "x",
          "y": -3.5846035680759285,
          "yref": "y"
         },
         {
          "arrowcolor": "rgb(255,51,0)",
          "arrowhead": 3,
          "arrowwidth": 1.5,
          "ax": -4.796404381361058,
          "axref": "x",
          "ay": -3.6059860287959298,
          "ayref": "y",
          "showarrow": true,
          "text": "",
          "x": -5.191484381361059,
          "xref": "x",
          "y": -3.4632260287959293,
          "yref": "y"
         },
         {
          "arrowcolor": "rgb(255,51,0)",
          "arrowhead": 3,
          "arrowwidth": 1.5,
          "ax": -5.157454049011557,
          "axref": "x",
          "ay": -3.460600045165286,
          "ayref": "y",
          "showarrow": true,
          "text": "",
          "x": -5.542704049011558,
          "xref": "x",
          "y": -3.313200045165286,
          "yref": "y"
         },
         {
          "arrowcolor": "rgb(255,51,0)",
          "arrowhead": 3,
          "arrowwidth": 1.5,
          "ax": -5.549054035854111,
          "axref": "x",
          "ay": -3.347977134455254,
          "ayref": "y",
          "showarrow": true,
          "text": "",
          "x": -5.928674035854109,
          "xref": "x",
          "y": -3.2447471344552543,
          "yref": "y"
         },
         {
          "arrowcolor": "rgb(255,51,0)",
          "arrowhead": 3,
          "arrowwidth": 1.5,
          "ax": -5.951763238028573,
          "axref": "x",
          "ay": -3.251735765120444,
          "ayref": "y",
          "showarrow": true,
          "text": "",
          "x": -6.403283238028575,
          "xref": "x",
          "y": -3.1786957651204437,
          "yref": "y"
         },
         {
          "arrowcolor": "rgb(255,51,0)",
          "arrowhead": 3,
          "arrowwidth": 1.5,
          "ax": -6.360027034840943,
          "axref": "x",
          "ay": -3.1657328479268942,
          "ayref": "y",
          "showarrow": true,
          "text": "",
          "x": -6.775027034840944,
          "xref": "x",
          "y": -3.076092847926894,
          "yref": "y"
         },
         {
          "arrowcolor": "rgb(255,51,0)",
          "arrowhead": 3,
          "arrowwidth": 1.5,
          "ax": -6.765513526955651,
          "axref": "x",
          "ay": -3.0981591611056905,
          "ayref": "y",
          "showarrow": true,
          "text": "",
          "x": -7.171773526955649,
          "xref": "x",
          "y": -3.0315591611056907,
          "yref": "y"
         },
         {
          "arrowcolor": "rgb(255,51,0)",
          "arrowhead": 3,
          "arrowwidth": 1.5,
          "ax": -7.182109235125958,
          "axref": "x",
          "ay": -3.051062406881469,
          "ayref": "y",
          "showarrow": true,
          "text": "",
          "x": -7.60755923512595,
          "xref": "x",
          "y": -3.0343124068814693,
          "yref": "y"
         },
         {
          "arrowcolor": "rgb(255,51,0)",
          "arrowhead": 3,
          "arrowwidth": 1.5,
          "ax": -7.607036843946725,
          "axref": "x",
          "ay": -3.016251806581396,
          "ayref": "y",
          "showarrow": true,
          "text": "",
          "x": -8.008756843946735,
          "xref": "x",
          "y": -3.0029718065813955,
          "yref": "y"
         },
         {
          "arrowcolor": "rgb(255,51,0)",
          "arrowhead": 3,
          "arrowwidth": 1.5,
          "ax": -8.029187159508835,
          "axref": "x",
          "ay": -2.9998704460138716,
          "ayref": "y",
          "showarrow": true,
          "text": "",
          "x": -8.452097159508833,
          "xref": "x",
          "y": -2.966570446013872,
          "yref": "y"
         },
         {
          "arrowcolor": "rgb(255,51,0)",
          "arrowhead": 3,
          "arrowwidth": 1.5,
          "ax": -8.459669369763779,
          "axref": "x",
          "ay": -2.99577524159013,
          "ayref": "y",
          "showarrow": true,
          "text": "",
          "x": -8.85806936976377,
          "xref": "x",
          "y": -3.0190152415901297,
          "yref": "y"
         },
         {
          "arrowcolor": "rgb(255,51,0)",
          "arrowhead": 3,
          "arrowwidth": 1.5,
          "ax": -8.87904235912244,
          "axref": "x",
          "ay": -2.9671077064368934,
          "ayref": "y",
          "showarrow": true,
          "text": "",
          "x": -9.275312359122438,
          "xref": "x",
          "y": -2.957117706436893,
          "yref": "y"
         },
         {
          "arrowcolor": "rgb(255,51,0)",
          "arrowhead": 3,
          "arrowwidth": 1.5,
          "ax": -9.292860757940451,
          "axref": "x",
          "ay": -2.901581682462025,
          "ayref": "y",
          "showarrow": true,
          "text": "",
          "x": -9.699120757940467,
          "xref": "x",
          "y": -2.8083416824620215,
          "yref": "y"
         },
         {
          "arrowcolor": "rgb(255,51,0)",
          "arrowhead": 3,
          "arrowwidth": 1.5,
          "ax": -9.701124532353848,
          "axref": "x",
          "ay": -2.7930540731848597,
          "ayref": "y",
          "showarrow": true,
          "text": "",
          "x": -10.068524532353836,
          "xref": "x",
          "y": -2.666134073184864,
          "yref": "y"
         },
         {
          "arrowcolor": "rgb(255,51,0)",
          "arrowhead": 3,
          "arrowwidth": 1.5,
          "ax": -10.101056431145903,
          "axref": "x",
          "ay": -2.610809479457652,
          "ayref": "y",
          "showarrow": true,
          "text": "",
          "x": -10.470686431145902,
          "xref": "x",
          "y": -2.4376494794576526,
          "yref": "y"
         },
         {
          "arrowcolor": "rgb(255,51,0)",
          "arrowhead": 3,
          "arrowwidth": 1.5,
          "ax": -10.478769914467932,
          "axref": "x",
          "ay": -2.365086352396507,
          "ayref": "y",
          "showarrow": true,
          "text": "",
          "x": -10.785129914467944,
          "xref": "x",
          "y": -2.1086763523964973,
          "yref": "y"
         },
         {
          "arrowcolor": "rgb(255,51,0)",
          "arrowhead": 3,
          "arrowwidth": 1.5,
          "ax": -10.806491917949808,
          "axref": "x",
          "ay": -2.0763616148393824,
          "ayref": "y",
          "showarrow": true,
          "text": "",
          "x": -11.055491917949803,
          "xref": "x",
          "y": -1.7709216148393883,
          "yref": "y"
         },
         {
          "arrowcolor": "rgb(255,51,0)",
          "arrowhead": 3,
          "arrowwidth": 1.5,
          "ax": -11.0620040175831,
          "axref": "x",
          "ay": -1.742587573850662,
          "ayref": "y",
          "showarrow": true,
          "text": "",
          "x": -11.238494017583099,
          "xref": "x",
          "y": -1.3762875738506637,
          "yref": "y"
         },
         {
          "arrowcolor": "rgb(255,51,0)",
          "arrowhead": 3,
          "arrowwidth": 1.5,
          "ax": -11.200869291835183,
          "axref": "x",
          "ay": -1.38424115756695,
          "ayref": "y",
          "showarrow": true,
          "text": "",
          "x": -11.200869291835183,
          "xref": "x",
          "y": -0.9989911575669408,
          "yref": "y"
         },
         {
          "arrowcolor": "rgb(255,51,0)",
          "arrowhead": 3,
          "arrowwidth": 1.5,
          "ax": -11.223087777698051,
          "axref": "x",
          "ay": -1.0258947127013982,
          "ayref": "y",
          "showarrow": true,
          "text": "",
          "x": -11.096927777698054,
          "xref": "x",
          "y": -0.6108947127014062,
          "yref": "y"
         },
         {
          "arrowcolor": "rgb(255,51,0)",
          "arrowhead": 3,
          "arrowwidth": 1.5,
          "ax": -11.13976866408596,
          "axref": "x",
          "ay": -0.6532143961400554,
          "ayref": "y",
          "showarrow": true,
          "text": "",
          "x": -10.95328866408596,
          "xref": "x",
          "y": -0.26360439614005726,
          "yref": "y"
         },
         {
          "arrowcolor": "rgb(255,51,0)",
          "arrowhead": 3,
          "arrowwidth": 1.5,
          "ax": -10.962021179995306,
          "axref": "x",
          "ay": -0.290772553436124,
          "ayref": "y",
          "showarrow": true,
          "text": "",
          "x": -10.7030611799953,
          "xref": "x",
          "y": 0.051187446563884076,
          "yref": "y"
         },
         {
          "arrowcolor": "rgb(255,51,0)",
          "arrowhead": 3,
          "arrowwidth": 1.5,
          "ax": -10.72872762477855,
          "axref": "x",
          "ay": 0.0491446383769239,
          "ayref": "y",
          "showarrow": true,
          "text": "",
          "x": -10.399057624778552,
          "xref": "x",
          "y": 0.3754846383769223,
          "yref": "y"
         },
         {
          "arrowcolor": "rgb(255,51,0)",
          "arrowhead": 3,
          "arrowwidth": 1.5,
          "ax": -10.456551767972208,
          "axref": "x",
          "ay": 0.38087103210210627,
          "ayref": "y",
          "showarrow": true,
          "text": "",
          "x": -10.131601767972214,
          "xref": "x",
          "y": 0.6857210321021006,
          "yref": "y"
         },
         {
          "arrowcolor": "rgb(255,51,0)",
          "arrowhead": 3,
          "arrowwidth": 1.5,
          "ax": -10.159380180528105,
          "axref": "x",
          "ay": 0.6798343003604721,
          "ayref": "y",
          "showarrow": true,
          "text": "",
          "x": -9.794180180528096,
          "xref": "x",
          "y": 0.9852743003604794,
          "yref": "y"
         },
         {
          "arrowcolor": "rgb(255,51,0)",
          "arrowhead": 3,
          "arrowwidth": 1.5,
          "ax": -9.845544746501965,
          "axref": "x",
          "ay": 0.9644636838958578,
          "ayref": "y",
          "showarrow": true,
          "text": "",
          "x": -9.445944746501967,
          "xref": "x",
          "y": 1.2175436838958567,
          "yref": "y"
         },
         {
          "arrowcolor": "rgb(255,51,0)",
          "arrowhead": 3,
          "arrowwidth": 1.5,
          "ax": -9.52893196008884,
          "axref": "x",
          "ay": 1.2368068767230513,
          "ayref": "y",
          "showarrow": true,
          "text": "",
          "x": -9.143811960088847,
          "xref": "x",
          "y": 1.4924468767230463,
          "yref": "y"
         },
         {
          "arrowcolor": "rgb(255,51,0)",
          "arrowhead": 3,
          "arrowwidth": 1.5,
          "ax": -9.201209962159297,
          "axref": "x",
          "ay": 1.4825300288106191,
          "ayref": "y",
          "showarrow": true,
          "text": "",
          "x": -8.805909962159287,
          "xref": "x",
          "y": 1.737130028810625,
          "yref": "y"
         },
         {
          "arrowcolor": "rgb(255,51,0)",
          "arrowhead": 3,
          "arrowwidth": 1.5,
          "ax": -8.856824107210876,
          "axref": "x",
          "ay": 1.7159669884676358,
          "ayref": "y",
          "showarrow": true,
          "text": "",
          "x": -8.499344107210888,
          "xref": "x",
          "y": 1.9112569884676294,
          "yref": "y"
         },
         {
          "arrowcolor": "rgb(255,51,0)",
          "arrowhead": 3,
          "arrowwidth": 1.5,
          "ax": -8.520770155682161,
          "axref": "x",
          "ay": 1.9494039228076228,
          "ayref": "y",
          "showarrow": true,
          "text": "",
          "x": -8.136670155682157,
          "xref": "x",
          "y": 2.1832039228076248,
          "yref": "y"
         },
         {
          "arrowcolor": "rgb(255,51,0)",
          "arrowhead": 3,
          "arrowwidth": 1.5,
          "ax": -8.173606992634557,
          "axref": "x",
          "ay": 2.193079297705631,
          "ayref": "y",
          "showarrow": true,
          "text": "",
          "x": -7.84492699263455,
          "xref": "x",
          "y": 2.4785992977056375,
          "yref": "y"
         },
         {
          "arrowcolor": "rgb(255,51,0)",
          "arrowhead": 3,
          "arrowwidth": 1.5,
          "ax": -7.815334601403911,
          "axref": "x",
          "ay": 2.436754644269917,
          "ayref": "y",
          "showarrow": true,
          "text": "",
          "x": -7.482334601403912,
          "xref": "x",
          "y": 2.649874644269916,
          "yref": "y"
         },
         {
          "arrowcolor": "rgb(255,51,0)",
          "arrowhead": 3,
          "arrowwidth": 1.5,
          "ax": -7.448730314380246,
          "axref": "x",
          "ay": 2.6660961195159247,
          "ayref": "y",
          "showarrow": true,
          "text": "",
          "x": -7.069110314380247,
          "xref": "x",
          "y": 2.859236119515924,
          "yref": "y"
         },
         {
          "arrowcolor": "rgb(255,51,0)",
          "arrowhead": 3,
          "arrowwidth": 1.5,
          "ax": -7.059907582388048,
          "axref": "x",
          "ay": 2.8770083198537204,
          "ayref": "y",
          "showarrow": true,
          "text": "",
          "x": -6.662447582388044,
          "xref": "x",
          "y": 3.060708319853722,
          "yref": "y"
         },
         {
          "arrowcolor": "rgb(255,51,0)",
          "arrowhead": 3,
          "arrowwidth": 1.5,
          "ax": -6.659975639045664,
          "axref": "x",
          "ay": 3.057205100787026,
          "ayref": "y",
          "showarrow": true,
          "text": "",
          "x": -6.249155639045677,
          "xref": "x",
          "y": 3.214185100787021,
          "yref": "y"
         },
         {
          "arrowcolor": "rgb(255,51,0)",
          "arrowhead": 3,
          "arrowwidth": 1.5,
          "ax": -6.26004371095309,
          "axref": "x",
          "ay": 3.210781863015824,
          "ayref": "y",
          "showarrow": true,
          "text": "",
          "x": -5.8350837109530795,
          "xref": "x",
          "y": 3.3269818630158268,
          "yref": "y"
         },
         {
          "arrowcolor": "rgb(255,51,0)",
          "arrowhead": 3,
          "arrowwidth": 1.5,
          "ax": -5.865666389292514,
          "axref": "x",
          "ay": 3.3438816823818325,
          "ayref": "y",
          "showarrow": true,
          "text": "",
          "x": -5.467266389292521,
          "xref": "x",
          "y": 3.433521682381831,
          "yref": "y"
         },
         {
          "arrowcolor": "rgb(255,51,0)",
          "arrowhead": 3,
          "arrowwidth": 1.5,
          "ax": -5.479621026296124,
          "axref": "x",
          "ay": 3.4216938095718556,
          "ayref": "y",
          "showarrow": true,
          "text": "",
          "x": -5.063371026296126,
          "xref": "x",
          "y": 3.4816338095718553,
          "yref": "y"
         },
         {
          "arrowcolor": "rgb(255,51,0)",
          "arrowhead": 3,
          "arrowwidth": 1.5,
          "ax": -5.099130299639977,
          "axref": "x",
          "ay": 3.429884393371681,
          "ayref": "y",
          "showarrow": true,
          "text": "",
          "x": -4.700480299639968,
          "xref": "x",
          "y": 3.37963439337168,
          "yref": "y"
         },
         {
          "arrowcolor": "rgb(255,51,0)",
          "arrowhead": 3,
          "arrowwidth": 1.5,
          "ax": -4.721416896804438,
          "axref": "x",
          "ay": 3.39507344324456,
          "ayref": "y",
          "showarrow": true,
          "text": "",
          "x": -4.342936896804446,
          "xref": "x",
          "y": 3.2755534432445623,
          "yref": "y"
         },
         {
          "arrowcolor": "rgb(255,51,0)",
          "arrowhead": 3,
          "arrowwidth": 1.5,
          "ax": -4.354812749253556,
          "axref": "x",
          "ay": 3.307022518546499,
          "ayref": "y",
          "showarrow": true,
          "text": "",
          "x": -3.948552749253558,
          "xref": "x",
          "y": 3.1771525185464995,
          "yref": "y"
         },
         {
          "arrowcolor": "rgb(255,51,0)",
          "arrowhead": 3,
          "arrowwidth": 1.5,
          "ax": -4.024313579719333,
          "axref": "x",
          "ay": 3.1677793212598706,
          "ayref": "y",
          "showarrow": true,
          "text": "",
          "x": -3.718873579719326,
          "xref": "x",
          "y": 2.9519793212598655,
          "yref": "y"
         },
         {
          "font": {
           "size": 14
          },
          "showarrow": false,
          "text": "Location (Blue) with Predicted Location for Next Timestamp (Red)",
          "x": 0.5,
          "xref": "paper",
          "y": 1.05,
          "yref": "paper"
         }
        ],
        "legend": {
         "tracegroupgap": 0
        },
        "margin": {
         "t": 60
        },
        "template": {
         "data": {
          "bar": [
           {
            "error_x": {
             "color": "#2a3f5f"
            },
            "error_y": {
             "color": "#2a3f5f"
            },
            "marker": {
             "line": {
              "color": "white",
              "width": 0.5
             },
             "pattern": {
              "fillmode": "overlay",
              "size": 10,
              "solidity": 0.2
             }
            },
            "type": "bar"
           }
          ],
          "barpolar": [
           {
            "marker": {
             "line": {
              "color": "white",
              "width": 0.5
             },
             "pattern": {
              "fillmode": "overlay",
              "size": 10,
              "solidity": 0.2
             }
            },
            "type": "barpolar"
           }
          ],
          "carpet": [
           {
            "aaxis": {
             "endlinecolor": "#2a3f5f",
             "gridcolor": "#C8D4E3",
             "linecolor": "#C8D4E3",
             "minorgridcolor": "#C8D4E3",
             "startlinecolor": "#2a3f5f"
            },
            "baxis": {
             "endlinecolor": "#2a3f5f",
             "gridcolor": "#C8D4E3",
             "linecolor": "#C8D4E3",
             "minorgridcolor": "#C8D4E3",
             "startlinecolor": "#2a3f5f"
            },
            "type": "carpet"
           }
          ],
          "choropleth": [
           {
            "colorbar": {
             "outlinewidth": 0,
             "ticks": ""
            },
            "type": "choropleth"
           }
          ],
          "contour": [
           {
            "colorbar": {
             "outlinewidth": 0,
             "ticks": ""
            },
            "colorscale": [
             [
              0,
              "#0d0887"
             ],
             [
              0.1111111111111111,
              "#46039f"
             ],
             [
              0.2222222222222222,
              "#7201a8"
             ],
             [
              0.3333333333333333,
              "#9c179e"
             ],
             [
              0.4444444444444444,
              "#bd3786"
             ],
             [
              0.5555555555555556,
              "#d8576b"
             ],
             [
              0.6666666666666666,
              "#ed7953"
             ],
             [
              0.7777777777777778,
              "#fb9f3a"
             ],
             [
              0.8888888888888888,
              "#fdca26"
             ],
             [
              1,
              "#f0f921"
             ]
            ],
            "type": "contour"
           }
          ],
          "contourcarpet": [
           {
            "colorbar": {
             "outlinewidth": 0,
             "ticks": ""
            },
            "type": "contourcarpet"
           }
          ],
          "heatmap": [
           {
            "colorbar": {
             "outlinewidth": 0,
             "ticks": ""
            },
            "colorscale": [
             [
              0,
              "#0d0887"
             ],
             [
              0.1111111111111111,
              "#46039f"
             ],
             [
              0.2222222222222222,
              "#7201a8"
             ],
             [
              0.3333333333333333,
              "#9c179e"
             ],
             [
              0.4444444444444444,
              "#bd3786"
             ],
             [
              0.5555555555555556,
              "#d8576b"
             ],
             [
              0.6666666666666666,
              "#ed7953"
             ],
             [
              0.7777777777777778,
              "#fb9f3a"
             ],
             [
              0.8888888888888888,
              "#fdca26"
             ],
             [
              1,
              "#f0f921"
             ]
            ],
            "type": "heatmap"
           }
          ],
          "heatmapgl": [
           {
            "colorbar": {
             "outlinewidth": 0,
             "ticks": ""
            },
            "colorscale": [
             [
              0,
              "#0d0887"
             ],
             [
              0.1111111111111111,
              "#46039f"
             ],
             [
              0.2222222222222222,
              "#7201a8"
             ],
             [
              0.3333333333333333,
              "#9c179e"
             ],
             [
              0.4444444444444444,
              "#bd3786"
             ],
             [
              0.5555555555555556,
              "#d8576b"
             ],
             [
              0.6666666666666666,
              "#ed7953"
             ],
             [
              0.7777777777777778,
              "#fb9f3a"
             ],
             [
              0.8888888888888888,
              "#fdca26"
             ],
             [
              1,
              "#f0f921"
             ]
            ],
            "type": "heatmapgl"
           }
          ],
          "histogram": [
           {
            "marker": {
             "pattern": {
              "fillmode": "overlay",
              "size": 10,
              "solidity": 0.2
             }
            },
            "type": "histogram"
           }
          ],
          "histogram2d": [
           {
            "colorbar": {
             "outlinewidth": 0,
             "ticks": ""
            },
            "colorscale": [
             [
              0,
              "#0d0887"
             ],
             [
              0.1111111111111111,
              "#46039f"
             ],
             [
              0.2222222222222222,
              "#7201a8"
             ],
             [
              0.3333333333333333,
              "#9c179e"
             ],
             [
              0.4444444444444444,
              "#bd3786"
             ],
             [
              0.5555555555555556,
              "#d8576b"
             ],
             [
              0.6666666666666666,
              "#ed7953"
             ],
             [
              0.7777777777777778,
              "#fb9f3a"
             ],
             [
              0.8888888888888888,
              "#fdca26"
             ],
             [
              1,
              "#f0f921"
             ]
            ],
            "type": "histogram2d"
           }
          ],
          "histogram2dcontour": [
           {
            "colorbar": {
             "outlinewidth": 0,
             "ticks": ""
            },
            "colorscale": [
             [
              0,
              "#0d0887"
             ],
             [
              0.1111111111111111,
              "#46039f"
             ],
             [
              0.2222222222222222,
              "#7201a8"
             ],
             [
              0.3333333333333333,
              "#9c179e"
             ],
             [
              0.4444444444444444,
              "#bd3786"
             ],
             [
              0.5555555555555556,
              "#d8576b"
             ],
             [
              0.6666666666666666,
              "#ed7953"
             ],
             [
              0.7777777777777778,
              "#fb9f3a"
             ],
             [
              0.8888888888888888,
              "#fdca26"
             ],
             [
              1,
              "#f0f921"
             ]
            ],
            "type": "histogram2dcontour"
           }
          ],
          "mesh3d": [
           {
            "colorbar": {
             "outlinewidth": 0,
             "ticks": ""
            },
            "type": "mesh3d"
           }
          ],
          "parcoords": [
           {
            "line": {
             "colorbar": {
              "outlinewidth": 0,
              "ticks": ""
             }
            },
            "type": "parcoords"
           }
          ],
          "pie": [
           {
            "automargin": true,
            "type": "pie"
           }
          ],
          "scatter": [
           {
            "fillpattern": {
             "fillmode": "overlay",
             "size": 10,
             "solidity": 0.2
            },
            "type": "scatter"
           }
          ],
          "scatter3d": [
           {
            "line": {
             "colorbar": {
              "outlinewidth": 0,
              "ticks": ""
             }
            },
            "marker": {
             "colorbar": {
              "outlinewidth": 0,
              "ticks": ""
             }
            },
            "type": "scatter3d"
           }
          ],
          "scattercarpet": [
           {
            "marker": {
             "colorbar": {
              "outlinewidth": 0,
              "ticks": ""
             }
            },
            "type": "scattercarpet"
           }
          ],
          "scattergeo": [
           {
            "marker": {
             "colorbar": {
              "outlinewidth": 0,
              "ticks": ""
             }
            },
            "type": "scattergeo"
           }
          ],
          "scattergl": [
           {
            "marker": {
             "colorbar": {
              "outlinewidth": 0,
              "ticks": ""
             }
            },
            "type": "scattergl"
           }
          ],
          "scattermapbox": [
           {
            "marker": {
             "colorbar": {
              "outlinewidth": 0,
              "ticks": ""
             }
            },
            "type": "scattermapbox"
           }
          ],
          "scatterpolar": [
           {
            "marker": {
             "colorbar": {
              "outlinewidth": 0,
              "ticks": ""
             }
            },
            "type": "scatterpolar"
           }
          ],
          "scatterpolargl": [
           {
            "marker": {
             "colorbar": {
              "outlinewidth": 0,
              "ticks": ""
             }
            },
            "type": "scatterpolargl"
           }
          ],
          "scatterternary": [
           {
            "marker": {
             "colorbar": {
              "outlinewidth": 0,
              "ticks": ""
             }
            },
            "type": "scatterternary"
           }
          ],
          "surface": [
           {
            "colorbar": {
             "outlinewidth": 0,
             "ticks": ""
            },
            "colorscale": [
             [
              0,
              "#0d0887"
             ],
             [
              0.1111111111111111,
              "#46039f"
             ],
             [
              0.2222222222222222,
              "#7201a8"
             ],
             [
              0.3333333333333333,
              "#9c179e"
             ],
             [
              0.4444444444444444,
              "#bd3786"
             ],
             [
              0.5555555555555556,
              "#d8576b"
             ],
             [
              0.6666666666666666,
              "#ed7953"
             ],
             [
              0.7777777777777778,
              "#fb9f3a"
             ],
             [
              0.8888888888888888,
              "#fdca26"
             ],
             [
              1,
              "#f0f921"
             ]
            ],
            "type": "surface"
           }
          ],
          "table": [
           {
            "cells": {
             "fill": {
              "color": "#EBF0F8"
             },
             "line": {
              "color": "white"
             }
            },
            "header": {
             "fill": {
              "color": "#C8D4E3"
             },
             "line": {
              "color": "white"
             }
            },
            "type": "table"
           }
          ]
         },
         "layout": {
          "annotationdefaults": {
           "arrowcolor": "#2a3f5f",
           "arrowhead": 0,
           "arrowwidth": 1
          },
          "autotypenumbers": "strict",
          "coloraxis": {
           "colorbar": {
            "outlinewidth": 0,
            "ticks": ""
           }
          },
          "colorscale": {
           "diverging": [
            [
             0,
             "#8e0152"
            ],
            [
             0.1,
             "#c51b7d"
            ],
            [
             0.2,
             "#de77ae"
            ],
            [
             0.3,
             "#f1b6da"
            ],
            [
             0.4,
             "#fde0ef"
            ],
            [
             0.5,
             "#f7f7f7"
            ],
            [
             0.6,
             "#e6f5d0"
            ],
            [
             0.7,
             "#b8e186"
            ],
            [
             0.8,
             "#7fbc41"
            ],
            [
             0.9,
             "#4d9221"
            ],
            [
             1,
             "#276419"
            ]
           ],
           "sequential": [
            [
             0,
             "#0d0887"
            ],
            [
             0.1111111111111111,
             "#46039f"
            ],
            [
             0.2222222222222222,
             "#7201a8"
            ],
            [
             0.3333333333333333,
             "#9c179e"
            ],
            [
             0.4444444444444444,
             "#bd3786"
            ],
            [
             0.5555555555555556,
             "#d8576b"
            ],
            [
             0.6666666666666666,
             "#ed7953"
            ],
            [
             0.7777777777777778,
             "#fb9f3a"
            ],
            [
             0.8888888888888888,
             "#fdca26"
            ],
            [
             1,
             "#f0f921"
            ]
           ],
           "sequentialminus": [
            [
             0,
             "#0d0887"
            ],
            [
             0.1111111111111111,
             "#46039f"
            ],
            [
             0.2222222222222222,
             "#7201a8"
            ],
            [
             0.3333333333333333,
             "#9c179e"
            ],
            [
             0.4444444444444444,
             "#bd3786"
            ],
            [
             0.5555555555555556,
             "#d8576b"
            ],
            [
             0.6666666666666666,
             "#ed7953"
            ],
            [
             0.7777777777777778,
             "#fb9f3a"
            ],
            [
             0.8888888888888888,
             "#fdca26"
            ],
            [
             1,
             "#f0f921"
            ]
           ]
          },
          "colorway": [
           "#636efa",
           "#EF553B",
           "#00cc96",
           "#ab63fa",
           "#FFA15A",
           "#19d3f3",
           "#FF6692",
           "#B6E880",
           "#FF97FF",
           "#FECB52"
          ],
          "font": {
           "color": "#2a3f5f"
          },
          "geo": {
           "bgcolor": "white",
           "lakecolor": "white",
           "landcolor": "white",
           "showlakes": true,
           "showland": true,
           "subunitcolor": "#C8D4E3"
          },
          "hoverlabel": {
           "align": "left"
          },
          "hovermode": "closest",
          "mapbox": {
           "style": "light"
          },
          "paper_bgcolor": "white",
          "plot_bgcolor": "white",
          "polar": {
           "angularaxis": {
            "gridcolor": "#EBF0F8",
            "linecolor": "#EBF0F8",
            "ticks": ""
           },
           "bgcolor": "white",
           "radialaxis": {
            "gridcolor": "#EBF0F8",
            "linecolor": "#EBF0F8",
            "ticks": ""
           }
          },
          "scene": {
           "xaxis": {
            "backgroundcolor": "white",
            "gridcolor": "#DFE8F3",
            "gridwidth": 2,
            "linecolor": "#EBF0F8",
            "showbackground": true,
            "ticks": "",
            "zerolinecolor": "#EBF0F8"
           },
           "yaxis": {
            "backgroundcolor": "white",
            "gridcolor": "#DFE8F3",
            "gridwidth": 2,
            "linecolor": "#EBF0F8",
            "showbackground": true,
            "ticks": "",
            "zerolinecolor": "#EBF0F8"
           },
           "zaxis": {
            "backgroundcolor": "white",
            "gridcolor": "#DFE8F3",
            "gridwidth": 2,
            "linecolor": "#EBF0F8",
            "showbackground": true,
            "ticks": "",
            "zerolinecolor": "#EBF0F8"
           }
          },
          "shapedefaults": {
           "line": {
            "color": "#2a3f5f"
           }
          },
          "ternary": {
           "aaxis": {
            "gridcolor": "#DFE8F3",
            "linecolor": "#A2B1C6",
            "ticks": ""
           },
           "baxis": {
            "gridcolor": "#DFE8F3",
            "linecolor": "#A2B1C6",
            "ticks": ""
           },
           "bgcolor": "white",
           "caxis": {
            "gridcolor": "#DFE8F3",
            "linecolor": "#A2B1C6",
            "ticks": ""
           }
          },
          "title": {
           "x": 0.05
          },
          "xaxis": {
           "automargin": true,
           "gridcolor": "#EBF0F8",
           "linecolor": "#EBF0F8",
           "ticks": "",
           "title": {
            "standoff": 15
           },
           "zerolinecolor": "#EBF0F8",
           "zerolinewidth": 2
          },
          "yaxis": {
           "automargin": true,
           "gridcolor": "#EBF0F8",
           "linecolor": "#EBF0F8",
           "ticks": "",
           "title": {
            "standoff": 15
           },
           "zerolinecolor": "#EBF0F8",
           "zerolinewidth": 2
          }
         }
        },
        "title": {
         "text": "<b>Kinematic Model of Telemetry Stream</b>"
        },
        "xaxis": {
         "anchor": "y",
         "autorange": "reversed",
         "domain": [
          0,
          1
         ],
         "title": {
          "font": {
           "family": "Trebuchet"
          },
          "text": "East (m)"
         }
        },
        "yaxis": {
         "anchor": "x",
         "domain": [
          0,
          1
         ],
         "scaleanchor": "x",
         "scaleratio": 1,
         "title": {
          "text": "North (m)"
         }
        }
       }
      }
     },
     "metadata": {},
     "output_type": "display_data"
    }
   ],
   "source": [
    "df['error'] = error.shift(-1)\n",
    "\n",
    "fig = px.scatter(df, x='x', y='y')\n",
    "\n",
    "fig.update_xaxes(title_font_family=\"Trebuchet\")\n",
    "fig.update_layout(yaxis=dict(scaleanchor=\"x\", scaleratio=1),\n",
    "                  template = \"plotly_white\",\n",
    "                  title=\"<b>Kinematic Model of Telemetry Stream</b>\",\n",
    "                 )\n",
    "fig.update_layout(xaxis = dict(autorange=\"reversed\"))\n",
    "\n",
    "\n",
    "arrows = []\n",
    "for index, row in df.iloc[3:-3].iterrows():\n",
    "    arrow = go.layout.Annotation(dict(\n",
    "                    x=row['x_pred'],\n",
    "                    y=row['y_pred'],\n",
    "                    xref=\"x\", yref=\"y\",\n",
    "                    text=\"\",\n",
    "                    showarrow=True,\n",
    "                    axref=\"x\", ayref='y',\n",
    "                    ax=row['x'],\n",
    "                    ay=row['y'],\n",
    "                    arrowhead=3,\n",
    "                    arrowwidth=1.5,\n",
    "                    arrowcolor='rgb(255,51,0)',)\n",
    "                )\n",
    "    arrows.append(arrow)\n",
    "\n",
    "\n",
    "fig.update_layout(annotations=arrows)\n",
    "# update the axes labels\n",
    "fig.update_xaxes(title_text=\"East (m)\")\n",
    "fig.update_yaxes(title_text=\"North (m)\")\n",
    "# add subtitle\n",
    "fig.add_annotation(xref='paper', yref='paper', x=0.5, y=1.05,\n",
    "            text=\"Location (Blue) with Predicted Location for Next Timestamp (Red)\",\n",
    "            showarrow=False, font=dict(size=14))\n",
    "\n",
    "fig.write_html(\"figures/2D-kinematic-model.html\")\n",
    "fig.show()"
   ]
  },
  {
   "cell_type": "code",
   "execution_count": 13,
   "metadata": {},
   "outputs": [
    {
     "data": {
      "application/vnd.plotly.v1+json": {
       "config": {
        "plotlyServerURL": "https://plot.ly"
       },
       "data": [
        {
         "marker": {
          "color": [
           0.3395019288884251,
           0.8832552400666746,
           1.1942090545015636,
           1.1671331944802361,
           1.192414823565467,
           1.22808604012661,
           1.397063543819922,
           1.4009983616653023,
           2.062546286886279,
           2.194045975636366,
           1.5084085771314437,
           1.9536113055273567,
           1.5913534032567833,
           1.5588735886829392,
           2.0707896513925372,
           2.2757288425798867,
           2.461837585108313,
           2.4270068191731426,
           5.593594779802561,
           7.9984966704752924,
           2.1050929522835453,
           7.369189367657972,
           15.34577843446297,
           13.277665835382974,
           11.289792562623322,
           10.218989903353348,
           5.913023115062673,
           8.746214170358051,
           7.853882521801222,
           5.985457422924748,
           3.4992935364860145,
           7.78111624011095,
           10.307189129372258,
           7.094927112333988,
           5.736138195585987,
           6.4476728686838705,
           8.119153322984262,
           10.166483869907733,
           7.340289200012899,
           6.454023856124555,
           3.302050942235011,
           3.6018073701867257,
           4.224936714295495,
           6.4864951839514555,
           8.717195953245731,
           7.96127372145004,
           8.482456452815434,
           16.049129466934712,
           11.90142752868252,
           10.300590108977122,
           7.62649188801481,
           4.807079672293554,
           9.390251498491995,
           6.234544203620341,
           6.1184716464483095,
           7.32525028257085,
           4.502808927324388,
           6.663140682964051,
           8.488061011313436,
           4.750042064752794,
           9.594168609921992,
           5.64863338377296,
           5.2813294144677885,
           8.567156783345537,
           5.783731292037031,
           5.53805045626918,
           4.133296985328315,
           2.318998157432949,
           4.149801162691973,
           4.693341242937354,
           4.023361927709143,
           4.512424212754762,
           8.988395723568303,
           4.4692778410155265,
           3.9735171331064882,
           8.387732979971274,
           5.851776191884352,
           7.504977753644337,
           9.569349760737627,
           5.917237463488175,
           5.944604417010011,
           3.0452350745281276,
           5.7860802414260375,
           3.5919310855833775,
           5.194914382491348,
           4.380104354053272,
           4.035767032747112,
           6.765505480094397,
           5.1198909514154725,
           2.662331392938998,
           4.5937363350121805,
           3.9252329767090983,
           7.2482428753863735,
           6.4955462903300925,
           4.931346639483664,
           8.03045166635677,
           2.202238883775499,
           2.6505894268537458,
           9.119602170123597,
           7.0564684722813436,
           11.221740681054037,
           8.549213067751788,
           8.874609914331113,
           8.331937006090403,
           8.093954273144991,
           10.472046534558466,
           10.65338426076375,
           6.62343531095351,
           9.966655601353432,
           10.51525850463452,
           4.240934123534922,
           7.794079697683269,
           6.917615930702425,
           4.089702231543988,
           0.4641364936352659,
           8.114688635057703,
           1.7033399960187687,
           7.004071013596401,
           5.627335037235847,
           3.9840924821814463,
           10.76388396415221,
           7.120327557102439,
           8.406544662177653,
           9.707484884806155,
           5.510626472692637,
           4.390843379539911,
           1.5627127044135183,
           4.254917448000316,
           9.335362088251534,
           5.151211638726803,
           8.110278811786179,
           11.214650591415792,
           8.071083330672323,
           9.060912403019426,
           6.963609494631723,
           7.643128695556753,
           8.708941481589235,
           7.161144982533721,
           11.85762279334578,
           5.280701723950926,
           5.275338982229652,
           10.930784786856837,
           5.294505108828365,
           4.7806972998653805,
           5.670300212034565,
           12.251476482892839,
           6.187240612685948,
           11.754192676855693,
           12.609823605255762,
           8.171558095933271,
           9.990223315537744,
           8.606092434167694,
           3.0843009895714006,
           9.517249482265267,
           15.118510461348212,
           15.525365356657698,
           20.370382940502225,
           14.0939396849324,
           11.88478711014283,
           12.702023669507328,
           9.056829461722373,
           11.86431270850972,
           6.174323073711062,
           5.975046357634845,
           3.208519370419813,
           5.473909307534537,
           8.915909135945748,
           10.779842999692374,
           4.426118700183046,
           7.010178653132529,
           3.988400355140044,
           10.90669850659572,
           6.138002485882456,
           12.893232642478239,
           12.10386049626539,
           6.6395284826544305,
           9.121567353633484,
           6.468674552677073,
           5.487025965151585,
           6.160383021711006,
           6.399912760673724,
           6.325481821158924,
           5.218952398800545,
           9.49463941076955,
           8.06347314942745,
           10.361657713369942,
           3.925608548883544,
           5.511928254083258,
           3.8681607315627744,
           10.280087538296325,
           5.922487397337517,
           2.7105170147968147,
           7.891997342231306,
           4.339035532935755,
           3.632989366172401,
           5.007897450839172,
           5.627787923133843,
           8.539478265818078,
           3.147457555109321,
           7.194943387140137,
           7.508007834169031,
           5.273285383255702,
           5.27542914080568,
           4.874292579354359,
           3.836490343765793,
           6.83910886508734,
           5.751871447422466,
           3.7555199271680917,
           6.5060103881164375,
           2.8849595311324543,
           8.393678833520324,
           9.632025198771514,
           6.921059718245812,
           5.719420884172611,
           4.410927946694897,
           5.4174242793387295,
           7.804631168001388,
           4.946375096410361,
           2.084809038940598,
           2.791162154398866,
           4.005829122976307,
           4.703098967897818,
           2.7520104015365816,
           6.295217351297142,
           7.895855935125364,
           3.5566347155262856,
           10.992914138328123,
           4.871657954569317,
           7.218310782142214,
           89.13912063346854,
           null
          ],
          "colorscale": [
           [
            0,
            "#440154"
           ],
           [
            0.1111111111111111,
            "#482878"
           ],
           [
            0.2222222222222222,
            "#3e4989"
           ],
           [
            0.3333333333333333,
            "#31688e"
           ],
           [
            0.4444444444444444,
            "#26828e"
           ],
           [
            0.5555555555555556,
            "#1f9e89"
           ],
           [
            0.6666666666666666,
            "#35b779"
           ],
           [
            0.7777777777777778,
            "#6ece58"
           ],
           [
            0.8888888888888888,
            "#b5de2b"
           ],
           [
            1,
            "#fde725"
           ]
          ],
          "opacity": 0.8,
          "size": 2
         },
         "mode": "markers",
         "type": "scatter3d",
         "x": [
          -0.002777303941683742,
          -0.008331911955189715,
          -0.01666382378074808,
          -0.027773039689084834,
          -0.038882255504400956,
          -0.04999147125284605,
          -0.061100687081982734,
          -0.07498720664625172,
          -0.08609642212841653,
          -0.10276024553807105,
          -0.11942406873956507,
          -0.13053328413472265,
          -0.14719710748079382,
          -0.15830632312640452,
          -0.17219284250924152,
          -0.19163396986490444,
          -0.21385240119287413,
          -0.24162544032624628,
          -0.26662117587442935,
          -0.28328500144985863,
          -0.2888396146913579,
          -0.2721757984091548,
          -0.2638438978810097,
          -0.29439425554571225,
          -0.4082637387122324,
          -0.6304480856628346,
          -0.958169996914048,
          -1.321996873233671,
          -1.6108365374245754,
          -1.7497017659567722,
          -1.6913783842621268,
          -1.4997443828233092,
          -1.2497869772110355,
          -0.9998295609836699,
          -0.76653595585552,
          -0.5360196366597308,
          -0.28883947831040546,
          -0.030550094001878372,
          0.21385278357000959,
          0.46103298250026864,
          0.7082131999697965,
          0.9331750019928889,
          1.1331410736993872,
          1.285892983127697,
          1.3608803888540904,
          1.3692125092263516,
          1.3136666598732079,
          1.1914655257116176,
          1.008163704985286,
          0.7665384922707772,
          0.49158561001976164,
          0.1805277531970723,
          -0.16385777739459728,
          -0.5276844623305064,
          -0.9387253585738036,
          -1.3914258797724515,
          -1.8607902766642088,
          -2.3412639385591145,
          -2.8217376304415165,
          -3.2883247957158894,
          -3.7549119698034303,
          -4.238162980236252,
          -4.726968599000973,
          -5.235215359360712,
          -5.7490167339547735,
          -6.257263478172701,
          -6.765510206926567,
          -7.259870403538095,
          -7.7514532972355115,
          -8.243036208219685,
          -8.723509907102283,
          -9.190097104344177,
          -9.653907010318594,
          -10.106607697519216,
          -10.55375381808314,
          -11.006454557534864,
          -11.445268790200469,
          -11.8729738577542,
          -12.295124322662325,
          -12.69783368782494,
          -13.086656518228214,
          -13.467147387489431,
          -13.833751707043705,
          -14.205910595029604,
          -14.589178671730892,
          -14.983555976652688,
          -15.405706325267808,
          -15.83896589977594,
          -16.28611202624006,
          -16.741590028926744,
          -17.17484959176512,
          -17.574781500828045,
          -17.93027652389022,
          -18.227448225369123,
          -18.474628507358688,
          -18.655153526425522,
          -18.757914094930623,
          -18.785687435832507,
          -18.73291890095173,
          -18.61071766501123,
          -18.421860993275438,
          -18.17190355072043,
          -17.858068048819113,
          -17.510904874227585,
          -17.14707788033732,
          -16.791582744564444,
          -16.466637978158477,
          -16.13891594828953,
          -15.811193927860158,
          -15.464030839129519,
          -15.083540060684872,
          -14.68916270743037,
          -14.264235006375543,
          -13.800425027599083,
          -13.314396663917893,
          -12.82559105787372,
          -12.353449322026583,
          -11.928521837693953,
          -11.536922022701397,
          -11.173095276016465,
          -10.834264283321357,
          -10.489878634558877,
          -10.156602187764213,
          -9.823325689104408,
          -9.476162602211582,
          -9.131776794527028,
          -8.784613636479227,
          -8.459668886816207,
          -8.179160975549342,
          -7.9236487732968826,
          -7.679245803127547,
          -7.395960573894446,
          -7.054352016806817,
          -6.659974751032424,
          -6.2406017832407015,
          -5.849001936606701,
          -5.507393614559282,
          -5.229663312690746,
          -4.9963699171921,
          -4.7880722621672405,
          -4.568665370754191,
          -4.31870809785854,
          -4.024313904468792,
          -3.6771508779311053,
          -3.293882832676811,
          -2.893950928111611,
          -2.507905520003966,
          -2.1468558245575027,
          -1.8219110843656903,
          -1.5164074667419576,
          -1.2109038403651171,
          -0.874849868453135,
          -0.49435903367334466,
          -0.0916497852432207,
          0.2999502028352439,
          0.6193402116201452,
          0.855411028488824,
          1.0276038013906548,
          1.1636915929226779,
          1.2831155539932966,
          1.3830983893009485,
          1.4247578371239167,
          1.383098156470262,
          1.269228568986578,
          1.0859263760136462,
          0.8498554040076476,
          0.5971206181863107,
          0.34716315048397794,
          0.0999829994692395,
          -0.15275175417958053,
          -0.43325954905848707,
          -0.7554269064550128,
          -1.1109219077943526,
          -1.4497530601486202,
          -1.755256534354524,
          -2.0413188435185314,
          -2.3079399929560593,
          -2.5717838236909474,
          -2.846736854927649,
          -3.113357975284536,
          -3.3605379687939814,
          -3.5938314490162604,
          -3.7854653795600663,
          -3.9354397731875683,
          -4.0798596046427615,
          -4.252052531384372,
          -4.488123490410957,
          -4.796404381361058,
          -5.157454049011557,
          -5.549054035854111,
          -5.951763238028573,
          -6.360027034840943,
          -6.765513526955651,
          -7.182109235125958,
          -7.607036843946725,
          -8.029187159508835,
          -8.459669369763779,
          -8.87904235912244,
          -9.292860757940451,
          -9.701124532353848,
          -10.101056431145903,
          -10.478769914467932,
          -10.806491917949808,
          -11.0620040175831,
          -11.200869291835183,
          -11.223087777698051,
          -11.13976866408596,
          -10.962021179995306,
          -10.72872762477855,
          -10.456551767972208,
          -10.159380180528105,
          -9.845544746501965,
          -9.52893196008884,
          -9.201209962159297,
          -8.856824107210876,
          -8.520770155682161,
          -8.173606992634557,
          -7.815334601403911,
          -7.448730314380246,
          -7.059907582388048,
          -6.659975639045664,
          -6.26004371095309,
          -5.865666389292514,
          -5.479621026296124,
          -5.099130299639977,
          -4.721416896804438,
          -4.354812749253556,
          -4.024313579719333,
          -3.7326966996796704,
          -3.477184788694472,
          -2.5217921923560294
         ],
         "y": [
          -0.0020476899333640533,
          -0.006143070047661469,
          -0.01433383080385329,
          -0.02457228176203835,
          -0.0348107330100637,
          -0.04504918433723798,
          -0.053239945514200145,
          -0.06143070641592273,
          -0.07166915774130969,
          -0.08190760934346741,
          -0.09214606040821549,
          -0.10238451176899556,
          -0.11262296321197551,
          -0.12286141465323808,
          -0.13309986613822153,
          -0.14333831774752465,
          -0.15152907931618334,
          -0.15767215055462483,
          -0.16586291257584124,
          -0.18224443726913295,
          -0.20067365514147742,
          -0.22934132890668216,
          -0.2621043878137046,
          -0.3214874283796646,
          -0.43206274222230145,
          -0.5610672808223192,
          -0.6777856831157203,
          -0.733073366780357,
          -0.6921195713671724,
          -0.5651627400726323,
          -0.37677516513150466,
          -0.13719531080605388,
          0.15971987861420692,
          0.487350408810702,
          0.8334101340856288,
          1.1917559752290796,
          1.5296248805141544,
          1.8490645408650503,
          2.1664564934556827,
          2.48384843309905,
          2.811478798292641,
          3.153442981002752,
          3.4913117607490793,
          3.8291805312228426,
          4.16909702158143,
          4.511061238305493,
          4.861216289703188,
          5.205228356550099,
          5.5369543680274615,
          5.850251264572274,
          6.136928218020957,
          6.399032924729468,
          6.63451770187624,
          6.84338252684868,
          7.015389001050958,
          7.1341555851401495,
          7.205825295166545,
          7.23039811665147,
          7.222207859524915,
          7.205826790371507,
          7.177159566697052,
          7.142349288682143,
          7.117777489197605,
          7.097301113869596,
          7.0747770505285885,
          7.07068220514997,
          7.0768258153184025,
          7.082969400593596,
          7.103446846849781,
          7.1177812246404955,
          7.113686342797506,
          7.107543766779299,
          7.093210413441123,
          7.070686263742423,
          7.04816213250481,
          7.025638007203303,
          6.988780001754373,
          6.939635835318374,
          6.882300873846971,
          6.808584336004043,
          6.7410108544340295,
          6.69596198422595,
          6.6591038633057416,
          6.628388808747994,
          6.612007619754457,
          6.5935787480631785,
          6.573102201693299,
          6.55876875397185,
          6.528053757279526,
          6.474814087797157,
          6.415431301140979,
          6.33761920798969,
          6.212710036223793,
          6.040703802555904,
          5.811362024692331,
          5.520589292715195,
          5.192957973122669,
          4.8346111441121,
          4.468073465694479,
          4.117917309354878,
          3.8046196438253714,
          3.5609436308076496,
          3.4012231401143396,
          3.321362794563009,
          3.331601076672321,
          3.421699490537819,
          3.5404656576830216,
          3.679708779583488,
          3.8209995869176963,
          3.9336226465335824,
          4.031911799376882,
          4.126105527753499,
          4.208013053993375,
          4.27149128641786,
          4.31654025834113,
          4.3226830383528005,
          4.259204222561516,
          4.124056158803615,
          3.9233819113624024,
          3.6510384056043668,
          3.3582180041966674,
          3.089969944624567,
          2.8606280969326097,
          2.71524170481741,
          2.6824784555954033,
          2.750052190218352,
          2.9036290332852444,
          3.1432089912030214,
          3.436028968351401,
          3.751373553795626,
          4.070813521774643,
          4.345204193231474,
          4.523353256670704,
          4.599117649260526,
          4.578640454838108,
          4.457826358764461,
          4.259199997607578,
          4.009381380229167,
          3.710418205810785,
          3.384835064590959,
          3.071538090526355,
          2.8073857292852846,
          2.6149025787237394,
          2.5227563207593464,
          2.5432330909132004,
          2.6271882868060206,
          2.7664311456118043,
          2.95481858282235,
          3.1616352437181603,
          3.384833423551056,
          3.6182700373979095,
          3.8373727729722145,
          4.029855465843552,
          4.183432010863134,
          4.267387074210016,
          4.248957664992551,
          4.126096124549566,
          3.923374707346568,
          3.663317995200911,
          3.3725459432714597,
          3.073583131073219,
          2.768477273428886,
          2.459276061342358,
          2.1541702432403453,
          1.842921360525723,
          1.525529398267206,
          1.2101851108797885,
          0.8927931100642934,
          0.5958779927316661,
          0.3153443761006839,
          0.034810728403700114,
          -0.23753218601427142,
          -0.5344474239384822,
          -0.8682211308143134,
          -1.2286148526778478,
          -1.6279147383832895,
          -2.0517869548082137,
          -2.4715638257528676,
          -2.8688161168553137,
          -3.221019221429985,
          -3.51179158116002,
          -3.7370377979513583,
          -3.9049486295250135,
          -3.995047144256554,
          -3.99095182104198,
          -3.906996524846868,
          -3.7677535680759275,
          -3.6059860287959298,
          -3.460600045165286,
          -3.347977134455254,
          -3.251735765120444,
          -3.1657328479268942,
          -3.0981591611056905,
          -3.051062406881469,
          -3.016251806581396,
          -2.9998704460138716,
          -2.99577524159013,
          -2.9671077064368934,
          -2.901581682462025,
          -2.7930540731848597,
          -2.610809479457652,
          -2.365086352396507,
          -2.0763616148393824,
          -1.742587573850662,
          -1.38424115756695,
          -1.0258947127013982,
          -0.6532143961400554,
          -0.290772553436124,
          0.0491446383769239,
          0.38087103210210627,
          0.6798343003604721,
          0.9644636838958578,
          1.2368068767230513,
          1.4825300288106191,
          1.7159669884676358,
          1.9494039228076228,
          2.193079297705631,
          2.436754644269917,
          2.6660961195159247,
          2.8770083198537204,
          3.057205100787026,
          3.210781863015824,
          3.3438816823818325,
          3.4216938095718556,
          3.429884393371681,
          3.39507344324456,
          3.307022518546499,
          3.1677793212598706,
          2.9855346364355877,
          2.74390691426761,
          1.9596409493919449
         ],
         "z": [
          -2.407505065530474e-10,
          -2.381765581201817e-10,
          -0.00249999998796607,
          -0.004999999825735345,
          -0.0049999997066348155,
          -0.002499999945517946,
          0.002499999617389206,
          0.00249999928705917,
          -0.002500001069737535,
          -0.012500001289104142,
          -0.025000001791445483,
          -0.0325000023000378,
          -0.040000002530661265,
          -0.045000003053653384,
          -0.05000000369560601,
          -0.05500000472219822,
          -0.05750000589879552,
          -0.06000000729814368,
          -0.05250000818355963,
          -9.422558663874092e-9,
          0.13499998974173089,
          0.3749999895929733,
          0.6749999885243883,
          0.927499984190421,
          1.0974999672603918,
          1.149999933339548,
          1.122499876005597,
          1.1099998058069398,
          1.09999975006076,
          1.0874997299193598,
          1.087499755019454,
          1.0749998070464266,
          1.0549998579458804,
          1.042499885170556,
          1.0349998813475363,
          1.0074998487442244,
          0.9824997929637633,
          0.9549997160714403,
          0.932499613750289,
          0.9449994850389664,
          0.9549993245289158,
          0.962499135694635,
          0.93999893052425,
          0.8899987103582347,
          0.8424984821258334,
          0.802498247542254,
          0.8049980022068022,
          0.8449977540520588,
          0.9099975054729534,
          1.0049972583863545,
          1.074997016468786,
          1.1224967759167206,
          1.1574965347661739,
          1.174996293383375,
          1.2074960581264516,
          1.2524958417510967,
          1.2874956399000952,
          1.3124954548204368,
          1.319995270921697,
          1.299995065709645,
          1.277494838754293,
          1.2624945731410637,
          1.2624942546866194,
          1.2824938777614316,
          1.304993459245464,
          1.3224929851703284,
          1.3324924602051231,
          1.3324919090237648,
          1.3449913066359802,
          1.3649906737222044,
          1.3749900389893681,
          1.3974893909944073,
          1.4199887209306958,
          1.434988042910648,
          1.4749873419745498,
          1.517486600711409,
          1.5574858677227539,
          1.6174851388431528,
          1.672484400558562,
          1.7324836897638871,
          1.7874829750858607,
          1.8274822300354152,
          1.857481483332889,
          1.869980695088232,
          1.8749798438169987,
          1.8824789454136506,
          1.8874779568636566,
          1.8974769070513577,
          1.9124758083633935,
          1.9049746812106787,
          1.8949735884466676,
          1.8799725782666508,
          1.8474717121103756,
          1.8299710332586385,
          1.8199705330253555,
          1.812470265100337,
          1.8274702373410054,
          1.8399704346836567,
          1.8424708570453538,
          1.8249714522722438,
          1.7774721962031443,
          1.7224730549485838,
          1.6649740297690072,
          1.6149750357531445,
          1.5824760208429938,
          1.5424769221776287,
          1.5149777075846411,
          1.5074784685449942,
          1.504979206897222,
          1.522479989972912,
          1.522480841140077,
          1.499981700935333,
          1.4749826110164304,
          1.4374835876276955,
          1.417484590974823,
          1.4149855919774637,
          1.4124865715852217,
          1.4274874725663742,
          1.432488319824664,
          1.4324891296106337,
          1.4399898764620174,
          1.432490590495327,
          1.4299912410397573,
          1.4199918301067527,
          1.3974923709454923,
          1.3849928431272653,
          1.364993261682237,
          1.354993588275493,
          1.3449938040032707,
          1.3274939496200187,
          1.332494054806622,
          1.3274942097208107,
          1.3349944730266405,
          1.357494841075906,
          1.3599952803450044,
          1.3749957394253693,
          1.3899961825841827,
          1.3974965792446137,
          1.4249969466487538,
          1.4524972874428959,
          1.48499760698726,
          1.519997904430501,
          1.544998179005308,
          1.5699984249330718,
          1.5699986247210744,
          1.5549987839076833,
          1.5274988900037805,
          1.4799989396013071,
          1.4499989427736422,
          1.422498908337009,
          1.3949988455487285,
          1.367498770011613,
          1.3174986897878127,
          1.2799986091782969,
          1.2499985520313384,
          1.2424985476012058,
          1.282498603077866,
          1.3299987040462495,
          1.3874988337068408,
          1.4474989700418133,
          1.4874990998484967,
          1.5249992313567047,
          1.5549993668851578,
          1.5774994982850843,
          1.5949996269551234,
          1.6024997450093028,
          1.6299998411360481,
          1.6749999126042718,
          1.7524999578776979,
          1.862499977144564,
          1.9499999690250707,
          2.014999930593586,
          2.037499857205505,
          2.024999752906157,
          2.0199996175812913,
          2.0074994415038367,
          2.0074992260854487,
          2.027498977198185,
          2.0324986981202278,
          2.0499984094082415,
          2.0549981342240224,
          2.0349978837786598,
          2.014997676685459,
          1.9874975327669473,
          1.9549974438560778,
          1.929997378886753,
          1.8974972952831424,
          1.8649971604265838,
          1.8349969571233395,
          1.7924966873123638,
          1.7624963727733016,
          1.7274960209901344,
          1.7049956366594192,
          1.6924952021496025,
          1.6749947238179934,
          1.6749942127424555,
          1.66499365814265,
          1.647493100838049,
          1.634992539229487,
          1.6024919779411382,
          1.579991431753892,
          1.562490915981926,
          1.5449904690420373,
          1.5374901334960485,
          1.5174899804635547,
          1.5099900093936072,
          1.497490202885814,
          1.4874905363828643,
          1.499990939838012,
          1.4999913815780426,
          1.5149918389609045,
          1.5249922954924826,
          1.5099927308059717,
          1.5024931608759289,
          1.4774935912033147,
          1.449993982480744,
          1.4349943573026298,
          1.4174947185566258,
          1.414995066665775,
          1.4024954183957319,
          1.3899957659188802,
          1.3849960971825448,
          1.3699964066023576,
          1.3749967105396383,
          1.3724970219854136,
          1.3699973320653895,
          1.384997640105104,
          1.397497930022572,
          1.429998196185355,
          1.4499984476752028,
          1.0924989270351704
         ]
        },
        {
         "line": {
          "color": "red",
          "width": 1
         },
         "mode": "lines",
         "type": "scatter3d",
         "x": [
          -0.002777303941683742,
          -0.006107303941683741
         ],
         "y": [
          -0.0020476899333640533,
          -0.008707689933364052
         ],
         "z": [
          -2.407505065530474e-10,
          -2.407505065530474e-10
         ]
        },
        {
         "line": {
          "color": "red",
          "width": 1
         },
         "mode": "lines",
         "type": "scatter3d",
         "x": [
          -0.008331911955189715,
          -0.008331911955189715
         ],
         "y": [
          -0.006143070047661469,
          -0.012803070047661472
         ],
         "z": [
          -2.381765581201817e-10,
          -2.381765581201817e-10
         ]
        },
        {
         "line": {
          "color": "red",
          "width": 1
         },
         "mode": "lines",
         "type": "scatter3d",
         "x": [
          -0.01666382378074808,
          -0.01666382378074808
         ],
         "y": [
          -0.01433383080385329,
          -0.02097383080385329
         ],
         "z": [
          -0.00249999998796607,
          -0.00249999998796607
         ]
        },
        {
         "line": {
          "color": "red",
          "width": 1
         },
         "mode": "lines",
         "type": "scatter3d",
         "x": [
          -0.027773039689084834,
          -0.027773039689084834
         ],
         "y": [
          -0.02457228176203835,
          -0.031232281762038353
         ],
         "z": [
          -0.004999999825735345,
          -0.004999999825735345
         ]
        },
        {
         "line": {
          "color": "red",
          "width": 1
         },
         "mode": "lines",
         "type": "scatter3d",
         "x": [
          -0.038882255504400956,
          -0.038882255504400956
         ],
         "y": [
          -0.0348107330100637,
          -0.0415107330100637
         ],
         "z": [
          -0.0049999997066348155,
          -0.0049999997066348155
         ]
        },
        {
         "line": {
          "color": "red",
          "width": 1
         },
         "mode": "lines",
         "type": "scatter3d",
         "x": [
          -0.04999147125284605,
          -0.04999147125284605
         ],
         "y": [
          -0.04504918433723798,
          -0.05168918433723798
         ],
         "z": [
          -0.002499999945517946,
          -0.002499999945517946
         ]
        },
        {
         "line": {
          "color": "red",
          "width": 1
         },
         "mode": "lines",
         "type": "scatter3d",
         "x": [
          -0.061100687081982734,
          -0.061100687081982734
         ],
         "y": [
          -0.053239945514200145,
          -0.05989994551420015
         ],
         "z": [
          0.002499999617389206,
          0.002499999617389206
         ]
        },
        {
         "line": {
          "color": "red",
          "width": 1
         },
         "mode": "lines",
         "type": "scatter3d",
         "x": [
          -0.07498720664625172,
          -0.07498720664625172
         ],
         "y": [
          -0.06143070641592273,
          -0.06475070641592273
         ],
         "z": [
          0.00249999928705917,
          0.00249999928705917
         ]
        },
        {
         "line": {
          "color": "red",
          "width": 1
         },
         "mode": "lines",
         "type": "scatter3d",
         "x": [
          -0.08609642212841653,
          -0.08609642212841653
         ],
         "y": [
          -0.07166915774130969,
          -0.07499915774130969
         ],
         "z": [
          -0.002500001069737535,
          -0.002500001069737535
         ]
        },
        {
         "line": {
          "color": "red",
          "width": 1
         },
         "mode": "lines",
         "type": "scatter3d",
         "x": [
          -0.10276024553807105,
          -0.10276024553807105
         ],
         "y": [
          -0.08190760934346741,
          -0.08525760934346742
         ],
         "z": [
          -0.012500001289104142,
          -0.012500001289104142
         ]
        },
        {
         "line": {
          "color": "red",
          "width": 1
         },
         "mode": "lines",
         "type": "scatter3d",
         "x": [
          -0.11942406873956507,
          -0.11942406873956507
         ],
         "y": [
          -0.09214606040821549,
          -0.0954660604082155
         ],
         "z": [
          -0.025000001791445483,
          -0.025000001791445483
         ]
        },
        {
         "line": {
          "color": "red",
          "width": 1
         },
         "mode": "lines",
         "type": "scatter3d",
         "x": [
          -0.13053328413472265,
          -0.13053328413472265
         ],
         "y": [
          -0.10238451176899556,
          -0.10571451176899556
         ],
         "z": [
          -0.0325000023000378,
          -0.0325000023000378
         ]
        },
        {
         "line": {
          "color": "red",
          "width": 1
         },
         "mode": "lines",
         "type": "scatter3d",
         "x": [
          -0.14719710748079382,
          -0.14719710748079382
         ],
         "y": [
          -0.11262296321197551,
          -0.11262296321197551
         ],
         "z": [
          -0.040000002530661265,
          -0.040000002530661265
         ]
        },
        {
         "line": {
          "color": "red",
          "width": 1
         },
         "mode": "lines",
         "type": "scatter3d",
         "x": [
          -0.15830632312640452,
          -0.15830632312640452
         ],
         "y": [
          -0.12286141465323808,
          -0.12621141465323807
         ],
         "z": [
          -0.045000003053653384,
          -0.04835000305365338
         ]
        },
        {
         "line": {
          "color": "red",
          "width": 1
         },
         "mode": "lines",
         "type": "scatter3d",
         "x": [
          -0.17219284250924152,
          -0.17219284250924152
         ],
         "y": [
          -0.13309986613822153,
          -0.13640986613822154
         ],
         "z": [
          -0.05000000369560601,
          -0.05331000369560601
         ]
        },
        {
         "line": {
          "color": "red",
          "width": 1
         },
         "mode": "lines",
         "type": "scatter3d",
         "x": [
          -0.19163396986490444,
          -0.19163396986490444
         ],
         "y": [
          -0.14333831774752465,
          -0.14667831774752466
         ],
         "z": [
          -0.05500000472219822,
          -0.05834000472219822
         ]
        },
        {
         "line": {
          "color": "red",
          "width": 1
         },
         "mode": "lines",
         "type": "scatter3d",
         "x": [
          -0.21385240119287413,
          -0.21718240119287413
         ],
         "y": [
          -0.15152907931618334,
          -0.15485907931618334
         ],
         "z": [
          -0.05750000589879552,
          -0.06083000589879552
         ]
        },
        {
         "line": {
          "color": "red",
          "width": 1
         },
         "mode": "lines",
         "type": "scatter3d",
         "x": [
          -0.24162544032624628,
          -0.24495544032624628
         ],
         "y": [
          -0.15767215055462483,
          -0.16433215055462483
         ],
         "z": [
          -0.06000000729814368,
          -0.06333000729814368
         ]
        },
        {
         "line": {
          "color": "red",
          "width": 1
         },
         "mode": "lines",
         "type": "scatter3d",
         "x": [
          -0.26662117587442935,
          -0.26662117587442935
         ],
         "y": [
          -0.16586291257584124,
          -0.17250291257584124
         ],
         "z": [
          -0.05250000818355963,
          -0.05250000818355963
         ]
        },
        {
         "line": {
          "color": "red",
          "width": 1
         },
         "mode": "lines",
         "type": "scatter3d",
         "x": [
          -0.28328500144985863,
          -0.26324500144985863
         ],
         "y": [
          -0.18224443726913295,
          -0.2256644372691329
         ],
         "z": [
          -9.422558663874092e-9,
          0.06345999057744127
         ]
        },
        {
         "line": {
          "color": "red",
          "width": 1
         },
         "mode": "lines",
         "type": "scatter3d",
         "x": [
          -0.2888396146913579,
          -0.27881961469135785
         ],
         "y": [
          -0.20067365514147742,
          -0.21069365514147742
         ],
         "z": [
          0.13499998974173089,
          0.38215998974173127
         ]
        },
        {
         "line": {
          "color": "red",
          "width": 1
         },
         "mode": "lines",
         "type": "scatter3d",
         "x": [
          -0.2721757984091548,
          -0.21905579840915482
         ],
         "y": [
          -0.22934132890668216,
          -0.2891013289066821
         ],
         "z": [
          0.3749999895929733,
          0.7269199895929732
         ]
        },
        {
         "line": {
          "color": "red",
          "width": 1
         },
         "mode": "lines",
         "type": "scatter3d",
         "x": [
          -0.2638438978810097,
          -0.23064389788100972
         ],
         "y": [
          -0.2621043878137046,
          -0.31190438781370455
         ],
         "z": [
          0.6749999885243883,
          1.0667599885243881
         ]
        },
        {
         "line": {
          "color": "red",
          "width": 1
         },
         "mode": "lines",
         "type": "scatter3d",
         "x": [
          -0.29439425554571225,
          -0.3510042555457123
         ],
         "y": [
          -0.3214874283796646,
          -0.38475742837966465
         ],
         "z": [
          0.927499984190421,
          0.987439984190421
         ]
        },
        {
         "line": {
          "color": "red",
          "width": 1
         },
         "mode": "lines",
         "type": "scatter3d",
         "x": [
          -0.4082637387122324,
          -0.5255137387122321
         ],
         "y": [
          -0.43206274222230145,
          -0.596212742222301
         ],
         "z": [
          1.0974999672603918,
          1.1276499672603917
         ]
        },
        {
         "line": {
          "color": "red",
          "width": 1
         },
         "mode": "lines",
         "type": "scatter3d",
         "x": [
          -0.6304480856628346,
          -0.8761280856628352
         ],
         "y": [
          -0.5610672808223192,
          -0.7337072808223195
         ],
         "z": [
          1.149999933339548,
          1.146679933339548
         ]
        },
        {
         "line": {
          "color": "red",
          "width": 1
         },
         "mode": "lines",
         "type": "scatter3d",
         "x": [
          -0.958169996914048,
          -1.3610999969140483
         ],
         "y": [
          -0.6777856831157203,
          -0.7377256831157203
         ],
         "z": [
          1.122499876005597,
          1.065889876005597
         ]
        },
        {
         "line": {
          "color": "red",
          "width": 1
         },
         "mode": "lines",
         "type": "scatter3d",
         "x": [
          -1.321996873233671,
          -1.69051687323367
         ],
         "y": [
          -0.733073366780357,
          -0.716473366780357
         ],
         "z": [
          1.1099998058069398,
          1.1265998058069397
         ]
        },
        {
         "line": {
          "color": "red",
          "width": 1
         },
         "mode": "lines",
         "type": "scatter3d",
         "x": [
          -1.6108365374245754,
          -1.8106365374245756
         ],
         "y": [
          -0.6921195713671724,
          -0.5955495713671723
         ],
         "z": [
          1.09999975006076,
          1.12663975006076
         ]
        },
        {
         "line": {
          "color": "red",
          "width": 1
         },
         "mode": "lines",
         "type": "scatter3d",
         "x": [
          -1.7497017659567722,
          -1.7430017659567723
         ],
         "y": [
          -0.5651627400726323,
          -0.3541127400726318
         ],
         "z": [
          1.0874997299193598,
          1.0673997299193598
         ]
        },
        {
         "line": {
          "color": "red",
          "width": 1
         },
         "mode": "lines",
         "type": "scatter3d",
         "x": [
          -1.6913783842621268,
          -1.5054583842621274
         ],
         "y": [
          -0.37677516513150466,
          -0.13109516513150543
         ],
         "z": [
          1.087499755019454,
          1.0410197550194542
         ]
        },
        {
         "line": {
          "color": "red",
          "width": 1
         },
         "mode": "lines",
         "type": "scatter3d",
         "x": [
          -1.4997443828233092,
          -1.286624382823309
         ],
         "y": [
          -0.13719531080605388,
          0.17582468919394625
         ],
         "z": [
          1.0749998070464266,
          1.1216198070464267
         ]
        },
        {
         "line": {
          "color": "red",
          "width": 1
         },
         "mode": "lines",
         "type": "scatter3d",
         "x": [
          -1.2497869772110355,
          -1.0705069772110352
         ],
         "y": [
          0.15971987861420692,
          0.5481598786142078
         ],
         "z": [
          1.0549998579458804,
          0.9985598579458802
         ]
        },
        {
         "line": {
          "color": "red",
          "width": 1
         },
         "mode": "lines",
         "type": "scatter3d",
         "x": [
          -0.9998295609836699,
          -0.7633995609836698
         ],
         "y": [
          0.487350408810702,
          0.8636404088107021
         ],
         "z": [
          1.042499885170556,
          1.099109885170556
         ]
        },
        {
         "line": {
          "color": "red",
          "width": 1
         },
         "mode": "lines",
         "type": "scatter3d",
         "x": [
          -0.76653595585552,
          -0.4884859558555208
         ],
         "y": [
          0.8334101340856288,
          1.2220101340856278
         ],
         "z": [
          1.0349998813475363,
          1.0182498813475362
         ]
        },
        {
         "line": {
          "color": "red",
          "width": 1
         },
         "mode": "lines",
         "type": "scatter3d",
         "x": [
          -0.5360196366597308,
          -0.26377963665973025
         ],
         "y": [
          1.1917559752290796,
          1.5835159752290804
         ],
         "z": [
          1.0074998487442244,
          1.0074998487442244
         ]
        },
        {
         "line": {
          "color": "red",
          "width": 1
         },
         "mode": "lines",
         "type": "scatter3d",
         "x": [
          -0.28883947831040546,
          -0.025769478310405325
         ],
         "y": [
          1.5296248805141544,
          1.9225648805141544
         ],
         "z": [
          0.9824997929637633,
          0.9891597929637633
         ]
        },
        {
         "line": {
          "color": "red",
          "width": 1
         },
         "mode": "lines",
         "type": "scatter3d",
         "x": [
          -0.030550094001878372,
          0.2748899059981207
         ],
         "y": [
          1.8490645408650503,
          2.1545045408650494
         ],
         "z": [
          0.9549997160714403,
          0.8520797160714406
         ]
        },
        {
         "line": {
          "color": "red",
          "width": 1
         },
         "mode": "lines",
         "type": "scatter3d",
         "x": [
          0.21385278357000959,
          0.47850278357001025
         ],
         "y": [
          2.1664564934556827,
          2.4813564934556833
         ],
         "z": [
          0.932499613750289,
          1.0162496137502892
         ]
        },
        {
         "line": {
          "color": "red",
          "width": 1
         },
         "mode": "lines",
         "type": "scatter3d",
         "x": [
          0.46103298250026864,
          0.6908029825002687
         ],
         "y": [
          2.48384843309905,
          2.84348843309905
         ],
         "z": [
          0.9449994850389664,
          1.0082694850389664
         ]
        },
        {
         "line": {
          "color": "red",
          "width": 1
         },
         "mode": "lines",
         "type": "scatter3d",
         "x": [
          0.7082131999697965,
          0.9505731999697957
         ],
         "y": [
          2.811478798292641,
          3.17667879829264
         ],
         "z": [
          0.9549993245289158,
          0.9782393245289157
         ]
        },
        {
         "line": {
          "color": "red",
          "width": 1
         },
         "mode": "lines",
         "type": "scatter3d",
         "x": [
          0.9331750019928889,
          1.1489750019928895
         ],
         "y": [
          3.153442981002752,
          3.5053629810027527
         ],
         "z": [
          0.962499135694635,
          0.969139135694635
         ]
        },
        {
         "line": {
          "color": "red",
          "width": 1
         },
         "mode": "lines",
         "type": "scatter3d",
         "x": [
          1.1331410736993872,
          1.2996410736993873
         ],
         "y": [
          3.4913117607490793,
          3.8309717607490796
         ],
         "z": [
          0.93999893052425,
          0.8500889305242499
         ]
        },
        {
         "line": {
          "color": "red",
          "width": 1
         },
         "mode": "lines",
         "type": "scatter3d",
         "x": [
          1.285892983127697,
          1.4131929831276968
         ],
         "y": [
          3.8291805312228426,
          4.1608305312228415
         ],
         "z": [
          0.8899987103582347,
          0.8799487103582347
         ]
        },
        {
         "line": {
          "color": "red",
          "width": 1
         },
         "mode": "lines",
         "type": "scatter3d",
         "x": [
          1.3608803888540904,
          1.4274803888540903
         ],
         "y": [
          4.16909702158143,
          4.52540702158143
         ],
         "z": [
          0.8424984821258334,
          0.7392684821258334
         ]
        },
        {
         "line": {
          "color": "red",
          "width": 1
         },
         "mode": "lines",
         "type": "scatter3d",
         "x": [
          1.3692125092263516,
          1.3360125092263515
         ],
         "y": [
          4.511061238305493,
          4.849701238305494
         ],
         "z": [
          0.802498247542254,
          0.7294582475422537
         ]
        },
        {
         "line": {
          "color": "red",
          "width": 1
         },
         "mode": "lines",
         "type": "scatter3d",
         "x": [
          1.3136666598732079,
          1.247266659873208
         ],
         "y": [
          4.861216289703188,
          5.169976289703188
         ],
         "z": [
          0.8049980022068022,
          0.7917180022068022
         ]
        },
        {
         "line": {
          "color": "red",
          "width": 1
         },
         "mode": "lines",
         "type": "scatter3d",
         "x": [
          1.1914655257116176,
          1.094895525711617
         ],
         "y": [
          5.205228356550099,
          5.531568356550101
         ],
         "z": [
          0.8449977540520588,
          0.7750677540520584
         ]
        },
        {
         "line": {
          "color": "red",
          "width": 1
         },
         "mode": "lines",
         "type": "scatter3d",
         "x": [
          1.008163704985286,
          0.8250137049852869
         ],
         "y": [
          5.5369543680274615,
          5.82999436802746
         ],
         "z": [
          0.9099975054729534,
          0.9033375054729534
         ]
        },
        {
         "line": {
          "color": "red",
          "width": 1
         },
         "mode": "lines",
         "type": "scatter3d",
         "x": [
          0.7665384922707772,
          0.5160384922707775
         ],
         "y": [
          5.850251264572274,
          6.137491264572274
         ],
         "z": [
          1.0049972583863545,
          0.9749372583863545
         ]
        },
        {
         "line": {
          "color": "red",
          "width": 1
         },
         "mode": "lines",
         "type": "scatter3d",
         "x": [
          0.49158561001976164,
          0.21519561001976
         ],
         "y": [
          6.136928218020957,
          6.376688218020958
         ],
         "z": [
          1.074997016468786,
          1.058347016468786
         ]
        },
        {
         "line": {
          "color": "red",
          "width": 1
         },
         "mode": "lines",
         "type": "scatter3d",
         "x": [
          0.1805277531970723,
          -0.13582224680292618
         ],
         "y": [
          6.399032924729468,
          6.595502924729467
         ],
         "z": [
          1.1224967759167206,
          1.1591267759167203
         ]
        },
        {
         "line": {
          "color": "red",
          "width": 1
         },
         "mode": "lines",
         "type": "scatter3d",
         "x": [
          -0.16385777739459728,
          -0.5423377773945981
         ],
         "y": [
          6.63451770187624,
          6.80383770187624
         ],
         "z": [
          1.1574965347661739,
          1.0910965347661736
         ]
        },
        {
         "line": {
          "color": "red",
          "width": 1
         },
         "mode": "lines",
         "type": "scatter3d",
         "x": [
          -0.5276844623305064,
          -0.8806644623305047
         ],
         "y": [
          6.84338252684868,
          7.003222526848679
         ],
         "z": [
          1.174996293383375,
          1.188316293383375
         ]
        },
        {
         "line": {
          "color": "red",
          "width": 1
         },
         "mode": "lines",
         "type": "scatter3d",
         "x": [
          -0.9387253585738036,
          -1.3474253585738045
         ],
         "y": [
          7.015389001050958,
          7.142689001050958
         ],
         "z": [
          1.2074960581264516,
          1.2108460581264515
         ]
        },
        {
         "line": {
          "color": "red",
          "width": 1
         },
         "mode": "lines",
         "type": "scatter3d",
         "x": [
          -1.3914258797724515,
          -1.8628658797724524
         ],
         "y": [
          7.1341555851401495,
          7.15739558514015
         ],
         "z": [
          1.2524958417510967,
          1.2325758417510968
         ]
        },
        {
         "line": {
          "color": "red",
          "width": 1
         },
         "mode": "lines",
         "type": "scatter3d",
         "x": [
          -1.8607902766642088,
          -2.3103402766642067
         ],
         "y": [
          7.205825295166545,
          7.205825295166545
         ],
         "z": [
          1.2874956399000952,
          1.334115639900095
         ]
        },
        {
         "line": {
          "color": "red",
          "width": 1
         },
         "mode": "lines",
         "type": "scatter3d",
         "x": [
          -2.3412639385591145,
          -2.7629039385591154
         ],
         "y": [
          7.23039811665147,
          7.2071581166514695
         ],
         "z": [
          1.3124954548204368,
          1.292575454820437
         ]
        },
        {
         "line": {
          "color": "red",
          "width": 1
         },
         "mode": "lines",
         "type": "scatter3d",
         "x": [
          -2.8217376304415165,
          -3.254637630441519
         ],
         "y": [
          7.222207859524915,
          7.152277859524915
         ],
         "z": [
          1.319995270921697,
          1.2434052709216967
         ]
        },
        {
         "line": {
          "color": "red",
          "width": 1
         },
         "mode": "lines",
         "type": "scatter3d",
         "x": [
          -3.2883247957158894,
          -3.723824795715886
         ],
         "y": [
          7.205826790371507,
          7.1522267903715075
         ],
         "z": [
          1.299995065709645,
          1.303345065709645
         ]
        },
        {
         "line": {
          "color": "red",
          "width": 1
         },
         "mode": "lines",
         "type": "scatter3d",
         "x": [
          -3.7549119698034303,
          -4.199791969803432
         ],
         "y": [
          7.177159566697052,
          7.143959566697052
         ],
         "z": [
          1.277494838754293,
          1.174574838754293
         ]
        },
        {
         "line": {
          "color": "red",
          "width": 1
         },
         "mode": "lines",
         "type": "scatter3d",
         "x": [
          -4.238162980236252,
          -4.7010329802362545
         ],
         "y": [
          7.142349288682143,
          7.092399288682143
         ],
         "z": [
          1.2624945731410637,
          1.2192045731410635
         ]
        },
        {
         "line": {
          "color": "red",
          "width": 1
         },
         "mode": "lines",
         "type": "scatter3d",
         "x": [
          -4.726968599000973,
          -5.185128599000969
         ],
         "y": [
          7.117777489197605,
          7.094537489197606
         ],
         "z": [
          1.2624942546866194,
          1.299014254686619
         ]
        },
        {
         "line": {
          "color": "red",
          "width": 1
         },
         "mode": "lines",
         "type": "scatter3d",
         "x": [
          -5.235215359360712,
          -5.717615359360713
         ],
         "y": [
          7.097301113869596,
          7.107351113869596
         ],
         "z": [
          1.2824938777614316,
          1.2322438777614315
         ]
        },
        {
         "line": {
          "color": "red",
          "width": 1
         },
         "mode": "lines",
         "type": "scatter3d",
         "x": [
          -5.7490167339547735,
          -6.225206733954776
         ],
         "y": [
          7.0747770505285885,
          7.051467050528588
         ],
         "z": [
          1.304993459245464,
          1.2783534592454637
         ]
        },
        {
         "line": {
          "color": "red",
          "width": 1
         },
         "mode": "lines",
         "type": "scatter3d",
         "x": [
          -6.257263478172701,
          -6.735343478172696
         ],
         "y": [
          7.07068220514997,
          7.07732220514997
         ],
         "z": [
          1.3224929851703284,
          1.378932985170328
         ]
        },
        {
         "line": {
          "color": "red",
          "width": 1
         },
         "mode": "lines",
         "type": "scatter3d",
         "x": [
          -6.765510206926567,
          -7.273470206926569
         ],
         "y": [
          7.0768258153184025,
          7.096745815318402
         ],
         "z": [
          1.3324924602051231,
          1.295972460205123
         ]
        },
        {
         "line": {
          "color": "red",
          "width": 1
         },
         "mode": "lines",
         "type": "scatter3d",
         "x": [
          -7.259870403538095,
          -7.752710403538098
         ],
         "y": [
          7.082969400593596,
          7.082969400593596
         ],
         "z": [
          1.3324919090237648,
          1.355801909023765
         ]
        },
        {
         "line": {
          "color": "red",
          "width": 1
         },
         "mode": "lines",
         "type": "scatter3d",
         "x": [
          -7.7514532972355115,
          -8.220453297235508
         ],
         "y": [
          7.103446846849781,
          7.126896846849781
         ],
         "z": [
          1.3449913066359802,
          1.3985913066359799
         ]
        },
        {
         "line": {
          "color": "red",
          "width": 1
         },
         "mode": "lines",
         "type": "scatter3d",
         "x": [
          -8.243036208219685,
          -8.757636208219687
         ],
         "y": [
          7.1177812246404955,
          7.144341224640495
         ],
         "z": [
          1.3649906737222044,
          1.3849106737222043
         ]
        },
        {
         "line": {
          "color": "red",
          "width": 1
         },
         "mode": "lines",
         "type": "scatter3d",
         "x": [
          -8.723509907102283,
          -9.213019907102286
         ],
         "y": [
          7.113686342797506,
          7.113686342797506
         ],
         "z": [
          1.3749900389893681,
          1.365000038989368
         ]
        },
        {
         "line": {
          "color": "red",
          "width": 1
         },
         "mode": "lines",
         "type": "scatter3d",
         "x": [
          -9.190097104344177,
          -9.631657104344173
         ],
         "y": [
          7.107543766779299,
          7.127463766779299
         ],
         "z": [
          1.3974893909944073,
          1.4008093909944073
         ]
        },
        {
         "line": {
          "color": "red",
          "width": 1
         },
         "mode": "lines",
         "type": "scatter3d",
         "x": [
          -9.653907010318594,
          -10.106787010318596
         ],
         "y": [
          7.093210413441123,
          7.146490413441123
         ],
         "z": [
          1.4199887209306958,
          1.3866887209306957
         ]
        },
        {
         "line": {
          "color": "red",
          "width": 1
         },
         "mode": "lines",
         "type": "scatter3d",
         "x": [
          -10.106607697519216,
          -10.552827697519215
         ],
         "y": [
          7.070686263742423,
          7.084006263742423
         ],
         "z": [
          1.434988042910648,
          1.448308042910648
         ]
        },
        {
         "line": {
          "color": "red",
          "width": 1
         },
         "mode": "lines",
         "type": "scatter3d",
         "x": [
          -10.55375381808314,
          -10.984613818083139
         ],
         "y": [
          7.04816213250481,
          7.0548421325048105
         ],
         "z": [
          1.4749873419745498,
          1.50170734197455
         ]
        },
        {
         "line": {
          "color": "red",
          "width": 1
         },
         "mode": "lines",
         "type": "scatter3d",
         "x": [
          -11.006454557534864,
          -11.439354557534866
         ],
         "y": [
          7.025638007203303,
          7.062268007203303
         ],
         "z": [
          1.517486600711409,
          1.517486600711409
         ]
        },
        {
         "line": {
          "color": "red",
          "width": 1
         },
         "mode": "lines",
         "type": "scatter3d",
         "x": [
          -11.445268790200469,
          -11.861518790200467
         ],
         "y": [
          6.988780001754373,
          6.995440001754373
         ],
         "z": [
          1.5574858677227539,
          1.6041058677227538
         ]
        },
        {
         "line": {
          "color": "red",
          "width": 1
         },
         "mode": "lines",
         "type": "scatter3d",
         "x": [
          -11.8729738577542,
          -12.301253857754201
         ],
         "y": [
          6.939635835318374,
          6.932995835318374
         ],
         "z": [
          1.6174851388431528,
          1.6174851388431528
         ]
        },
        {
         "line": {
          "color": "red",
          "width": 1
         },
         "mode": "lines",
         "type": "scatter3d",
         "x": [
          -12.295124322662325,
          -12.694724322662328
         ],
         "y": [
          6.882300873846971,
          6.885630873846971
         ],
         "z": [
          1.672484400558562,
          1.675814400558562
         ]
        },
        {
         "line": {
          "color": "red",
          "width": 1
         },
         "mode": "lines",
         "type": "scatter3d",
         "x": [
          -12.69783368782494,
          -13.103183687824936
         ],
         "y": [
          6.808584336004043,
          6.791834336004043
         ],
         "z": [
          1.7324836897638871,
          1.8128836897638865
         ]
        },
        {
         "line": {
          "color": "red",
          "width": 1
         },
         "mode": "lines",
         "type": "scatter3d",
         "x": [
          -13.086656518228214,
          -13.498336518228214
         ],
         "y": [
          6.7410108544340295,
          6.68789085443403
         ],
         "z": [
          1.7874829750858607,
          1.7775229750858608
         ]
        },
        {
         "line": {
          "color": "red",
          "width": 1
         },
         "mode": "lines",
         "type": "scatter3d",
         "x": [
          -13.467147387489431,
          -13.856757387489434
         ],
         "y": [
          6.69596198422595,
          6.6593319842259495
         ],
         "z": [
          1.8274822300354152,
          1.8774322300354156
         ]
        },
        {
         "line": {
          "color": "red",
          "width": 1
         },
         "mode": "lines",
         "type": "scatter3d",
         "x": [
          -13.833751707043705,
          -14.212231707043701
         ],
         "y": [
          6.6591038633057416,
          6.622583863305742
         ],
         "z": [
          1.857481483332889,
          1.9272014833328883
         ]
        },
        {
         "line": {
          "color": "red",
          "width": 1
         },
         "mode": "lines",
         "type": "scatter3d",
         "x": [
          -14.205910595029604,
          -14.595520595029607
         ],
         "y": [
          6.628388808747994,
          6.581768808747994
         ],
         "z": [
          1.869980695088232,
          1.856660695088232
         ]
        },
        {
         "line": {
          "color": "red",
          "width": 1
         },
         "mode": "lines",
         "type": "scatter3d",
         "x": [
          -14.589178671730892,
          -14.967728671730892
         ],
         "y": [
          6.612007619754457,
          6.595257619754457
         ],
         "z": [
          1.8749798438169987,
          1.9319298438169987
         ]
        },
        {
         "line": {
          "color": "red",
          "width": 1
         },
         "mode": "lines",
         "type": "scatter3d",
         "x": [
          -14.983555976652688,
          -15.375315976652685
         ],
         "y": [
          6.5935787480631785,
          6.603538748063178
         ],
         "z": [
          1.8824789454136506,
          1.8957589454136505
         ]
        },
        {
         "line": {
          "color": "red",
          "width": 1
         },
         "mode": "lines",
         "type": "scatter3d",
         "x": [
          -15.405706325267808,
          -15.81196632526781
         ],
         "y": [
          6.573102201693299,
          6.559782201693299
         ],
         "z": [
          1.8874779568636566,
          1.8674979568636565
         ]
        },
        {
         "line": {
          "color": "red",
          "width": 1
         },
         "mode": "lines",
         "type": "scatter3d",
         "x": [
          -15.83896589977594,
          -16.24732589977594
         ],
         "y": [
          6.55876875397185,
          6.54880875397185
         ],
         "z": [
          1.8974769070513577,
          1.963876907051358
         ]
        },
        {
         "line": {
          "color": "red",
          "width": 1
         },
         "mode": "lines",
         "type": "scatter3d",
         "x": [
          -16.28611202624006,
          -16.721612026240056
         ],
         "y": [
          6.528053757279526,
          6.521353757279526
         ],
         "z": [
          1.9124758083633935,
          1.9124758083633935
         ]
        },
        {
         "line": {
          "color": "red",
          "width": 1
         },
         "mode": "lines",
         "type": "scatter3d",
         "x": [
          -16.741590028926744,
          -17.158650028926747
         ],
         "y": [
          6.474814087797157,
          6.428474087797157
         ],
         "z": [
          1.9049746812106787,
          1.9115946812106788
         ]
        },
        {
         "line": {
          "color": "red",
          "width": 1
         },
         "mode": "lines",
         "type": "scatter3d",
         "x": [
          -17.17484959176512,
          -17.60236959176512
         ],
         "y": [
          6.415431301140979,
          6.348631301140979
         ],
         "z": [
          1.8949735884466676,
          1.9150135884466677
         ]
        },
        {
         "line": {
          "color": "red",
          "width": 1
         },
         "mode": "lines",
         "type": "scatter3d",
         "x": [
          -17.574781500828045,
          -17.94662150082804
         ],
         "y": [
          6.33761920798969,
          6.244659207989691
         ],
         "z": [
          1.8799725782666508,
          1.8633725782666508
         ]
        },
        {
         "line": {
          "color": "red",
          "width": 1
         },
         "mode": "lines",
         "type": "scatter3d",
         "x": [
          -17.93027652389022,
          -18.260936523890223
         ],
         "y": [
          6.212710036223793,
          6.039030036223791
         ],
         "z": [
          1.8474717121103756,
          1.894231712110376
         ]
        },
        {
         "line": {
          "color": "red",
          "width": 1
         },
         "mode": "lines",
         "type": "scatter3d",
         "x": [
          -18.227448225369123,
          -18.51802822536912
         ],
         "y": [
          6.040703802555904,
          5.773503802555904
         ],
         "z": [
          1.8299710332586385,
          1.8500110332586386
         ]
        },
        {
         "line": {
          "color": "red",
          "width": 1
         },
         "mode": "lines",
         "type": "scatter3d",
         "x": [
          -18.474628507358688,
          -18.703708507358687
         ],
         "y": [
          5.811362024692331,
          5.529162024692333
         ],
         "z": [
          1.8199705330253555,
          1.8133305330253555
         ]
        },
        {
         "line": {
          "color": "red",
          "width": 1
         },
         "mode": "lines",
         "type": "scatter3d",
         "x": [
          -18.655153526425522,
          -18.785413526425522
         ],
         "y": [
          5.520589292715195,
          5.186589292715192
         ],
         "z": [
          1.812470265100337,
          1.9026502651003379
         ]
        },
        {
         "line": {
          "color": "red",
          "width": 1
         },
         "mode": "lines",
         "type": "scatter3d",
         "x": [
          -18.757914094930623,
          -18.767844094930624
         ],
         "y": [
          5.192957973122669,
          4.825547973122674
         ],
         "z": [
          1.8274702373410054,
          1.8307802373410054
         ]
        },
        {
         "line": {
          "color": "red",
          "width": 1
         },
         "mode": "lines",
         "type": "scatter3d",
         "x": [
          -18.785687435832507,
          -18.722417435832504
         ],
         "y": [
          4.8346111441121,
          4.464981144112094
         ],
         "z": [
          1.8399704346836567,
          1.8666104346836572
         ]
        },
        {
         "line": {
          "color": "red",
          "width": 1
         },
         "mode": "lines",
         "type": "scatter3d",
         "x": [
          -18.73291890095173,
          -18.563088900951733
         ],
         "y": [
          4.468073465694479,
          4.12508346569448
         ],
         "z": [
          1.8424708570453538,
          1.9024108570453535
         ]
        },
        {
         "line": {
          "color": "red",
          "width": 1
         },
         "mode": "lines",
         "type": "scatter3d",
         "x": [
          -18.61071766501123,
          -18.35353766501123
         ],
         "y": [
          4.117917309354878,
          3.8072973093548814
         ],
         "z": [
          1.8249714522722438,
          1.794911452272244
         ]
        },
        {
         "line": {
          "color": "red",
          "width": 1
         },
         "mode": "lines",
         "type": "scatter3d",
         "x": [
          -18.421860993275438,
          -18.112170993275434
         ],
         "y": [
          3.8046196438253714,
          3.5581996438253674
         ],
         "z": [
          1.7774721962031443,
          1.817432196203145
         ]
        },
        {
         "line": {
          "color": "red",
          "width": 1
         },
         "mode": "lines",
         "type": "scatter3d",
         "x": [
          -18.17190355072043,
          -17.795613550720432
         ],
         "y": [
          3.5609436308076496,
          3.3911136308076504
         ],
         "z": [
          1.7224730549485838,
          1.7224730549485838
         ]
        },
        {
         "line": {
          "color": "red",
          "width": 1
         },
         "mode": "lines",
         "type": "scatter3d",
         "x": [
          -17.858068048819113,
          -17.429788048819113
         ],
         "y": [
          3.4012231401143396,
          3.3547431401143393
         ],
         "z": [
          1.6649740297690072,
          1.628454029769007
         ]
        },
        {
         "line": {
          "color": "red",
          "width": 1
         },
         "mode": "lines",
         "type": "scatter3d",
         "x": [
          -17.510904874227585,
          -17.094654874227587
         ],
         "y": [
          3.321362794563009,
          3.3579927945630086
         ],
         "z": [
          1.6149750357531445,
          1.6416150357531443
         ]
        },
        {
         "line": {
          "color": "red",
          "width": 1
         },
         "mode": "lines",
         "type": "scatter3d",
         "x": [
          -17.14707788033732,
          -16.71157788033732
         ],
         "y": [
          3.331601076672321,
          3.4321010766723212
         ],
         "z": [
          1.5824760208429938,
          1.5489760208429937
         ]
        },
        {
         "line": {
          "color": "red",
          "width": 1
         },
         "mode": "lines",
         "type": "scatter3d",
         "x": [
          -16.791582744564444,
          -16.399822744564442
         ],
         "y": [
          3.421699490537819,
          3.6208994905378193
         ],
         "z": [
          1.5424769221776287,
          1.5092769221776285
         ]
        },
        {
         "line": {
          "color": "red",
          "width": 1
         },
         "mode": "lines",
         "type": "scatter3d",
         "x": [
          -16.466637978158477,
          -16.11032797815848
         ],
         "y": [
          3.5404656576830216,
          3.7669056576830204
         ],
         "z": [
          1.5149777075846411,
          1.561597707584641
         ]
        },
        {
         "line": {
          "color": "red",
          "width": 1
         },
         "mode": "lines",
         "type": "scatter3d",
         "x": [
          -16.13891594828953,
          -15.763755948289528
         ],
         "y": [
          3.679708779583488,
          3.8623087795834885
         ],
         "z": [
          1.5074784685449942,
          1.484238468544994
         ]
        },
        {
         "line": {
          "color": "red",
          "width": 1
         },
         "mode": "lines",
         "type": "scatter3d",
         "x": [
          -15.811193927860158,
          -15.43157392786016
         ],
         "y": [
          3.8209995869176963,
          4.020799586917695
         ],
         "z": [
          1.504979206897222,
          1.5582592068972219
         ]
        },
        {
         "line": {
          "color": "red",
          "width": 1
         },
         "mode": "lines",
         "type": "scatter3d",
         "x": [
          -15.464030839129519,
          -15.062030839129518
         ],
         "y": [
          3.9336226465335824,
          4.1346226465335825
         ],
         "z": [
          1.522479989972912,
          1.515779989972912
         ]
        },
        {
         "line": {
          "color": "red",
          "width": 1
         },
         "mode": "lines",
         "type": "scatter3d",
         "x": [
          -15.083540060684872,
          -14.70506006068487
         ],
         "y": [
          4.031911799376882,
          4.161391799376882
         ],
         "z": [
          1.522480841140077,
          1.4826408411400769
         ]
        },
        {
         "line": {
          "color": "red",
          "width": 1
         },
         "mode": "lines",
         "type": "scatter3d",
         "x": [
          -14.68916270743037,
          -14.299552707430372
         ],
         "y": [
          4.126105527753499,
          4.232665527753498
         ],
         "z": [
          1.499981700935333,
          1.5399417009353327
         ]
        },
        {
         "line": {
          "color": "red",
          "width": 1
         },
         "mode": "lines",
         "type": "scatter3d",
         "x": [
          -14.264235006375543,
          -13.829315006375541
         ],
         "y": [
          4.208013053993375,
          4.320893053993376
         ],
         "z": [
          1.4749826110164304,
          1.3986226110164302
         ]
        },
        {
         "line": {
          "color": "red",
          "width": 1
         },
         "mode": "lines",
         "type": "scatter3d",
         "x": [
          -13.800425027599083,
          -13.354875027599082
         ],
         "y": [
          4.27149128641786,
          4.311691286417861
         ],
         "z": [
          1.4374835876276955,
          1.4207335876276954
         ]
        },
        {
         "line": {
          "color": "red",
          "width": 1
         },
         "mode": "lines",
         "type": "scatter3d",
         "x": [
          -13.314396663917893,
          -12.824886663917896
         ],
         "y": [
          4.31654025834113,
          4.32653025834113
         ],
         "z": [
          1.417484590974823,
          1.417484590974823
         ]
        },
        {
         "line": {
          "color": "red",
          "width": 1
         },
         "mode": "lines",
         "type": "scatter3d",
         "x": [
          -12.82559105787372,
          -12.354151057873718
         ],
         "y": [
          4.3226830383528005,
          4.2928030383528
         ],
         "z": [
          1.4149855919774637,
          1.3386255919774634
         ]
        },
        {
         "line": {
          "color": "red",
          "width": 1
         },
         "mode": "lines",
         "type": "scatter3d",
         "x": [
          -12.353449322026583,
          -11.93180932202658
         ],
         "y": [
          4.259204222561516,
          4.116444222561516
         ],
         "z": [
          1.4124865715852217,
          1.4423665715852219
         ]
        },
        {
         "line": {
          "color": "red",
          "width": 1
         },
         "mode": "lines",
         "type": "scatter3d",
         "x": [
          -11.928521837693953,
          -11.512271837693955
         ],
         "y": [
          4.124056158803615,
          3.887626158803616
         ],
         "z": [
          1.4274874725663742,
          1.3775374725663745
         ]
        },
        {
         "line": {
          "color": "red",
          "width": 1
         },
         "mode": "lines",
         "type": "scatter3d",
         "x": [
          -11.536922022701397,
          -11.1473120227014
         ],
         "y": [
          3.9233819113624024,
          3.6536519113624037
         ],
         "z": [
          1.432488319824664,
          1.3825383198246644
         ]
        },
        {
         "line": {
          "color": "red",
          "width": 1
         },
         "mode": "lines",
         "type": "scatter3d",
         "x": [
          -11.173095276016465,
          -10.81237527601646
         ],
         "y": [
          3.6510384056043668,
          3.3337384056043637
         ],
         "z": [
          1.4324891296106337,
          1.4625491296106339
         ]
        },
        {
         "line": {
          "color": "red",
          "width": 1
         },
         "mode": "lines",
         "type": "scatter3d",
         "x": [
          -10.834264283321357,
          -10.474624283321358
         ],
         "y": [
          3.3582180041966674,
          3.018558004196669
         ],
         "z": [
          1.4399898764620174,
          1.3534098764620177
         ]
        },
        {
         "line": {
          "color": "red",
          "width": 1
         },
         "mode": "lines",
         "type": "scatter3d",
         "x": [
          -10.489878634558877,
          -10.116918634558878
         ],
         "y": [
          3.089969944624567,
          2.813579944624568
         ],
         "z": [
          1.432490590495327,
          1.4657905904953268
         ]
        },
        {
         "line": {
          "color": "red",
          "width": 1
         },
         "mode": "lines",
         "type": "scatter3d",
         "x": [
          -10.156602187764213,
          -9.748242187764212
         ],
         "y": [
          2.8606280969326097,
          2.6780280969326093
         ],
         "z": [
          1.4299912410397573,
          1.4266712410397573
         ]
        },
        {
         "line": {
          "color": "red",
          "width": 1
         },
         "mode": "lines",
         "type": "scatter3d",
         "x": [
          -9.823325689104408,
          -9.43704568910441
         ],
         "y": [
          2.71524170481741,
          2.6053517048174104
         ],
         "z": [
          1.4199918301067527,
          1.353391830106753
         ]
        },
        {
         "line": {
          "color": "red",
          "width": 1
         },
         "mode": "lines",
         "type": "scatter3d",
         "x": [
          -9.476162602211582,
          -9.097612602211582
         ],
         "y": [
          2.6824784555954033,
          2.7260284555954035
         ],
         "z": [
          1.3974923709454923,
          1.4209423709454923
         ]
        },
        {
         "line": {
          "color": "red",
          "width": 1
         },
         "mode": "lines",
         "type": "scatter3d",
         "x": [
          -9.131776794527028,
          -8.759936794527027
         ],
         "y": [
          2.750052190218352,
          2.935972190218352
         ],
         "z": [
          1.3849928431272653,
          1.3484728431272652
         ]
        },
        {
         "line": {
          "color": "red",
          "width": 1
         },
         "mode": "lines",
         "type": "scatter3d",
         "x": [
          -8.784613636479227,
          -8.448283636479228
         ],
         "y": [
          2.9036290332852444,
          3.153379033285243
         ],
         "z": [
          1.364993261682237,
          1.358333261682237
         ]
        },
        {
         "line": {
          "color": "red",
          "width": 1
         },
         "mode": "lines",
         "type": "scatter3d",
         "x": [
          -8.459668886816207,
          -8.160868886816207
         ],
         "y": [
          3.1432089912030214,
          3.4552889912030222
         ],
         "z": [
          1.354993588275493,
          1.3782335882754932
         ]
        },
        {
         "line": {
          "color": "red",
          "width": 1
         },
         "mode": "lines",
         "type": "scatter3d",
         "x": [
          -8.179160975549342,
          -7.9394009755493435
         ],
         "y": [
          3.436028968351401,
          3.8189789683513995
         ],
         "z": [
          1.3449938040032707,
          1.2650738040032712
         ]
        },
        {
         "line": {
          "color": "red",
          "width": 1
         },
         "mode": "lines",
         "type": "scatter3d",
         "x": [
          -7.9236487732968826,
          -7.672398773296882
         ],
         "y": [
          3.751373553795626,
          4.113173553795627
         ],
         "z": [
          1.3274939496200187,
          1.3609939496200187
         ]
        },
        {
         "line": {
          "color": "red",
          "width": 1
         },
         "mode": "lines",
         "type": "scatter3d",
         "x": [
          -7.679245803127547,
          -7.393725803127546
         ],
         "y": [
          4.070813521774643,
          4.412773521774644
         ],
         "z": [
          1.332494054806622,
          1.282694054806622
         ]
        },
        {
         "line": {
          "color": "red",
          "width": 1
         },
         "mode": "lines",
         "type": "scatter3d",
         "x": [
          -7.395960573894446,
          -7.072950573894448
         ],
         "y": [
          4.345204193231474,
          4.621594193231473
         ],
         "z": [
          1.3274942097208107,
          1.2842042097208108
         ]
        },
        {
         "line": {
          "color": "red",
          "width": 1
         },
         "mode": "lines",
         "type": "scatter3d",
         "x": [
          -7.054352016806817,
          -6.665912016806816
         ],
         "y": [
          4.523353256670704,
          4.679393256670704
         ],
         "z": [
          1.3349944730266405,
          1.3515944730266405
         ]
        },
        {
         "line": {
          "color": "red",
          "width": 1
         },
         "mode": "lines",
         "type": "scatter3d",
         "x": [
          -6.659974751032424,
          -6.2170847510324165
         ],
         "y": [
          4.599117649260526,
          4.622427649260526
         ],
         "z": [
          1.357494841075906,
          1.2842348410759048
         ]
        },
        {
         "line": {
          "color": "red",
          "width": 1
         },
         "mode": "lines",
         "type": "scatter3d",
         "x": [
          -6.2406017832407015,
          -5.805101783240709
         ],
         "y": [
          4.578640454838108,
          4.511640454838109
         ],
         "z": [
          1.3599952803450044,
          1.380095280345004
         ]
        },
        {
         "line": {
          "color": "red",
          "width": 1
         },
         "mode": "lines",
         "type": "scatter3d",
         "x": [
          -5.849001936606701,
          -5.4539219366067
         ],
         "y": [
          4.457826358764461,
          4.31174635876446
         ],
         "z": [
          1.3749957394253693,
          1.4048757394253695
         ]
        },
        {
         "line": {
          "color": "red",
          "width": 1
         },
         "mode": "lines",
         "type": "scatter3d",
         "x": [
          -5.507393614559282,
          -5.184383614559277
         ],
         "y": [
          4.259199997607578,
          4.002789997607573
         ],
         "z": [
          1.3899961825841827,
          1.3233961825841816
         ]
        },
        {
         "line": {
          "color": "red",
          "width": 1
         },
         "mode": "lines",
         "type": "scatter3d",
         "x": [
          -5.229663312690746,
          -4.930863312690745
         ],
         "y": [
          4.009381380229167,
          3.7238613802291662
         ],
         "z": [
          1.3974965792446137,
          1.4506165792446137
         ]
        },
        {
         "line": {
          "color": "red",
          "width": 1
         },
         "mode": "lines",
         "type": "scatter3d",
         "x": [
          -4.9963699171921,
          -4.7015699171921055
         ],
         "y": [
          3.710418205810785,
          3.385468205810791
         ],
         "z": [
          1.4249969466487538,
          1.3713969466487548
         ]
        },
        {
         "line": {
          "color": "red",
          "width": 1
         },
         "mode": "lines",
         "type": "scatter3d",
         "x": [
          -4.7880722621672405,
          -4.5483122621672365
         ],
         "y": [
          3.384835064590959,
          3.0385150645909533
         ],
         "z": [
          1.4524972874428959,
          1.4491672874428958
         ]
        },
        {
         "line": {
          "color": "red",
          "width": 1
         },
         "mode": "lines",
         "type": "scatter3d",
         "x": [
          -4.568665370754191,
          -4.322985370754191
         ],
         "y": [
          3.071538090526355,
          2.7561380905263544
         ],
         "z": [
          1.48499760698726,
          1.50823760698726
         ]
        },
        {
         "line": {
          "color": "red",
          "width": 1
         },
         "mode": "lines",
         "type": "scatter3d",
         "x": [
          -4.31870809785854,
          -3.9966680978585463
         ],
         "y": [
          2.8073857292852846,
          2.5617057292852894
         ],
         "z": [
          1.519997904430501,
          1.4535979044305023
         ]
        },
        {
         "line": {
          "color": "red",
          "width": 1
         },
         "mode": "lines",
         "type": "scatter3d",
         "x": [
          -4.024313904468792,
          -3.6646739044687857
         ],
         "y": [
          2.6149025787237394,
          2.4883625787237373
         ],
         "z": [
          1.544998179005308,
          1.608268179005309
         ]
        },
        {
         "line": {
          "color": "red",
          "width": 1
         },
         "mode": "lines",
         "type": "scatter3d",
         "x": [
          -3.6771508779311053,
          -3.2852008779311044
         ],
         "y": [
          2.5227563207593464,
          2.4993063207593464
         ],
         "z": [
          1.5699984249330718,
          1.5532484249330718
         ]
        },
        {
         "line": {
          "color": "red",
          "width": 1
         },
         "mode": "lines",
         "type": "scatter3d",
         "x": [
          -3.293882832676811,
          -2.9021228326768185
         ],
         "y": [
          2.5432330909132004,
          2.6826730909131977
         ],
         "z": [
          1.5699986247210744,
          1.5633586247210745
         ]
        },
        {
         "line": {
          "color": "red",
          "width": 1
         },
         "mode": "lines",
         "type": "scatter3d",
         "x": [
          -2.893950928111611,
          -2.534310928111605
         ],
         "y": [
          2.6271882868060206,
          2.840308286806024
         ],
         "z": [
          1.5549987839076833,
          1.6215987839076844
         ]
        },
        {
         "line": {
          "color": "red",
          "width": 1
         },
         "mode": "lines",
         "type": "scatter3d",
         "x": [
          -2.507905520003966,
          -2.1526655200039655
         ],
         "y": [
          2.7664311456118043,
          3.015431145611805
         ],
         "z": [
          1.5274988900037805,
          1.4909788900037804
         ]
        },
        {
         "line": {
          "color": "red",
          "width": 1
         },
         "mode": "lines",
         "type": "scatter3d",
         "x": [
          -2.1468558245575027,
          -1.8604758245575042
         ],
         "y": [
          2.95481858282235,
          3.2478585828223485
         ],
         "z": [
          1.4799989396013071,
          1.519958939601307
         ]
        },
        {
         "line": {
          "color": "red",
          "width": 1
         },
         "mode": "lines",
         "type": "scatter3d",
         "x": [
          -1.8219110843656903,
          -1.5455210843656917
         ],
         "y": [
          3.1616352437181603,
          3.4979652437181588
         ],
         "z": [
          1.4499989427736422,
          1.469978942773642
         ]
        },
        {
         "line": {
          "color": "red",
          "width": 1
         },
         "mode": "lines",
         "type": "scatter3d",
         "x": [
          -1.5164074667419576,
          -1.2325074667419549
         ],
         "y": [
          3.384833423551056,
          3.6954534235510588
         ],
         "z": [
          1.422498908337009,
          1.3790789083370085
         ]
        },
        {
         "line": {
          "color": "red",
          "width": 1
         },
         "mode": "lines",
         "type": "scatter3d",
         "x": [
          -1.2109038403651171,
          -0.9211938403651185
         ],
         "y": [
          3.6182700373979095,
          3.8946600373979083
         ],
         "z": [
          1.3949988455487285,
          1.4349588455487283
         ]
        },
        {
         "line": {
          "color": "red",
          "width": 1
         },
         "mode": "lines",
         "type": "scatter3d",
         "x": [
          -0.874849868453135,
          -0.5351898684531365
         ],
         "y": [
          3.8373727729722145,
          4.1037727729722135
         ],
         "z": [
          1.367498770011613,
          1.3008987700116132
         ]
        },
        {
         "line": {
          "color": "red",
          "width": 1
         },
         "mode": "lines",
         "type": "scatter3d",
         "x": [
          -0.49435903367334466,
          -0.07935903367334374
         ],
         "y": [
          4.029855465843552,
          4.202495465843552
         ],
         "z": [
          1.3174986897878127,
          1.3008986897878128
         ]
        },
        {
         "line": {
          "color": "red",
          "width": 1
         },
         "mode": "lines",
         "type": "scatter3d",
         "x": [
          -0.0916497852432207,
          0.38787021475677697
         ],
         "y": [
          4.183432010863134,
          4.2467020108631335
         ],
         "z": [
          1.2799986091782969,
          1.2799986091782969
         ]
        },
        {
         "line": {
          "color": "red",
          "width": 1
         },
         "mode": "lines",
         "type": "scatter3d",
         "x": [
          0.2999502028352439,
          0.7589002028352451
         ],
         "y": [
          4.267387074210016,
          4.233887074210016
         ],
         "z": [
          1.2499985520313384,
          1.1863485520313382
         ]
        },
        {
         "line": {
          "color": "red",
          "width": 1
         },
         "mode": "lines",
         "type": "scatter3d",
         "x": [
          0.6193402116201452,
          0.997820211620146
         ],
         "y": [
          4.248957664992551,
          4.07631766499255
         ],
         "z": [
          1.2424985476012058,
          1.2458185476012058
         ]
        },
        {
         "line": {
          "color": "red",
          "width": 1
         },
         "mode": "lines",
         "type": "scatter3d",
         "x": [
          0.855411028488824,
          1.1684310284888224
         ],
         "y": [
          4.126096124549566,
          3.849706124549567
         ],
         "z": [
          1.282498603077866,
          1.2025786030778665
         ]
        },
        {
         "line": {
          "color": "red",
          "width": 1
         },
         "mode": "lines",
         "type": "scatter3d",
         "x": [
          1.0276038013906548,
          1.2898838013906553
         ],
         "y": [
          3.923374707346568,
          3.6478147073465674
         ],
         "z": [
          1.3299987040462495,
          1.3266787040462495
         ]
        },
        {
         "line": {
          "color": "red",
          "width": 1
         },
         "mode": "lines",
         "type": "scatter3d",
         "x": [
          1.1636915929226779,
          1.3934615929226768
         ],
         "y": [
          3.663317995200911,
          3.3436379952009125
         ],
         "z": [
          1.3874988337068408,
          1.4141388337068406
         ]
        },
        {
         "line": {
          "color": "red",
          "width": 1
         },
         "mode": "lines",
         "type": "scatter3d",
         "x": [
          1.2831155539932966,
          1.430515553993297
         ],
         "y": [
          3.3725459432714597,
          2.9939959432714587
         ],
         "z": [
          1.4474989700418133,
          1.400598970041813
         ]
        },
        {
         "line": {
          "color": "red",
          "width": 1
         },
         "mode": "lines",
         "type": "scatter3d",
         "x": [
          1.3830983893009485,
          1.4727383893009487
         ],
         "y": [
          3.073583131073219,
          2.691783131073218
         ],
         "z": [
          1.4874990998484967,
          1.5206990998484968
         ]
        },
        {
         "line": {
          "color": "red",
          "width": 1
         },
         "mode": "lines",
         "type": "scatter3d",
         "x": [
          1.4247578371239167,
          1.4680478371239165
         ],
         "y": [
          2.768477273428886,
          2.398847273428888
         ],
         "z": [
          1.5249992313567047,
          1.498359231356705
         ]
        },
        {
         "line": {
          "color": "red",
          "width": 1
         },
         "mode": "lines",
         "type": "scatter3d",
         "x": [
          1.383098156470262,
          1.2735381564702617
         ],
         "y": [
          2.459276061342358,
          2.104036061342357
         ],
         "z": [
          1.5549993668851578,
          1.5417193668851579
         ]
        },
        {
         "line": {
          "color": "red",
          "width": 1
         },
         "mode": "lines",
         "type": "scatter3d",
         "x": [
          1.269228568986578,
          1.0749285689865777
         ],
         "y": [
          2.1541702432403453,
          1.8258702432403444
         ],
         "z": [
          1.5774994982850843,
          1.6511994982850844
         ]
        },
        {
         "line": {
          "color": "red",
          "width": 1
         },
         "mode": "lines",
         "type": "scatter3d",
         "x": [
          1.0859263760136462,
          0.8494963760136474
         ],
         "y": [
          1.842921360525723,
          1.5165813605257248
         ],
         "z": [
          1.5949996269551234,
          1.5716896269551235
         ]
        },
        {
         "line": {
          "color": "red",
          "width": 1
         },
         "mode": "lines",
         "type": "scatter3d",
         "x": [
          0.8498554040076476,
          0.574295404007647
         ],
         "y": [
          1.525529398267206,
          1.2599293982672055
         ],
         "z": [
          1.6024997450093028,
          1.629059745009303
         ]
        },
        {
         "line": {
          "color": "red",
          "width": 1
         },
         "mode": "lines",
         "type": "scatter3d",
         "x": [
          0.5971206181863107,
          0.26844061818630993
         ],
         "y": [
          1.2101851108797885,
          0.934625110879788
         ],
         "z": [
          1.6299998411360481,
          1.6764798411360482
         ]
        },
        {
         "line": {
          "color": "red",
          "width": 1
         },
         "mode": "lines",
         "type": "scatter3d",
         "x": [
          0.34716315048397794,
          0.054123150483979365
         ],
         "y": [
          0.8927931100642934,
          0.5997531100642948
         ],
         "z": [
          1.6749999126042718,
          1.655019912604272
         ]
        },
        {
         "line": {
          "color": "red",
          "width": 1
         },
         "mode": "lines",
         "type": "scatter3d",
         "x": [
          0.0999829994692395,
          -0.19146700053076127
         ],
         "y": [
          0.5958779927316661,
          0.3345779927316654
         ],
         "z": [
          1.7524999578776979,
          1.8529999578776981
         ]
        },
        {
         "line": {
          "color": "red",
          "width": 1
         },
         "mode": "lines",
         "type": "scatter3d",
         "x": [
          -0.15275175417958053,
          -0.46151175417958124
         ],
         "y": [
          0.3153443761006839,
          0.06302437610068334
         ],
         "z": [
          1.862499977144564,
          1.8923799771445642
         ]
        },
        {
         "line": {
          "color": "red",
          "width": 1
         },
         "mode": "lines",
         "type": "scatter3d",
         "x": [
          -0.43325954905848707,
          -0.7329595490584857
         ],
         "y": [
          0.034810728403700114,
          -0.20494927159629872
         ],
         "z": [
          1.9499999690250707,
          2.0199299690250703
         ]
        },
        {
         "line": {
          "color": "red",
          "width": 1
         },
         "mode": "lines",
         "type": "scatter3d",
         "x": [
          -0.7554269064550128,
          -1.0551269064550113
         ],
         "y": [
          -0.23753218601427142,
          -0.5006021860142702
         ],
         "z": [
          2.014999930593586,
          2.1248899305935858
         ]
        },
        {
         "line": {
          "color": "red",
          "width": 1
         },
         "mode": "lines",
         "type": "scatter3d",
         "x": [
          -1.1109219077943526,
          -1.4462419077943534
         ],
         "y": [
          -0.5344474239384822,
          -0.8100074239384828
         ],
         "z": [
          2.037499857205505,
          2.044139857205505
         ]
        },
        {
         "line": {
          "color": "red",
          "width": 1
         },
         "mode": "lines",
         "type": "scatter3d",
         "x": [
          -1.4497530601486202,
          -1.7328030601486248
         ],
         "y": [
          -0.8682211308143134,
          -1.1745811308143184
         ],
         "z": [
          2.024999752906157,
          2.134889752906159
         ]
        },
        {
         "line": {
          "color": "red",
          "width": 1
         },
         "mode": "lines",
         "type": "scatter3d",
         "x": [
          -1.755256534354524,
          -1.9931065343545193
         ],
         "y": [
          -1.2286148526778478,
          -1.6105148526778406
         ],
         "z": [
          2.0199996175812913,
          2.1171496175812896
         ]
        },
        {
         "line": {
          "color": "red",
          "width": 1
         },
         "mode": "lines",
         "type": "scatter3d",
         "x": [
          -2.0413188435185314,
          -2.277038843518532
         ],
         "y": [
          -1.6279147383832895,
          -1.9931147383832903
         ],
         "z": [
          2.0074994415038367,
          2.0108194415038367
         ]
        },
        {
         "line": {
          "color": "red",
          "width": 1
         },
         "mode": "lines",
         "type": "scatter3d",
         "x": [
          -2.3079399929560593,
          -2.5476999929560633
         ],
         "y": [
          -2.0517869548082137,
          -2.43473695480822
         ],
         "z": [
          2.0074992260854487,
          2.1073992260854504
         ]
        },
        {
         "line": {
          "color": "red",
          "width": 1
         },
         "mode": "lines",
         "type": "scatter3d",
         "x": [
          -2.5717838236909474,
          -2.8141438236909426
         ],
         "y": [
          -2.4715638257528676,
          -2.8799238257528597
         ],
         "z": [
          2.027498977198185,
          2.087258977198184
         ]
        },
        {
         "line": {
          "color": "red",
          "width": 1
         },
         "mode": "lines",
         "type": "scatter3d",
         "x": [
          -2.846736854927649,
          -3.093156854927653
         ],
         "y": [
          -2.8688161168553137,
          -3.198486116855319
         ],
         "z": [
          2.0324986981202278,
          2.095768698120229
         ]
        },
        {
         "line": {
          "color": "red",
          "width": 1
         },
         "mode": "lines",
         "type": "scatter3d",
         "x": [
          -3.113357975284536,
          -3.3780079752845364
         ],
         "y": [
          -3.221019221429985,
          -3.532569221429986
         ],
         "z": [
          2.0499984094082415,
          2.1102984094082418
         ]
        },
        {
         "line": {
          "color": "red",
          "width": 1
         },
         "mode": "lines",
         "type": "scatter3d",
         "x": [
          -3.3605379687939814,
          -3.589617968793977
         ],
         "y": [
          -3.51179158116002,
          -3.784031581160015
         ],
         "z": [
          2.0549981342240224,
          2.078238134224022
         ]
        },
        {
         "line": {
          "color": "red",
          "width": 1
         },
         "mode": "lines",
         "type": "scatter3d",
         "x": [
          -3.5938314490162604,
          -3.813611449016264
         ],
         "y": [
          -3.7370377979513583,
          -3.903537797951361
         ],
         "z": [
          2.0349978837786598,
          2.0716278837786604
         ]
        },
        {
         "line": {
          "color": "red",
          "width": 1
         },
         "mode": "lines",
         "type": "scatter3d",
         "x": [
          -3.7854653795600663,
          -3.924905379560067
         ],
         "y": [
          -3.9049486295250135,
          -4.001228629525014
         ],
         "z": [
          2.014997676685459,
          2.038237676685459
         ]
        },
        {
         "line": {
          "color": "red",
          "width": 1
         },
         "mode": "lines",
         "type": "scatter3d",
         "x": [
          -3.9354397731875683,
          -4.045329773187568
         ],
         "y": [
          -3.995047144256554,
          -4.041667144256554
         ],
         "z": [
          1.9874975327669473,
          2.027457532766947
         ]
        },
        {
         "line": {
          "color": "red",
          "width": 1
         },
         "mode": "lines",
         "type": "scatter3d",
         "x": [
          -4.0798596046427615,
          -4.2239096046427616
         ],
         "y": [
          -3.99095182104198,
          -3.88375182104198
         ],
         "z": [
          1.9549974438560778,
          2.0018974438560777
         ]
        },
        {
         "line": {
          "color": "red",
          "width": 1
         },
         "mode": "lines",
         "type": "scatter3d",
         "x": [
          -4.252052531384372,
          -4.494412531384373
         ],
         "y": [
          -3.906996524846868,
          -3.6878765248468675
         ],
         "z": [
          1.929997378886753,
          1.9631973788867532
         ]
        },
        {
         "line": {
          "color": "red",
          "width": 1
         },
         "mode": "lines",
         "type": "scatter3d",
         "x": [
          -4.488123490410957,
          -4.791153490410956
         ],
         "y": [
          -3.7677535680759275,
          -3.5846035680759285
         ],
         "z": [
          1.8974972952831424,
          1.8974972952831424
         ]
        },
        {
         "line": {
          "color": "red",
          "width": 1
         },
         "mode": "lines",
         "type": "scatter3d",
         "x": [
          -4.796404381361058,
          -5.191484381361059
         ],
         "y": [
          -3.6059860287959298,
          -3.4632260287959293
         ],
         "z": [
          1.8649971604265838,
          1.8782771604265838
         ]
        },
        {
         "line": {
          "color": "red",
          "width": 1
         },
         "mode": "lines",
         "type": "scatter3d",
         "x": [
          -5.157454049011557,
          -5.542704049011558
         ],
         "y": [
          -3.460600045165286,
          -3.313200045165286
         ],
         "z": [
          1.8349969571233395,
          1.8081969571233394
         ]
        },
        {
         "line": {
          "color": "red",
          "width": 1
         },
         "mode": "lines",
         "type": "scatter3d",
         "x": [
          -5.549054035854111,
          -5.928674035854109
         ],
         "y": [
          -3.347977134455254,
          -3.2447471344552543
         ],
         "z": [
          1.7924966873123638,
          1.8624266873123634
         ]
        },
        {
         "line": {
          "color": "red",
          "width": 1
         },
         "mode": "lines",
         "type": "scatter3d",
         "x": [
          -5.951763238028573,
          -6.403283238028575
         ],
         "y": [
          -3.251735765120444,
          -3.1786957651204437
         ],
         "z": [
          1.7624963727733016,
          1.7658163727733016
         ]
        },
        {
         "line": {
          "color": "red",
          "width": 1
         },
         "mode": "lines",
         "type": "scatter3d",
         "x": [
          -6.360027034840943,
          -6.775027034840944
         ],
         "y": [
          -3.1657328479268942,
          -3.076092847926894
         ],
         "z": [
          1.7274960209901344,
          1.7175360209901345
         ]
        },
        {
         "line": {
          "color": "red",
          "width": 1
         },
         "mode": "lines",
         "type": "scatter3d",
         "x": [
          -6.765513526955651,
          -7.171773526955649
         ],
         "y": [
          -3.0981591611056905,
          -3.0315591611056907
         ],
         "z": [
          1.7049956366594192,
          1.768265636659419
         ]
        },
        {
         "line": {
          "color": "red",
          "width": 1
         },
         "mode": "lines",
         "type": "scatter3d",
         "x": [
          -7.182109235125958,
          -7.60755923512595
         ],
         "y": [
          -3.051062406881469,
          -3.0343124068814693
         ],
         "z": [
          1.6924952021496025,
          1.6355452021496035
         ]
        },
        {
         "line": {
          "color": "red",
          "width": 1
         },
         "mode": "lines",
         "type": "scatter3d",
         "x": [
          -7.607036843946725,
          -8.008756843946735
         ],
         "y": [
          -3.016251806581396,
          -3.0029718065813955
         ],
         "z": [
          1.6749947238179934,
          1.7048747238179942
         ]
        },
        {
         "line": {
          "color": "red",
          "width": 1
         },
         "mode": "lines",
         "type": "scatter3d",
         "x": [
          -8.029187159508835,
          -8.452097159508833
         ],
         "y": [
          -2.9998704460138716,
          -2.966570446013872
         ],
         "z": [
          1.6749942127424555,
          1.7049642127424554
         ]
        },
        {
         "line": {
          "color": "red",
          "width": 1
         },
         "mode": "lines",
         "type": "scatter3d",
         "x": [
          -8.459669369763779,
          -8.85806936976377
         ],
         "y": [
          -2.99577524159013,
          -3.0190152415901297
         ],
         "z": [
          1.66499365814265,
          1.6417536581426506
         ]
        },
        {
         "line": {
          "color": "red",
          "width": 1
         },
         "mode": "lines",
         "type": "scatter3d",
         "x": [
          -8.87904235912244,
          -9.275312359122438
         ],
         "y": [
          -2.9671077064368934,
          -2.957117706436893
         ],
         "z": [
          1.647493100838049,
          1.6974431008380486
         ]
        },
        {
         "line": {
          "color": "red",
          "width": 1
         },
         "mode": "lines",
         "type": "scatter3d",
         "x": [
          -9.292860757940451,
          -9.699120757940467
         ],
         "y": [
          -2.901581682462025,
          -2.8083416824620215
         ],
         "z": [
          1.634992539229487,
          1.5750525392294847
         ]
        },
        {
         "line": {
          "color": "red",
          "width": 1
         },
         "mode": "lines",
         "type": "scatter3d",
         "x": [
          -9.701124532353848,
          -10.068524532353836
         ],
         "y": [
          -2.7930540731848597,
          -2.666134073184864
         ],
         "z": [
          1.6024919779411382,
          1.6125119779411379
         ]
        },
        {
         "line": {
          "color": "red",
          "width": 1
         },
         "mode": "lines",
         "type": "scatter3d",
         "x": [
          -10.101056431145903,
          -10.470686431145902
         ],
         "y": [
          -2.610809479457652,
          -2.4376494794576526
         ],
         "z": [
          1.579991431753892,
          1.579991431753892
         ]
        },
        {
         "line": {
          "color": "red",
          "width": 1
         },
         "mode": "lines",
         "type": "scatter3d",
         "x": [
          -10.478769914467932,
          -10.785129914467944
         ],
         "y": [
          -2.365086352396507,
          -2.1086763523964973
         ],
         "z": [
          1.562490915981926,
          1.509210915981924
         ]
        },
        {
         "line": {
          "color": "red",
          "width": 1
         },
         "mode": "lines",
         "type": "scatter3d",
         "x": [
          -10.806491917949808,
          -11.055491917949803
         ],
         "y": [
          -2.0763616148393824,
          -1.7709216148393883
         ],
         "z": [
          1.5449904690420373,
          1.5815104690420365
         ]
        },
        {
         "line": {
          "color": "red",
          "width": 1
         },
         "mode": "lines",
         "type": "scatter3d",
         "x": [
          -11.0620040175831,
          -11.238494017583099
         ],
         "y": [
          -1.742587573850662,
          -1.3762875738506637
         ],
         "z": [
          1.5374901334960485,
          1.4875401334960487
         ]
        },
        {
         "line": {
          "color": "red",
          "width": 1
         },
         "mode": "lines",
         "type": "scatter3d",
         "x": [
          -11.200869291835183,
          -11.200869291835183
         ],
         "y": [
          -1.38424115756695,
          -0.9989911575669408
         ],
         "z": [
          1.5174899804635547,
          1.494039980463554
         ]
        },
        {
         "line": {
          "color": "red",
          "width": 1
         },
         "mode": "lines",
         "type": "scatter3d",
         "x": [
          -11.223087777698051,
          -11.096927777698054
         ],
         "y": [
          -1.0258947127013982,
          -0.6108947127014062
         ],
         "z": [
          1.5099900093936072,
          1.5299100093936069
         ]
        },
        {
         "line": {
          "color": "red",
          "width": 1
         },
         "mode": "lines",
         "type": "scatter3d",
         "x": [
          -11.13976866408596,
          -10.95328866408596
         ],
         "y": [
          -0.6532143961400554,
          -0.26360439614005726
         ],
         "z": [
          1.497490202885814,
          1.4375502028858143
         ]
        },
        {
         "line": {
          "color": "red",
          "width": 1
         },
         "mode": "lines",
         "type": "scatter3d",
         "x": [
          -10.962021179995306,
          -10.7030611799953
         ],
         "y": [
          -0.290772553436124,
          0.051187446563884076
         ],
         "z": [
          1.4874905363828643,
          1.5273305363828653
         ]
        },
        {
         "line": {
          "color": "red",
          "width": 1
         },
         "mode": "lines",
         "type": "scatter3d",
         "x": [
          -10.72872762477855,
          -10.399057624778552
         ],
         "y": [
          0.0491446383769239,
          0.3754846383769223
         ],
         "z": [
          1.499990939838012,
          1.4700209398380122
         ]
        },
        {
         "line": {
          "color": "red",
          "width": 1
         },
         "mode": "lines",
         "type": "scatter3d",
         "x": [
          -10.456551767972208,
          -10.131601767972214
         ],
         "y": [
          0.38087103210210627,
          0.6857210321021006
         ],
         "z": [
          1.4999913815780426,
          1.5200913815780421
         ]
        },
        {
         "line": {
          "color": "red",
          "width": 1
         },
         "mode": "lines",
         "type": "scatter3d",
         "x": [
          -10.159380180528105,
          -9.794180180528096
         ],
         "y": [
          0.6798343003604721,
          0.9852743003604794
         ],
         "z": [
          1.5149918389609045,
          1.5880318389609063
         ]
        },
        {
         "line": {
          "color": "red",
          "width": 1
         },
         "mode": "lines",
         "type": "scatter3d",
         "x": [
          -9.845544746501965,
          -9.445944746501967
         ],
         "y": [
          0.9644636838958578,
          1.2175436838958567
         ],
         "z": [
          1.5249922954924826,
          1.465052295492483
         ]
        },
        {
         "line": {
          "color": "red",
          "width": 1
         },
         "mode": "lines",
         "type": "scatter3d",
         "x": [
          -9.52893196008884,
          -9.143811960088847
         ],
         "y": [
          1.2368068767230513,
          1.4924468767230463
         ],
         "z": [
          1.5099927308059717,
          1.5398727308059712
         ]
        },
        {
         "line": {
          "color": "red",
          "width": 1
         },
         "mode": "lines",
         "type": "scatter3d",
         "x": [
          -9.201209962159297,
          -8.805909962159287
         ],
         "y": [
          1.4825300288106191,
          1.737130028810625
         ],
         "z": [
          1.5024931608759289,
          1.462293160875928
         ]
        },
        {
         "line": {
          "color": "red",
          "width": 1
         },
         "mode": "lines",
         "type": "scatter3d",
         "x": [
          -8.856824107210876,
          -8.499344107210888
         ],
         "y": [
          1.7159669884676358,
          1.9112569884676294
         ],
         "z": [
          1.4774935912033147,
          1.444393591203316
         ]
        },
        {
         "line": {
          "color": "red",
          "width": 1
         },
         "mode": "lines",
         "type": "scatter3d",
         "x": [
          -8.520770155682161,
          -8.136670155682157
         ],
         "y": [
          1.9494039228076228,
          2.1832039228076248
         ],
         "z": [
          1.449993982480744,
          1.4733739824807441
         ]
        },
        {
         "line": {
          "color": "red",
          "width": 1
         },
         "mode": "lines",
         "type": "scatter3d",
         "x": [
          -8.173606992634557,
          -7.84492699263455
         ],
         "y": [
          2.193079297705631,
          2.4785992977056375
         ],
         "z": [
          1.4349943573026298,
          1.358634357302628
         ]
        },
        {
         "line": {
          "color": "red",
          "width": 1
         },
         "mode": "lines",
         "type": "scatter3d",
         "x": [
          -7.815334601403911,
          -7.482334601403912
         ],
         "y": [
          2.436754644269917,
          2.649874644269916
         ],
         "z": [
          1.4174947185566258,
          1.4474647185566256
         ]
        },
        {
         "line": {
          "color": "red",
          "width": 1
         },
         "mode": "lines",
         "type": "scatter3d",
         "x": [
          -7.448730314380246,
          -7.069110314380247
         ],
         "y": [
          2.6660961195159247,
          2.859236119515924
         ],
         "z": [
          1.414995066665775,
          1.408335066665775
         ]
        },
        {
         "line": {
          "color": "red",
          "width": 1
         },
         "mode": "lines",
         "type": "scatter3d",
         "x": [
          -7.059907582388048,
          -6.662447582388044
         ],
         "y": [
          2.8770083198537204,
          3.060708319853722
         ],
         "z": [
          1.4024954183957319,
          1.3624154183957315
         ]
        },
        {
         "line": {
          "color": "red",
          "width": 1
         },
         "mode": "lines",
         "type": "scatter3d",
         "x": [
          -6.659975639045664,
          -6.249155639045677
         ],
         "y": [
          3.057205100787026,
          3.214185100787021
         ],
         "z": [
          1.3899957659188802,
          1.4233957659188792
         ]
        },
        {
         "line": {
          "color": "red",
          "width": 1
         },
         "mode": "lines",
         "type": "scatter3d",
         "x": [
          -6.26004371095309,
          -5.8350837109530795
         ],
         "y": [
          3.210781863015824,
          3.3269818630158268
         ],
         "z": [
          1.3849960971825448,
          1.3385160971825436
         ]
        },
        {
         "line": {
          "color": "red",
          "width": 1
         },
         "mode": "lines",
         "type": "scatter3d",
         "x": [
          -5.865666389292514,
          -5.467266389292521
         ],
         "y": [
          3.3438816823818325,
          3.433521682381831
         ],
         "z": [
          1.3699964066023576,
          1.396556406602357
         ]
        },
        {
         "line": {
          "color": "red",
          "width": 1
         },
         "mode": "lines",
         "type": "scatter3d",
         "x": [
          -5.479621026296124,
          -5.063371026296126
         ],
         "y": [
          3.4216938095718556,
          3.4816338095718553
         ],
         "z": [
          1.3749967105396383,
          1.3749967105396383
         ]
        },
        {
         "line": {
          "color": "red",
          "width": 1
         },
         "mode": "lines",
         "type": "scatter3d",
         "x": [
          -5.099130299639977,
          -4.700480299639968
         ],
         "y": [
          3.429884393371681,
          3.37963439337168
         ],
         "z": [
          1.3724970219854136,
          1.2954470219854117
         ]
        },
        {
         "line": {
          "color": "red",
          "width": 1
         },
         "mode": "lines",
         "type": "scatter3d",
         "x": [
          -4.721416896804438,
          -4.342936896804446
         ],
         "y": [
          3.39507344324456,
          3.2755534432445623
         ],
         "z": [
          1.3699973320653895,
          1.396557332065389
         ]
        },
        {
         "line": {
          "color": "red",
          "width": 1
         },
         "mode": "lines",
         "type": "scatter3d",
         "x": [
          -4.354812749253556,
          -3.948552749253558
         ],
         "y": [
          3.307022518546499,
          3.1771525185464995
         ],
         "z": [
          1.384997640105104,
          1.3183976401051043
         ]
        },
        {
         "line": {
          "color": "red",
          "width": 1
         },
         "mode": "lines",
         "type": "scatter3d",
         "x": [
          -4.024313579719333,
          -3.718873579719326
         ],
         "y": [
          3.1677793212598706,
          2.9519793212598655
         ],
         "z": [
          1.397497930022572,
          1.397497930022572
         ]
        },
        {
         "line": {
          "color": "red",
          "width": 1
         },
         "mode": "lines",
         "type": "scatter3d",
         "x": [
          -3.7326966996796704,
          -3.4363266996796717
         ],
         "y": [
          2.9855346364355877,
          2.689164636435589
         ],
         "z": [
          1.429998196185355,
          1.426668196185355
         ]
        },
        {
         "line": {
          "color": "red",
          "width": 1
         },
         "mode": "lines",
         "type": "scatter3d",
         "x": [
          -3.477184788694472,
          -3.2125347886944766
         ],
         "y": [
          2.74390691426761,
          2.4424069142676155
         ],
         "z": [
          1.4499984476752028,
          1.382998447675204
         ]
        },
        {
         "line": {
          "color": "red",
          "width": 1
         },
         "mode": "lines",
         "type": "scatter3d",
         "x": [
          -2.5217921923560294,
          null
         ],
         "y": [
          1.9596409493919449,
          null
         ],
         "z": [
          1.0924989270351704,
          null
         ]
        }
       ],
       "layout": {
        "annotations": [
         {
          "font": {
           "size": 14
          },
          "showarrow": false,
          "text": "Location (Blue) with Predicted Location for Next Timestamp (Red)",
          "x": 0.5,
          "xref": "paper",
          "y": 1.05,
          "yref": "paper"
         }
        ],
        "scene": {
         "xaxis": {
          "title": {
           "text": "East (m)"
          }
         },
         "yaxis": {
          "title": {
           "text": "North (m)"
          }
         },
         "zaxis": {
          "title": {
           "text": "Altitude (m)"
          }
         }
        },
        "showlegend": false,
        "template": {
         "data": {
          "bar": [
           {
            "error_x": {
             "color": "#2a3f5f"
            },
            "error_y": {
             "color": "#2a3f5f"
            },
            "marker": {
             "line": {
              "color": "white",
              "width": 0.5
             },
             "pattern": {
              "fillmode": "overlay",
              "size": 10,
              "solidity": 0.2
             }
            },
            "type": "bar"
           }
          ],
          "barpolar": [
           {
            "marker": {
             "line": {
              "color": "white",
              "width": 0.5
             },
             "pattern": {
              "fillmode": "overlay",
              "size": 10,
              "solidity": 0.2
             }
            },
            "type": "barpolar"
           }
          ],
          "carpet": [
           {
            "aaxis": {
             "endlinecolor": "#2a3f5f",
             "gridcolor": "#C8D4E3",
             "linecolor": "#C8D4E3",
             "minorgridcolor": "#C8D4E3",
             "startlinecolor": "#2a3f5f"
            },
            "baxis": {
             "endlinecolor": "#2a3f5f",
             "gridcolor": "#C8D4E3",
             "linecolor": "#C8D4E3",
             "minorgridcolor": "#C8D4E3",
             "startlinecolor": "#2a3f5f"
            },
            "type": "carpet"
           }
          ],
          "choropleth": [
           {
            "colorbar": {
             "outlinewidth": 0,
             "ticks": ""
            },
            "type": "choropleth"
           }
          ],
          "contour": [
           {
            "colorbar": {
             "outlinewidth": 0,
             "ticks": ""
            },
            "colorscale": [
             [
              0,
              "#0d0887"
             ],
             [
              0.1111111111111111,
              "#46039f"
             ],
             [
              0.2222222222222222,
              "#7201a8"
             ],
             [
              0.3333333333333333,
              "#9c179e"
             ],
             [
              0.4444444444444444,
              "#bd3786"
             ],
             [
              0.5555555555555556,
              "#d8576b"
             ],
             [
              0.6666666666666666,
              "#ed7953"
             ],
             [
              0.7777777777777778,
              "#fb9f3a"
             ],
             [
              0.8888888888888888,
              "#fdca26"
             ],
             [
              1,
              "#f0f921"
             ]
            ],
            "type": "contour"
           }
          ],
          "contourcarpet": [
           {
            "colorbar": {
             "outlinewidth": 0,
             "ticks": ""
            },
            "type": "contourcarpet"
           }
          ],
          "heatmap": [
           {
            "colorbar": {
             "outlinewidth": 0,
             "ticks": ""
            },
            "colorscale": [
             [
              0,
              "#0d0887"
             ],
             [
              0.1111111111111111,
              "#46039f"
             ],
             [
              0.2222222222222222,
              "#7201a8"
             ],
             [
              0.3333333333333333,
              "#9c179e"
             ],
             [
              0.4444444444444444,
              "#bd3786"
             ],
             [
              0.5555555555555556,
              "#d8576b"
             ],
             [
              0.6666666666666666,
              "#ed7953"
             ],
             [
              0.7777777777777778,
              "#fb9f3a"
             ],
             [
              0.8888888888888888,
              "#fdca26"
             ],
             [
              1,
              "#f0f921"
             ]
            ],
            "type": "heatmap"
           }
          ],
          "heatmapgl": [
           {
            "colorbar": {
             "outlinewidth": 0,
             "ticks": ""
            },
            "colorscale": [
             [
              0,
              "#0d0887"
             ],
             [
              0.1111111111111111,
              "#46039f"
             ],
             [
              0.2222222222222222,
              "#7201a8"
             ],
             [
              0.3333333333333333,
              "#9c179e"
             ],
             [
              0.4444444444444444,
              "#bd3786"
             ],
             [
              0.5555555555555556,
              "#d8576b"
             ],
             [
              0.6666666666666666,
              "#ed7953"
             ],
             [
              0.7777777777777778,
              "#fb9f3a"
             ],
             [
              0.8888888888888888,
              "#fdca26"
             ],
             [
              1,
              "#f0f921"
             ]
            ],
            "type": "heatmapgl"
           }
          ],
          "histogram": [
           {
            "marker": {
             "pattern": {
              "fillmode": "overlay",
              "size": 10,
              "solidity": 0.2
             }
            },
            "type": "histogram"
           }
          ],
          "histogram2d": [
           {
            "colorbar": {
             "outlinewidth": 0,
             "ticks": ""
            },
            "colorscale": [
             [
              0,
              "#0d0887"
             ],
             [
              0.1111111111111111,
              "#46039f"
             ],
             [
              0.2222222222222222,
              "#7201a8"
             ],
             [
              0.3333333333333333,
              "#9c179e"
             ],
             [
              0.4444444444444444,
              "#bd3786"
             ],
             [
              0.5555555555555556,
              "#d8576b"
             ],
             [
              0.6666666666666666,
              "#ed7953"
             ],
             [
              0.7777777777777778,
              "#fb9f3a"
             ],
             [
              0.8888888888888888,
              "#fdca26"
             ],
             [
              1,
              "#f0f921"
             ]
            ],
            "type": "histogram2d"
           }
          ],
          "histogram2dcontour": [
           {
            "colorbar": {
             "outlinewidth": 0,
             "ticks": ""
            },
            "colorscale": [
             [
              0,
              "#0d0887"
             ],
             [
              0.1111111111111111,
              "#46039f"
             ],
             [
              0.2222222222222222,
              "#7201a8"
             ],
             [
              0.3333333333333333,
              "#9c179e"
             ],
             [
              0.4444444444444444,
              "#bd3786"
             ],
             [
              0.5555555555555556,
              "#d8576b"
             ],
             [
              0.6666666666666666,
              "#ed7953"
             ],
             [
              0.7777777777777778,
              "#fb9f3a"
             ],
             [
              0.8888888888888888,
              "#fdca26"
             ],
             [
              1,
              "#f0f921"
             ]
            ],
            "type": "histogram2dcontour"
           }
          ],
          "mesh3d": [
           {
            "colorbar": {
             "outlinewidth": 0,
             "ticks": ""
            },
            "type": "mesh3d"
           }
          ],
          "parcoords": [
           {
            "line": {
             "colorbar": {
              "outlinewidth": 0,
              "ticks": ""
             }
            },
            "type": "parcoords"
           }
          ],
          "pie": [
           {
            "automargin": true,
            "type": "pie"
           }
          ],
          "scatter": [
           {
            "fillpattern": {
             "fillmode": "overlay",
             "size": 10,
             "solidity": 0.2
            },
            "type": "scatter"
           }
          ],
          "scatter3d": [
           {
            "line": {
             "colorbar": {
              "outlinewidth": 0,
              "ticks": ""
             }
            },
            "marker": {
             "colorbar": {
              "outlinewidth": 0,
              "ticks": ""
             }
            },
            "type": "scatter3d"
           }
          ],
          "scattercarpet": [
           {
            "marker": {
             "colorbar": {
              "outlinewidth": 0,
              "ticks": ""
             }
            },
            "type": "scattercarpet"
           }
          ],
          "scattergeo": [
           {
            "marker": {
             "colorbar": {
              "outlinewidth": 0,
              "ticks": ""
             }
            },
            "type": "scattergeo"
           }
          ],
          "scattergl": [
           {
            "marker": {
             "colorbar": {
              "outlinewidth": 0,
              "ticks": ""
             }
            },
            "type": "scattergl"
           }
          ],
          "scattermapbox": [
           {
            "marker": {
             "colorbar": {
              "outlinewidth": 0,
              "ticks": ""
             }
            },
            "type": "scattermapbox"
           }
          ],
          "scatterpolar": [
           {
            "marker": {
             "colorbar": {
              "outlinewidth": 0,
              "ticks": ""
             }
            },
            "type": "scatterpolar"
           }
          ],
          "scatterpolargl": [
           {
            "marker": {
             "colorbar": {
              "outlinewidth": 0,
              "ticks": ""
             }
            },
            "type": "scatterpolargl"
           }
          ],
          "scatterternary": [
           {
            "marker": {
             "colorbar": {
              "outlinewidth": 0,
              "ticks": ""
             }
            },
            "type": "scatterternary"
           }
          ],
          "surface": [
           {
            "colorbar": {
             "outlinewidth": 0,
             "ticks": ""
            },
            "colorscale": [
             [
              0,
              "#0d0887"
             ],
             [
              0.1111111111111111,
              "#46039f"
             ],
             [
              0.2222222222222222,
              "#7201a8"
             ],
             [
              0.3333333333333333,
              "#9c179e"
             ],
             [
              0.4444444444444444,
              "#bd3786"
             ],
             [
              0.5555555555555556,
              "#d8576b"
             ],
             [
              0.6666666666666666,
              "#ed7953"
             ],
             [
              0.7777777777777778,
              "#fb9f3a"
             ],
             [
              0.8888888888888888,
              "#fdca26"
             ],
             [
              1,
              "#f0f921"
             ]
            ],
            "type": "surface"
           }
          ],
          "table": [
           {
            "cells": {
             "fill": {
              "color": "#EBF0F8"
             },
             "line": {
              "color": "white"
             }
            },
            "header": {
             "fill": {
              "color": "#C8D4E3"
             },
             "line": {
              "color": "white"
             }
            },
            "type": "table"
           }
          ]
         },
         "layout": {
          "annotationdefaults": {
           "arrowcolor": "#2a3f5f",
           "arrowhead": 0,
           "arrowwidth": 1
          },
          "autotypenumbers": "strict",
          "coloraxis": {
           "colorbar": {
            "outlinewidth": 0,
            "ticks": ""
           }
          },
          "colorscale": {
           "diverging": [
            [
             0,
             "#8e0152"
            ],
            [
             0.1,
             "#c51b7d"
            ],
            [
             0.2,
             "#de77ae"
            ],
            [
             0.3,
             "#f1b6da"
            ],
            [
             0.4,
             "#fde0ef"
            ],
            [
             0.5,
             "#f7f7f7"
            ],
            [
             0.6,
             "#e6f5d0"
            ],
            [
             0.7,
             "#b8e186"
            ],
            [
             0.8,
             "#7fbc41"
            ],
            [
             0.9,
             "#4d9221"
            ],
            [
             1,
             "#276419"
            ]
           ],
           "sequential": [
            [
             0,
             "#0d0887"
            ],
            [
             0.1111111111111111,
             "#46039f"
            ],
            [
             0.2222222222222222,
             "#7201a8"
            ],
            [
             0.3333333333333333,
             "#9c179e"
            ],
            [
             0.4444444444444444,
             "#bd3786"
            ],
            [
             0.5555555555555556,
             "#d8576b"
            ],
            [
             0.6666666666666666,
             "#ed7953"
            ],
            [
             0.7777777777777778,
             "#fb9f3a"
            ],
            [
             0.8888888888888888,
             "#fdca26"
            ],
            [
             1,
             "#f0f921"
            ]
           ],
           "sequentialminus": [
            [
             0,
             "#0d0887"
            ],
            [
             0.1111111111111111,
             "#46039f"
            ],
            [
             0.2222222222222222,
             "#7201a8"
            ],
            [
             0.3333333333333333,
             "#9c179e"
            ],
            [
             0.4444444444444444,
             "#bd3786"
            ],
            [
             0.5555555555555556,
             "#d8576b"
            ],
            [
             0.6666666666666666,
             "#ed7953"
            ],
            [
             0.7777777777777778,
             "#fb9f3a"
            ],
            [
             0.8888888888888888,
             "#fdca26"
            ],
            [
             1,
             "#f0f921"
            ]
           ]
          },
          "colorway": [
           "#636efa",
           "#EF553B",
           "#00cc96",
           "#ab63fa",
           "#FFA15A",
           "#19d3f3",
           "#FF6692",
           "#B6E880",
           "#FF97FF",
           "#FECB52"
          ],
          "font": {
           "color": "#2a3f5f"
          },
          "geo": {
           "bgcolor": "white",
           "lakecolor": "white",
           "landcolor": "white",
           "showlakes": true,
           "showland": true,
           "subunitcolor": "#C8D4E3"
          },
          "hoverlabel": {
           "align": "left"
          },
          "hovermode": "closest",
          "mapbox": {
           "style": "light"
          },
          "paper_bgcolor": "white",
          "plot_bgcolor": "white",
          "polar": {
           "angularaxis": {
            "gridcolor": "#EBF0F8",
            "linecolor": "#EBF0F8",
            "ticks": ""
           },
           "bgcolor": "white",
           "radialaxis": {
            "gridcolor": "#EBF0F8",
            "linecolor": "#EBF0F8",
            "ticks": ""
           }
          },
          "scene": {
           "xaxis": {
            "backgroundcolor": "white",
            "gridcolor": "#DFE8F3",
            "gridwidth": 2,
            "linecolor": "#EBF0F8",
            "showbackground": true,
            "ticks": "",
            "zerolinecolor": "#EBF0F8"
           },
           "yaxis": {
            "backgroundcolor": "white",
            "gridcolor": "#DFE8F3",
            "gridwidth": 2,
            "linecolor": "#EBF0F8",
            "showbackground": true,
            "ticks": "",
            "zerolinecolor": "#EBF0F8"
           },
           "zaxis": {
            "backgroundcolor": "white",
            "gridcolor": "#DFE8F3",
            "gridwidth": 2,
            "linecolor": "#EBF0F8",
            "showbackground": true,
            "ticks": "",
            "zerolinecolor": "#EBF0F8"
           }
          },
          "shapedefaults": {
           "line": {
            "color": "#2a3f5f"
           }
          },
          "ternary": {
           "aaxis": {
            "gridcolor": "#DFE8F3",
            "linecolor": "#A2B1C6",
            "ticks": ""
           },
           "baxis": {
            "gridcolor": "#DFE8F3",
            "linecolor": "#A2B1C6",
            "ticks": ""
           },
           "bgcolor": "white",
           "caxis": {
            "gridcolor": "#DFE8F3",
            "linecolor": "#A2B1C6",
            "ticks": ""
           }
          },
          "title": {
           "x": 0.05
          },
          "xaxis": {
           "automargin": true,
           "gridcolor": "#EBF0F8",
           "linecolor": "#EBF0F8",
           "ticks": "",
           "title": {
            "standoff": 15
           },
           "zerolinecolor": "#EBF0F8",
           "zerolinewidth": 2
          },
          "yaxis": {
           "automargin": true,
           "gridcolor": "#EBF0F8",
           "linecolor": "#EBF0F8",
           "ticks": "",
           "title": {
            "standoff": 15
           },
           "zerolinecolor": "#EBF0F8",
           "zerolinewidth": 2
          }
         }
        },
        "title": {
         "text": "Kinematic Model of Telemetry Stream",
         "x": 0.5
        },
        "xaxis": {
         "autorange": "reversed",
         "title": {
          "font": {
           "family": "Trebuchet"
          }
         }
        },
        "yaxis": {
         "scaleanchor": "x",
         "scaleratio": 1
        }
       }
      }
     },
     "metadata": {},
     "output_type": "display_data"
    }
   ],
   "source": [
    "fig = go.Figure()\n",
    "\n",
    "fig.update_xaxes(title_font_family=\"Trebuchet\")\n",
    "fig.update_layout(yaxis=dict(scaleanchor=\"x\", scaleratio=1),\n",
    "                  template = \"plotly_white\",\n",
    "                  title=\"<b>Kinematic Model of Telemetry Stream</b>\",\n",
    "                 )\n",
    "fig.update_layout(xaxis = dict(autorange=\"reversed\"))\n",
    "\n",
    "fig.add_trace(go.Scatter3d(\n",
    "    x=df['x'],\n",
    "    y=df['y'],\n",
    "    z=df['z'],\n",
    "    mode='markers',\n",
    "    marker=dict(\n",
    "        size=2,\n",
    "        color=df['error'],                # set color to an array/list of desired values\n",
    "        colorscale='Viridis',   # choose a colorscale\n",
    "        opacity=0.8\n",
    "    )\n",
    "))\n",
    "# add a line to from each point to the predicted point\n",
    "for index, row in df.iterrows():\n",
    "    fig.add_trace(go.Scatter3d(\n",
    "        x=[row['x'], row['x_pred']],\n",
    "        y=[row['y'], row['y_pred']],\n",
    "        z=[row['z'], row['z_pred']],\n",
    "        mode='lines',\n",
    "        line=dict(color='red', width=1)\n",
    "    ))\n",
    "# remove the legend\n",
    "fig.update_layout(showlegend=False)\n",
    "fig.update_layout(scene = dict(\n",
    "                    xaxis_title='East (m)',\n",
    "                    yaxis_title='North (m)',\n",
    "                    zaxis_title='Altitude (m)'))\n",
    "fig.update_layout(\n",
    "    title_text='Kinematic Model of Telemetry Stream',\n",
    "    title_x=0.5,\n",
    ")\n",
    "# subtitle\n",
    "fig.add_annotation(xref='paper', yref='paper', x=0.5, y=1.05,\n",
    "            text=\"Location (Blue) with Predicted Location for Next Timestamp (Red)\",\n",
    "            showarrow=False, font=dict(size=14))\n",
    "\n",
    "fig.write_html(\"figures/3D-kinematic-model.html\")\n",
    "fig.show()"
   ]
  },
  {
   "cell_type": "markdown",
   "metadata": {},
   "source": [
    "# What's Going on in Z?"
   ]
  },
  {
   "cell_type": "code",
   "execution_count": 14,
   "metadata": {},
   "outputs": [
    {
     "data": {
      "application/vnd.plotly.v1+json": {
       "config": {
        "plotlyServerURL": "https://plot.ly"
       },
       "data": [
        {
         "hovertemplate": "time=%{x}<br>vz=%{y}<extra></extra>",
         "legendgroup": "",
         "marker": {
          "color": "#636efa",
          "symbol": "circle"
         },
         "mode": "markers",
         "name": "",
         "orientation": "v",
         "showlegend": false,
         "type": "scatter",
         "x": [
          0.14,
          0.473,
          0.806,
          1.138,
          1.471,
          1.806,
          2.138,
          2.471,
          2.803,
          3.136,
          3.471,
          3.803,
          4.136,
          4.468,
          4.803,
          5.134,
          5.468,
          5.801,
          6.134,
          6.466,
          6.8,
          7.134,
          7.466,
          7.798,
          8.131,
          8.466,
          8.798,
          9.131,
          9.463,
          9.796,
          10.131,
          10.463,
          10.796,
          11.128,
          11.461,
          11.796,
          12.128,
          12.461,
          12.793,
          13.128,
          13.461,
          13.793,
          14.125,
          14.458,
          14.793,
          15.126,
          15.458,
          15.79,
          16.123,
          16.456,
          16.79,
          17.123,
          17.456,
          17.788,
          18.121,
          18.456,
          18.788,
          19.121,
          19.453,
          19.786,
          20.121,
          20.453,
          20.786,
          21.118,
          21.453,
          21.786,
          22.118,
          22.45,
          22.783,
          23.118,
          23.45,
          23.783,
          24.115,
          24.448,
          24.781,
          25.115,
          25.448,
          25.781,
          26.113,
          26.446,
          26.781,
          27.113,
          27.446,
          27.778,
          28.111,
          28.446,
          28.778,
          29.111,
          29.443,
          29.778,
          30.109,
          30.443,
          30.775,
          31.109,
          31.443,
          31.775,
          32.109,
          32.44,
          32.773,
          33.106,
          33.44,
          33.773,
          34.106,
          34.438,
          34.771,
          35.106,
          35.438,
          35.771,
          36.103,
          36.436,
          36.771,
          37.103,
          37.436,
          37.768,
          38.103,
          38.436,
          38.768,
          39.1,
          39.433,
          39.766,
          40.1,
          40.433,
          40.766,
          41.098,
          41.431,
          41.766,
          42.098,
          42.431,
          42.763,
          43.096,
          43.431,
          43.763,
          44.096,
          44.428,
          44.761,
          45.096,
          45.428,
          45.761,
          46.093,
          46.428,
          46.761,
          47.093,
          47.425,
          47.758,
          48.093,
          48.425,
          48.758,
          49.09,
          49.423,
          49.756,
          50.09,
          50.423,
          50.756,
          51.088,
          51.421,
          51.756,
          52.088,
          52.421,
          52.753,
          53.086,
          53.421,
          53.753,
          54.086,
          54.418,
          54.753,
          55.086,
          55.418,
          55.75,
          56.083,
          56.418,
          56.75,
          57.083,
          57.416,
          57.748,
          58.081,
          58.416,
          58.748,
          59.081,
          59.413,
          59.746,
          60.081,
          60.413,
          60.746,
          61.078,
          61.411,
          61.746,
          62.078,
          62.411,
          62.743,
          63.078,
          63.411,
          63.743,
          64.075,
          64.408,
          64.743,
          65.075,
          65.408,
          65.74,
          66.073,
          66.406,
          66.74,
          67.073,
          67.406,
          67.738,
          68.071,
          68.406,
          68.738,
          69.071,
          69.403,
          69.736,
          70.071,
          70.403,
          70.736,
          71.068,
          71.403,
          71.734,
          72.068,
          72.4,
          72.733,
          73.066,
          73.4,
          73.734,
          74.066,
          74.398,
          74.731,
          75.066,
          75.398,
          75.731,
          76.063,
          76.396,
          76.731
         ],
         "xaxis": "x",
         "y": [
          0,
          0,
          0,
          0,
          0,
          0,
          0,
          0,
          0,
          0,
          0,
          0,
          0,
          -0.01,
          -0.01,
          -0.01,
          -0.01,
          -0.01,
          0,
          0.19,
          0.74,
          1.06,
          1.18,
          0.18,
          0.09,
          -0.01,
          -0.17,
          0.05,
          0.08,
          -0.06,
          -0.14,
          0.14,
          -0.17,
          0.17,
          -0.05,
          0,
          0.02,
          -0.31,
          0.25,
          0.19,
          0.07,
          0.02,
          -0.27,
          -0.03,
          -0.31,
          -0.22,
          -0.04,
          -0.21,
          -0.02,
          -0.09,
          -0.05,
          0.11,
          -0.2,
          0.04,
          0.01,
          -0.06,
          0.14,
          -0.06,
          -0.23,
          0.01,
          -0.31,
          -0.13,
          0.11,
          -0.15,
          -0.08,
          0.17,
          -0.11,
          0.07,
          0.16,
          0.06,
          -0.03,
          0.01,
          -0.1,
          0.04,
          0.08,
          0,
          0.14,
          0,
          0.01,
          0.24,
          -0.03,
          0.15,
          0.21,
          -0.04,
          0.17,
          0.04,
          -0.06,
          0.2,
          0,
          0.02,
          0.06,
          -0.05,
          0.14,
          0.06,
          -0.02,
          0.27,
          0.01,
          0.08,
          0.18,
          -0.09,
          0.12,
          0,
          -0.11,
          0.08,
          -0.1,
          -0.1,
          0.14,
          -0.07,
          0.16,
          -0.02,
          -0.12,
          0.12,
          -0.23,
          -0.05,
          0,
          -0.23,
          0.09,
          -0.15,
          -0.15,
          0.09,
          -0.26,
          0.1,
          -0.01,
          -0.2,
          0.07,
          -0.11,
          -0.02,
          0.07,
          -0.24,
          0.1,
          -0.15,
          -0.13,
          0.05,
          -0.22,
          0.06,
          0.09,
          -0.2,
          0.16,
          -0.16,
          -0.01,
          0.07,
          -0.2,
          0.19,
          -0.05,
          -0.02,
          0.2,
          -0.11,
          0.12,
          0.06,
          -0.13,
          0.12,
          -0.2,
          -0.05,
          0,
          -0.19,
          0.01,
          -0.24,
          -0.01,
          0.08,
          -0.14,
          0.1,
          -0.08,
          -0.04,
          0.22,
          -0.07,
          0.08,
          0.14,
          -0.06,
          0.3,
          0.09,
          0.21,
          0.33,
          0.02,
          0.33,
          0.29,
          0.01,
          0.3,
          0.18,
          0.19,
          0.18,
          0.07,
          0.11,
          0.07,
          0.12,
          0.14,
          0.1,
          0,
          0.04,
          -0.08,
          0.21,
          0.01,
          -0.03,
          0.19,
          -0.17,
          0.09,
          0.09,
          -0.07,
          0.15,
          -0.18,
          0.03,
          0,
          -0.16,
          0.11,
          -0.15,
          -0.07,
          0.06,
          -0.18,
          0.12,
          -0.09,
          0.06,
          0.22,
          -0.18,
          0.09,
          -0.12,
          -0.1,
          0.07,
          -0.23,
          0.09,
          -0.02,
          -0.12,
          0.1,
          -0.14,
          0.08,
          0,
          -0.23,
          0.08,
          -0.2,
          0,
          -0.01,
          -0.2,
          0.11
         ],
         "yaxis": "y"
        }
       ],
       "layout": {
        "legend": {
         "tracegroupgap": 0
        },
        "margin": {
         "t": 60
        },
        "template": {
         "data": {
          "bar": [
           {
            "error_x": {
             "color": "#2a3f5f"
            },
            "error_y": {
             "color": "#2a3f5f"
            },
            "marker": {
             "line": {
              "color": "#E5ECF6",
              "width": 0.5
             },
             "pattern": {
              "fillmode": "overlay",
              "size": 10,
              "solidity": 0.2
             }
            },
            "type": "bar"
           }
          ],
          "barpolar": [
           {
            "marker": {
             "line": {
              "color": "#E5ECF6",
              "width": 0.5
             },
             "pattern": {
              "fillmode": "overlay",
              "size": 10,
              "solidity": 0.2
             }
            },
            "type": "barpolar"
           }
          ],
          "carpet": [
           {
            "aaxis": {
             "endlinecolor": "#2a3f5f",
             "gridcolor": "white",
             "linecolor": "white",
             "minorgridcolor": "white",
             "startlinecolor": "#2a3f5f"
            },
            "baxis": {
             "endlinecolor": "#2a3f5f",
             "gridcolor": "white",
             "linecolor": "white",
             "minorgridcolor": "white",
             "startlinecolor": "#2a3f5f"
            },
            "type": "carpet"
           }
          ],
          "choropleth": [
           {
            "colorbar": {
             "outlinewidth": 0,
             "ticks": ""
            },
            "type": "choropleth"
           }
          ],
          "contour": [
           {
            "colorbar": {
             "outlinewidth": 0,
             "ticks": ""
            },
            "colorscale": [
             [
              0,
              "#0d0887"
             ],
             [
              0.1111111111111111,
              "#46039f"
             ],
             [
              0.2222222222222222,
              "#7201a8"
             ],
             [
              0.3333333333333333,
              "#9c179e"
             ],
             [
              0.4444444444444444,
              "#bd3786"
             ],
             [
              0.5555555555555556,
              "#d8576b"
             ],
             [
              0.6666666666666666,
              "#ed7953"
             ],
             [
              0.7777777777777778,
              "#fb9f3a"
             ],
             [
              0.8888888888888888,
              "#fdca26"
             ],
             [
              1,
              "#f0f921"
             ]
            ],
            "type": "contour"
           }
          ],
          "contourcarpet": [
           {
            "colorbar": {
             "outlinewidth": 0,
             "ticks": ""
            },
            "type": "contourcarpet"
           }
          ],
          "heatmap": [
           {
            "colorbar": {
             "outlinewidth": 0,
             "ticks": ""
            },
            "colorscale": [
             [
              0,
              "#0d0887"
             ],
             [
              0.1111111111111111,
              "#46039f"
             ],
             [
              0.2222222222222222,
              "#7201a8"
             ],
             [
              0.3333333333333333,
              "#9c179e"
             ],
             [
              0.4444444444444444,
              "#bd3786"
             ],
             [
              0.5555555555555556,
              "#d8576b"
             ],
             [
              0.6666666666666666,
              "#ed7953"
             ],
             [
              0.7777777777777778,
              "#fb9f3a"
             ],
             [
              0.8888888888888888,
              "#fdca26"
             ],
             [
              1,
              "#f0f921"
             ]
            ],
            "type": "heatmap"
           }
          ],
          "heatmapgl": [
           {
            "colorbar": {
             "outlinewidth": 0,
             "ticks": ""
            },
            "colorscale": [
             [
              0,
              "#0d0887"
             ],
             [
              0.1111111111111111,
              "#46039f"
             ],
             [
              0.2222222222222222,
              "#7201a8"
             ],
             [
              0.3333333333333333,
              "#9c179e"
             ],
             [
              0.4444444444444444,
              "#bd3786"
             ],
             [
              0.5555555555555556,
              "#d8576b"
             ],
             [
              0.6666666666666666,
              "#ed7953"
             ],
             [
              0.7777777777777778,
              "#fb9f3a"
             ],
             [
              0.8888888888888888,
              "#fdca26"
             ],
             [
              1,
              "#f0f921"
             ]
            ],
            "type": "heatmapgl"
           }
          ],
          "histogram": [
           {
            "marker": {
             "pattern": {
              "fillmode": "overlay",
              "size": 10,
              "solidity": 0.2
             }
            },
            "type": "histogram"
           }
          ],
          "histogram2d": [
           {
            "colorbar": {
             "outlinewidth": 0,
             "ticks": ""
            },
            "colorscale": [
             [
              0,
              "#0d0887"
             ],
             [
              0.1111111111111111,
              "#46039f"
             ],
             [
              0.2222222222222222,
              "#7201a8"
             ],
             [
              0.3333333333333333,
              "#9c179e"
             ],
             [
              0.4444444444444444,
              "#bd3786"
             ],
             [
              0.5555555555555556,
              "#d8576b"
             ],
             [
              0.6666666666666666,
              "#ed7953"
             ],
             [
              0.7777777777777778,
              "#fb9f3a"
             ],
             [
              0.8888888888888888,
              "#fdca26"
             ],
             [
              1,
              "#f0f921"
             ]
            ],
            "type": "histogram2d"
           }
          ],
          "histogram2dcontour": [
           {
            "colorbar": {
             "outlinewidth": 0,
             "ticks": ""
            },
            "colorscale": [
             [
              0,
              "#0d0887"
             ],
             [
              0.1111111111111111,
              "#46039f"
             ],
             [
              0.2222222222222222,
              "#7201a8"
             ],
             [
              0.3333333333333333,
              "#9c179e"
             ],
             [
              0.4444444444444444,
              "#bd3786"
             ],
             [
              0.5555555555555556,
              "#d8576b"
             ],
             [
              0.6666666666666666,
              "#ed7953"
             ],
             [
              0.7777777777777778,
              "#fb9f3a"
             ],
             [
              0.8888888888888888,
              "#fdca26"
             ],
             [
              1,
              "#f0f921"
             ]
            ],
            "type": "histogram2dcontour"
           }
          ],
          "mesh3d": [
           {
            "colorbar": {
             "outlinewidth": 0,
             "ticks": ""
            },
            "type": "mesh3d"
           }
          ],
          "parcoords": [
           {
            "line": {
             "colorbar": {
              "outlinewidth": 0,
              "ticks": ""
             }
            },
            "type": "parcoords"
           }
          ],
          "pie": [
           {
            "automargin": true,
            "type": "pie"
           }
          ],
          "scatter": [
           {
            "fillpattern": {
             "fillmode": "overlay",
             "size": 10,
             "solidity": 0.2
            },
            "type": "scatter"
           }
          ],
          "scatter3d": [
           {
            "line": {
             "colorbar": {
              "outlinewidth": 0,
              "ticks": ""
             }
            },
            "marker": {
             "colorbar": {
              "outlinewidth": 0,
              "ticks": ""
             }
            },
            "type": "scatter3d"
           }
          ],
          "scattercarpet": [
           {
            "marker": {
             "colorbar": {
              "outlinewidth": 0,
              "ticks": ""
             }
            },
            "type": "scattercarpet"
           }
          ],
          "scattergeo": [
           {
            "marker": {
             "colorbar": {
              "outlinewidth": 0,
              "ticks": ""
             }
            },
            "type": "scattergeo"
           }
          ],
          "scattergl": [
           {
            "marker": {
             "colorbar": {
              "outlinewidth": 0,
              "ticks": ""
             }
            },
            "type": "scattergl"
           }
          ],
          "scattermapbox": [
           {
            "marker": {
             "colorbar": {
              "outlinewidth": 0,
              "ticks": ""
             }
            },
            "type": "scattermapbox"
           }
          ],
          "scatterpolar": [
           {
            "marker": {
             "colorbar": {
              "outlinewidth": 0,
              "ticks": ""
             }
            },
            "type": "scatterpolar"
           }
          ],
          "scatterpolargl": [
           {
            "marker": {
             "colorbar": {
              "outlinewidth": 0,
              "ticks": ""
             }
            },
            "type": "scatterpolargl"
           }
          ],
          "scatterternary": [
           {
            "marker": {
             "colorbar": {
              "outlinewidth": 0,
              "ticks": ""
             }
            },
            "type": "scatterternary"
           }
          ],
          "surface": [
           {
            "colorbar": {
             "outlinewidth": 0,
             "ticks": ""
            },
            "colorscale": [
             [
              0,
              "#0d0887"
             ],
             [
              0.1111111111111111,
              "#46039f"
             ],
             [
              0.2222222222222222,
              "#7201a8"
             ],
             [
              0.3333333333333333,
              "#9c179e"
             ],
             [
              0.4444444444444444,
              "#bd3786"
             ],
             [
              0.5555555555555556,
              "#d8576b"
             ],
             [
              0.6666666666666666,
              "#ed7953"
             ],
             [
              0.7777777777777778,
              "#fb9f3a"
             ],
             [
              0.8888888888888888,
              "#fdca26"
             ],
             [
              1,
              "#f0f921"
             ]
            ],
            "type": "surface"
           }
          ],
          "table": [
           {
            "cells": {
             "fill": {
              "color": "#EBF0F8"
             },
             "line": {
              "color": "white"
             }
            },
            "header": {
             "fill": {
              "color": "#C8D4E3"
             },
             "line": {
              "color": "white"
             }
            },
            "type": "table"
           }
          ]
         },
         "layout": {
          "annotationdefaults": {
           "arrowcolor": "#2a3f5f",
           "arrowhead": 0,
           "arrowwidth": 1
          },
          "autotypenumbers": "strict",
          "coloraxis": {
           "colorbar": {
            "outlinewidth": 0,
            "ticks": ""
           }
          },
          "colorscale": {
           "diverging": [
            [
             0,
             "#8e0152"
            ],
            [
             0.1,
             "#c51b7d"
            ],
            [
             0.2,
             "#de77ae"
            ],
            [
             0.3,
             "#f1b6da"
            ],
            [
             0.4,
             "#fde0ef"
            ],
            [
             0.5,
             "#f7f7f7"
            ],
            [
             0.6,
             "#e6f5d0"
            ],
            [
             0.7,
             "#b8e186"
            ],
            [
             0.8,
             "#7fbc41"
            ],
            [
             0.9,
             "#4d9221"
            ],
            [
             1,
             "#276419"
            ]
           ],
           "sequential": [
            [
             0,
             "#0d0887"
            ],
            [
             0.1111111111111111,
             "#46039f"
            ],
            [
             0.2222222222222222,
             "#7201a8"
            ],
            [
             0.3333333333333333,
             "#9c179e"
            ],
            [
             0.4444444444444444,
             "#bd3786"
            ],
            [
             0.5555555555555556,
             "#d8576b"
            ],
            [
             0.6666666666666666,
             "#ed7953"
            ],
            [
             0.7777777777777778,
             "#fb9f3a"
            ],
            [
             0.8888888888888888,
             "#fdca26"
            ],
            [
             1,
             "#f0f921"
            ]
           ],
           "sequentialminus": [
            [
             0,
             "#0d0887"
            ],
            [
             0.1111111111111111,
             "#46039f"
            ],
            [
             0.2222222222222222,
             "#7201a8"
            ],
            [
             0.3333333333333333,
             "#9c179e"
            ],
            [
             0.4444444444444444,
             "#bd3786"
            ],
            [
             0.5555555555555556,
             "#d8576b"
            ],
            [
             0.6666666666666666,
             "#ed7953"
            ],
            [
             0.7777777777777778,
             "#fb9f3a"
            ],
            [
             0.8888888888888888,
             "#fdca26"
            ],
            [
             1,
             "#f0f921"
            ]
           ]
          },
          "colorway": [
           "#636efa",
           "#EF553B",
           "#00cc96",
           "#ab63fa",
           "#FFA15A",
           "#19d3f3",
           "#FF6692",
           "#B6E880",
           "#FF97FF",
           "#FECB52"
          ],
          "font": {
           "color": "#2a3f5f"
          },
          "geo": {
           "bgcolor": "white",
           "lakecolor": "white",
           "landcolor": "#E5ECF6",
           "showlakes": true,
           "showland": true,
           "subunitcolor": "white"
          },
          "hoverlabel": {
           "align": "left"
          },
          "hovermode": "closest",
          "mapbox": {
           "style": "light"
          },
          "paper_bgcolor": "white",
          "plot_bgcolor": "#E5ECF6",
          "polar": {
           "angularaxis": {
            "gridcolor": "white",
            "linecolor": "white",
            "ticks": ""
           },
           "bgcolor": "#E5ECF6",
           "radialaxis": {
            "gridcolor": "white",
            "linecolor": "white",
            "ticks": ""
           }
          },
          "scene": {
           "xaxis": {
            "backgroundcolor": "#E5ECF6",
            "gridcolor": "white",
            "gridwidth": 2,
            "linecolor": "white",
            "showbackground": true,
            "ticks": "",
            "zerolinecolor": "white"
           },
           "yaxis": {
            "backgroundcolor": "#E5ECF6",
            "gridcolor": "white",
            "gridwidth": 2,
            "linecolor": "white",
            "showbackground": true,
            "ticks": "",
            "zerolinecolor": "white"
           },
           "zaxis": {
            "backgroundcolor": "#E5ECF6",
            "gridcolor": "white",
            "gridwidth": 2,
            "linecolor": "white",
            "showbackground": true,
            "ticks": "",
            "zerolinecolor": "white"
           }
          },
          "shapedefaults": {
           "line": {
            "color": "#2a3f5f"
           }
          },
          "ternary": {
           "aaxis": {
            "gridcolor": "white",
            "linecolor": "white",
            "ticks": ""
           },
           "baxis": {
            "gridcolor": "white",
            "linecolor": "white",
            "ticks": ""
           },
           "bgcolor": "#E5ECF6",
           "caxis": {
            "gridcolor": "white",
            "linecolor": "white",
            "ticks": ""
           }
          },
          "title": {
           "x": 0.05
          },
          "xaxis": {
           "automargin": true,
           "gridcolor": "white",
           "linecolor": "white",
           "ticks": "",
           "title": {
            "standoff": 15
           },
           "zerolinecolor": "white",
           "zerolinewidth": 2
          },
          "yaxis": {
           "automargin": true,
           "gridcolor": "white",
           "linecolor": "white",
           "ticks": "",
           "title": {
            "standoff": 15
           },
           "zerolinecolor": "white",
           "zerolinewidth": 2
          }
         }
        },
        "xaxis": {
         "anchor": "y",
         "domain": [
          0,
          1
         ],
         "title": {
          "text": "time"
         }
        },
        "yaxis": {
         "anchor": "x",
         "domain": [
          0,
          1
         ],
         "title": {
          "text": "vz"
         }
        }
       }
      }
     },
     "metadata": {},
     "output_type": "display_data"
    }
   ],
   "source": [
    "px.scatter(df, x=df.index, y='vz').show()"
   ]
  },
  {
   "cell_type": "code",
   "execution_count": 15,
   "metadata": {},
   "outputs": [
    {
     "name": "stdout",
     "output_type": "stream",
     "text": [
      "Sample rate: 3.00 Hz\n"
     ]
    }
   ],
   "source": [
    "signal_series = df[df.index > 8].vz\n",
    "signal = signal_series.values\n",
    "\n",
    "sampling_rate = 1 / signal_series.index.diff().dropna().values.mean()\n",
    "print(f'Sample rate: {sampling_rate:.2f} Hz')"
   ]
  },
  {
   "cell_type": "code",
   "execution_count": 16,
   "metadata": {},
   "outputs": [],
   "source": [
    "import numpy as np\n",
    "from scipy.fft import fft, rfft\n",
    "from scipy.fft import fftfreq, rfftfreq\n",
    "import plotly.graph_objs as go\n",
    "from plotly.subplots import make_subplots\n",
    "import matplotlib.pyplot as plt"
   ]
  },
  {
   "cell_type": "code",
   "execution_count": 17,
   "metadata": {},
   "outputs": [
    {
     "data": {
      "application/vnd.plotly.v1+json": {
       "config": {
        "plotlyServerURL": "https://plot.ly"
       },
       "data": [
        {
         "hovertemplate": "x=%{x}<br>y=%{y}<extra></extra>",
         "legendgroup": "",
         "line": {
          "color": "#636efa",
          "dash": "solid"
         },
         "marker": {
          "symbol": "circle"
         },
         "mode": "lines",
         "name": "",
         "orientation": "v",
         "showlegend": false,
         "type": "scatter",
         "x": [
          0,
          0.014506837931860117,
          0.029013675863720233,
          0.04352051379558035,
          0.05802735172744047,
          0.07253418965930059,
          0.0870410275911607,
          0.10154786552302082,
          0.11605470345488093,
          0.13056154138674106,
          0.14506837931860117,
          0.15957521725046128,
          0.1740820551823214,
          0.1885888931141815,
          0.20309573104604164,
          0.21760256897790176,
          0.23210940690976187,
          0.24661624484162198,
          0.2611230827734821,
          0.2756299207053422,
          0.29013675863720234,
          0.3046435965690624,
          0.31915043450092256,
          0.3336572724327827,
          0.3481641103646428,
          0.3626709482965029,
          0.377177786228363,
          0.39168462416022315,
          0.4061914620920833,
          0.4206983000239434,
          0.4352051379558035,
          0.4497119758876636,
          0.46421881381952373,
          0.4787256517513839,
          0.49323248968324396,
          0.5077393276151041,
          0.5222461655469642,
          0.5367530034788243,
          0.5512598414106844,
          0.5657666793425445,
          0.5802735172744047,
          0.5947803552062648,
          0.6092871931381248,
          0.623794031069985,
          0.6383008690018451,
          0.6528077069337053,
          0.6673145448655654,
          0.6818213827974254,
          0.6963282207292856,
          0.7108350586611457,
          0.7253418965930059,
          0.739848734524866,
          0.754355572456726,
          0.7688624103885862,
          0.7833692483204463,
          0.7978760862523064,
          0.8123829241841666,
          0.8268897621160266,
          0.8413966000478867,
          0.8559034379797469,
          0.870410275911607,
          0.8849171138434672,
          0.8994239517753272,
          0.9139307897071873,
          0.9284376276390475,
          0.9429444655709076,
          0.9574513035027677,
          0.9719581414346278,
          0.9864649793664879,
          1.000971817298348,
          1.0154786552302082,
          1.0299854931620682,
          1.0444923310939285,
          1.0589991690257885,
          1.0735060069576485,
          1.0880128448895088,
          1.1025196828213688,
          1.117026520753229,
          1.131533358685089,
          1.1460401966169491,
          1.1605470345488094,
          1.1750538724806694,
          1.1895607104125296,
          1.2040675483443897,
          1.2185743862762497,
          1.23308122420811,
          1.24758806213997,
          1.2620949000718302,
          1.2766017380036903,
          1.2911085759355503,
          1.3056154138674105,
          1.3201222517992706,
          1.3346290897311308,
          1.3491359276629908,
          1.3636427655948509,
          1.3781496035267111,
          1.3926564414585711,
          1.4071632793904314,
          1.4216701173222914,
          1.4361769552541515,
          1.4506837931860117,
          1.4651906311178717,
          1.479697469049732,
          1.494204306981592
         ],
         "xaxis": "x",
         "y": [
          0.00714975845410628,
          0.02505894249332145,
          0.06246714033023006,
          0.035718478606417435,
          0.03499878123997226,
          0.019593100345798642,
          0.029612470816111628,
          0.015839353470029665,
          0.0078483199415646,
          0.021386802303674863,
          0.0006933226031883826,
          0.007294975674098496,
          0.012817154836625586,
          0.01611799984497705,
          0.01675306244409751,
          0.02555118376338373,
          0.01959659183721031,
          0.015697063989953863,
          0.0029417109059006307,
          0.0008773612675562774,
          0.00823148387308257,
          0.006775688363237869,
          0.01242978115271705,
          0.00828919022822928,
          0.014596951917983778,
          0.006968813902891164,
          0.00985925012834,
          0.010300375976489291,
          0.010838433201852783,
          0.0077692441663569315,
          0.010602598285847939,
          0.009769415932292524,
          0.00987010004089843,
          0.01144229056954422,
          0.009971987602813693,
          0.009032764469925746,
          0.012471877270686996,
          0.011749449108908482,
          0.005350773630110914,
          0.0094235024365678,
          0.014539099747123183,
          0.006556367959668112,
          0.004786684703219711,
          0.009932326505136821,
          0.003606405304033488,
          0.0097204648451129,
          0.005428086935063036,
          0.007130445847039362,
          0.0018382599320940947,
          0.007444954807088306,
          0.004694381146351681,
          0.00967584609674414,
          0.013163004612937824,
          0.00507290961104622,
          0.014302835391782972,
          0.013588618638582187,
          0.009100765216566364,
          0.01197290609396168,
          0.01188277234034089,
          0.005977240687066045,
          0.005161263726310693,
          0.007416090533017354,
          0.007183766264273619,
          0.008142221318067466,
          0.0082714051074258,
          0.01790579048350444,
          0.005418193161200421,
          0.005943567299306486,
          0.006776663174357964,
          0.008715489985583955,
          0.016238902464474465,
          0.0074289435577376255,
          0.026745391726000413,
          0.010697224645516465,
          0.020845422130169725,
          0.016913728417226364,
          0.034302429629474565,
          0.028211905959320948,
          0.02302461359482145,
          0.06872634239563556,
          0.08664918051114825,
          0.03369644222460804,
          0.048898465512344086,
          0.02643610578986514,
          0.010184274308107031,
          0.006137433723679844,
          0.015429383365756057,
          0.00872053816937613,
          0.010273534258059143,
          0.010501053396771199,
          0.009233526112080477,
          0.0027541169457175503,
          0.008012493295308166,
          0.0067882629038125445,
          0.012572115536650278,
          0.004820315260269566,
          0.003716857836866662,
          0.01248941123616605,
          0.001521865823422468,
          0.004197211843402997,
          0.006632129160721972,
          0.00857541555504021,
          0.006425782711603543,
          0.010781673550742435
         ],
         "yaxis": "y"
        }
       ],
       "layout": {
        "bargap": 0.2,
        "bargroupgap": 0.1,
        "legend": {
         "tracegroupgap": 0
        },
        "margin": {
         "t": 60
        },
        "template": {
         "data": {
          "bar": [
           {
            "error_x": {
             "color": "#2a3f5f"
            },
            "error_y": {
             "color": "#2a3f5f"
            },
            "marker": {
             "line": {
              "color": "white",
              "width": 0.5
             },
             "pattern": {
              "fillmode": "overlay",
              "size": 10,
              "solidity": 0.2
             }
            },
            "type": "bar"
           }
          ],
          "barpolar": [
           {
            "marker": {
             "line": {
              "color": "white",
              "width": 0.5
             },
             "pattern": {
              "fillmode": "overlay",
              "size": 10,
              "solidity": 0.2
             }
            },
            "type": "barpolar"
           }
          ],
          "carpet": [
           {
            "aaxis": {
             "endlinecolor": "#2a3f5f",
             "gridcolor": "#C8D4E3",
             "linecolor": "#C8D4E3",
             "minorgridcolor": "#C8D4E3",
             "startlinecolor": "#2a3f5f"
            },
            "baxis": {
             "endlinecolor": "#2a3f5f",
             "gridcolor": "#C8D4E3",
             "linecolor": "#C8D4E3",
             "minorgridcolor": "#C8D4E3",
             "startlinecolor": "#2a3f5f"
            },
            "type": "carpet"
           }
          ],
          "choropleth": [
           {
            "colorbar": {
             "outlinewidth": 0,
             "ticks": ""
            },
            "type": "choropleth"
           }
          ],
          "contour": [
           {
            "colorbar": {
             "outlinewidth": 0,
             "ticks": ""
            },
            "colorscale": [
             [
              0,
              "#0d0887"
             ],
             [
              0.1111111111111111,
              "#46039f"
             ],
             [
              0.2222222222222222,
              "#7201a8"
             ],
             [
              0.3333333333333333,
              "#9c179e"
             ],
             [
              0.4444444444444444,
              "#bd3786"
             ],
             [
              0.5555555555555556,
              "#d8576b"
             ],
             [
              0.6666666666666666,
              "#ed7953"
             ],
             [
              0.7777777777777778,
              "#fb9f3a"
             ],
             [
              0.8888888888888888,
              "#fdca26"
             ],
             [
              1,
              "#f0f921"
             ]
            ],
            "type": "contour"
           }
          ],
          "contourcarpet": [
           {
            "colorbar": {
             "outlinewidth": 0,
             "ticks": ""
            },
            "type": "contourcarpet"
           }
          ],
          "heatmap": [
           {
            "colorbar": {
             "outlinewidth": 0,
             "ticks": ""
            },
            "colorscale": [
             [
              0,
              "#0d0887"
             ],
             [
              0.1111111111111111,
              "#46039f"
             ],
             [
              0.2222222222222222,
              "#7201a8"
             ],
             [
              0.3333333333333333,
              "#9c179e"
             ],
             [
              0.4444444444444444,
              "#bd3786"
             ],
             [
              0.5555555555555556,
              "#d8576b"
             ],
             [
              0.6666666666666666,
              "#ed7953"
             ],
             [
              0.7777777777777778,
              "#fb9f3a"
             ],
             [
              0.8888888888888888,
              "#fdca26"
             ],
             [
              1,
              "#f0f921"
             ]
            ],
            "type": "heatmap"
           }
          ],
          "heatmapgl": [
           {
            "colorbar": {
             "outlinewidth": 0,
             "ticks": ""
            },
            "colorscale": [
             [
              0,
              "#0d0887"
             ],
             [
              0.1111111111111111,
              "#46039f"
             ],
             [
              0.2222222222222222,
              "#7201a8"
             ],
             [
              0.3333333333333333,
              "#9c179e"
             ],
             [
              0.4444444444444444,
              "#bd3786"
             ],
             [
              0.5555555555555556,
              "#d8576b"
             ],
             [
              0.6666666666666666,
              "#ed7953"
             ],
             [
              0.7777777777777778,
              "#fb9f3a"
             ],
             [
              0.8888888888888888,
              "#fdca26"
             ],
             [
              1,
              "#f0f921"
             ]
            ],
            "type": "heatmapgl"
           }
          ],
          "histogram": [
           {
            "marker": {
             "pattern": {
              "fillmode": "overlay",
              "size": 10,
              "solidity": 0.2
             }
            },
            "type": "histogram"
           }
          ],
          "histogram2d": [
           {
            "colorbar": {
             "outlinewidth": 0,
             "ticks": ""
            },
            "colorscale": [
             [
              0,
              "#0d0887"
             ],
             [
              0.1111111111111111,
              "#46039f"
             ],
             [
              0.2222222222222222,
              "#7201a8"
             ],
             [
              0.3333333333333333,
              "#9c179e"
             ],
             [
              0.4444444444444444,
              "#bd3786"
             ],
             [
              0.5555555555555556,
              "#d8576b"
             ],
             [
              0.6666666666666666,
              "#ed7953"
             ],
             [
              0.7777777777777778,
              "#fb9f3a"
             ],
             [
              0.8888888888888888,
              "#fdca26"
             ],
             [
              1,
              "#f0f921"
             ]
            ],
            "type": "histogram2d"
           }
          ],
          "histogram2dcontour": [
           {
            "colorbar": {
             "outlinewidth": 0,
             "ticks": ""
            },
            "colorscale": [
             [
              0,
              "#0d0887"
             ],
             [
              0.1111111111111111,
              "#46039f"
             ],
             [
              0.2222222222222222,
              "#7201a8"
             ],
             [
              0.3333333333333333,
              "#9c179e"
             ],
             [
              0.4444444444444444,
              "#bd3786"
             ],
             [
              0.5555555555555556,
              "#d8576b"
             ],
             [
              0.6666666666666666,
              "#ed7953"
             ],
             [
              0.7777777777777778,
              "#fb9f3a"
             ],
             [
              0.8888888888888888,
              "#fdca26"
             ],
             [
              1,
              "#f0f921"
             ]
            ],
            "type": "histogram2dcontour"
           }
          ],
          "mesh3d": [
           {
            "colorbar": {
             "outlinewidth": 0,
             "ticks": ""
            },
            "type": "mesh3d"
           }
          ],
          "parcoords": [
           {
            "line": {
             "colorbar": {
              "outlinewidth": 0,
              "ticks": ""
             }
            },
            "type": "parcoords"
           }
          ],
          "pie": [
           {
            "automargin": true,
            "type": "pie"
           }
          ],
          "scatter": [
           {
            "fillpattern": {
             "fillmode": "overlay",
             "size": 10,
             "solidity": 0.2
            },
            "type": "scatter"
           }
          ],
          "scatter3d": [
           {
            "line": {
             "colorbar": {
              "outlinewidth": 0,
              "ticks": ""
             }
            },
            "marker": {
             "colorbar": {
              "outlinewidth": 0,
              "ticks": ""
             }
            },
            "type": "scatter3d"
           }
          ],
          "scattercarpet": [
           {
            "marker": {
             "colorbar": {
              "outlinewidth": 0,
              "ticks": ""
             }
            },
            "type": "scattercarpet"
           }
          ],
          "scattergeo": [
           {
            "marker": {
             "colorbar": {
              "outlinewidth": 0,
              "ticks": ""
             }
            },
            "type": "scattergeo"
           }
          ],
          "scattergl": [
           {
            "marker": {
             "colorbar": {
              "outlinewidth": 0,
              "ticks": ""
             }
            },
            "type": "scattergl"
           }
          ],
          "scattermapbox": [
           {
            "marker": {
             "colorbar": {
              "outlinewidth": 0,
              "ticks": ""
             }
            },
            "type": "scattermapbox"
           }
          ],
          "scatterpolar": [
           {
            "marker": {
             "colorbar": {
              "outlinewidth": 0,
              "ticks": ""
             }
            },
            "type": "scatterpolar"
           }
          ],
          "scatterpolargl": [
           {
            "marker": {
             "colorbar": {
              "outlinewidth": 0,
              "ticks": ""
             }
            },
            "type": "scatterpolargl"
           }
          ],
          "scatterternary": [
           {
            "marker": {
             "colorbar": {
              "outlinewidth": 0,
              "ticks": ""
             }
            },
            "type": "scatterternary"
           }
          ],
          "surface": [
           {
            "colorbar": {
             "outlinewidth": 0,
             "ticks": ""
            },
            "colorscale": [
             [
              0,
              "#0d0887"
             ],
             [
              0.1111111111111111,
              "#46039f"
             ],
             [
              0.2222222222222222,
              "#7201a8"
             ],
             [
              0.3333333333333333,
              "#9c179e"
             ],
             [
              0.4444444444444444,
              "#bd3786"
             ],
             [
              0.5555555555555556,
              "#d8576b"
             ],
             [
              0.6666666666666666,
              "#ed7953"
             ],
             [
              0.7777777777777778,
              "#fb9f3a"
             ],
             [
              0.8888888888888888,
              "#fdca26"
             ],
             [
              1,
              "#f0f921"
             ]
            ],
            "type": "surface"
           }
          ],
          "table": [
           {
            "cells": {
             "fill": {
              "color": "#EBF0F8"
             },
             "line": {
              "color": "white"
             }
            },
            "header": {
             "fill": {
              "color": "#C8D4E3"
             },
             "line": {
              "color": "white"
             }
            },
            "type": "table"
           }
          ]
         },
         "layout": {
          "annotationdefaults": {
           "arrowcolor": "#2a3f5f",
           "arrowhead": 0,
           "arrowwidth": 1
          },
          "autotypenumbers": "strict",
          "coloraxis": {
           "colorbar": {
            "outlinewidth": 0,
            "ticks": ""
           }
          },
          "colorscale": {
           "diverging": [
            [
             0,
             "#8e0152"
            ],
            [
             0.1,
             "#c51b7d"
            ],
            [
             0.2,
             "#de77ae"
            ],
            [
             0.3,
             "#f1b6da"
            ],
            [
             0.4,
             "#fde0ef"
            ],
            [
             0.5,
             "#f7f7f7"
            ],
            [
             0.6,
             "#e6f5d0"
            ],
            [
             0.7,
             "#b8e186"
            ],
            [
             0.8,
             "#7fbc41"
            ],
            [
             0.9,
             "#4d9221"
            ],
            [
             1,
             "#276419"
            ]
           ],
           "sequential": [
            [
             0,
             "#0d0887"
            ],
            [
             0.1111111111111111,
             "#46039f"
            ],
            [
             0.2222222222222222,
             "#7201a8"
            ],
            [
             0.3333333333333333,
             "#9c179e"
            ],
            [
             0.4444444444444444,
             "#bd3786"
            ],
            [
             0.5555555555555556,
             "#d8576b"
            ],
            [
             0.6666666666666666,
             "#ed7953"
            ],
            [
             0.7777777777777778,
             "#fb9f3a"
            ],
            [
             0.8888888888888888,
             "#fdca26"
            ],
            [
             1,
             "#f0f921"
            ]
           ],
           "sequentialminus": [
            [
             0,
             "#0d0887"
            ],
            [
             0.1111111111111111,
             "#46039f"
            ],
            [
             0.2222222222222222,
             "#7201a8"
            ],
            [
             0.3333333333333333,
             "#9c179e"
            ],
            [
             0.4444444444444444,
             "#bd3786"
            ],
            [
             0.5555555555555556,
             "#d8576b"
            ],
            [
             0.6666666666666666,
             "#ed7953"
            ],
            [
             0.7777777777777778,
             "#fb9f3a"
            ],
            [
             0.8888888888888888,
             "#fdca26"
            ],
            [
             1,
             "#f0f921"
            ]
           ]
          },
          "colorway": [
           "#636efa",
           "#EF553B",
           "#00cc96",
           "#ab63fa",
           "#FFA15A",
           "#19d3f3",
           "#FF6692",
           "#B6E880",
           "#FF97FF",
           "#FECB52"
          ],
          "font": {
           "color": "#2a3f5f"
          },
          "geo": {
           "bgcolor": "white",
           "lakecolor": "white",
           "landcolor": "white",
           "showlakes": true,
           "showland": true,
           "subunitcolor": "#C8D4E3"
          },
          "hoverlabel": {
           "align": "left"
          },
          "hovermode": "closest",
          "mapbox": {
           "style": "light"
          },
          "paper_bgcolor": "white",
          "plot_bgcolor": "white",
          "polar": {
           "angularaxis": {
            "gridcolor": "#EBF0F8",
            "linecolor": "#EBF0F8",
            "ticks": ""
           },
           "bgcolor": "white",
           "radialaxis": {
            "gridcolor": "#EBF0F8",
            "linecolor": "#EBF0F8",
            "ticks": ""
           }
          },
          "scene": {
           "xaxis": {
            "backgroundcolor": "white",
            "gridcolor": "#DFE8F3",
            "gridwidth": 2,
            "linecolor": "#EBF0F8",
            "showbackground": true,
            "ticks": "",
            "zerolinecolor": "#EBF0F8"
           },
           "yaxis": {
            "backgroundcolor": "white",
            "gridcolor": "#DFE8F3",
            "gridwidth": 2,
            "linecolor": "#EBF0F8",
            "showbackground": true,
            "ticks": "",
            "zerolinecolor": "#EBF0F8"
           },
           "zaxis": {
            "backgroundcolor": "white",
            "gridcolor": "#DFE8F3",
            "gridwidth": 2,
            "linecolor": "#EBF0F8",
            "showbackground": true,
            "ticks": "",
            "zerolinecolor": "#EBF0F8"
           }
          },
          "shapedefaults": {
           "line": {
            "color": "#2a3f5f"
           }
          },
          "ternary": {
           "aaxis": {
            "gridcolor": "#DFE8F3",
            "linecolor": "#A2B1C6",
            "ticks": ""
           },
           "baxis": {
            "gridcolor": "#DFE8F3",
            "linecolor": "#A2B1C6",
            "ticks": ""
           },
           "bgcolor": "white",
           "caxis": {
            "gridcolor": "#DFE8F3",
            "linecolor": "#A2B1C6",
            "ticks": ""
           }
          },
          "title": {
           "x": 0.05
          },
          "xaxis": {
           "automargin": true,
           "gridcolor": "#EBF0F8",
           "linecolor": "#EBF0F8",
           "ticks": "",
           "title": {
            "standoff": 15
           },
           "zerolinecolor": "#EBF0F8",
           "zerolinewidth": 2
          },
          "yaxis": {
           "automargin": true,
           "gridcolor": "#EBF0F8",
           "linecolor": "#EBF0F8",
           "ticks": "",
           "title": {
            "standoff": 15
           },
           "zerolinecolor": "#EBF0F8",
           "zerolinewidth": 2
          }
         }
        },
        "title": {
         "text": "<b>Fourier Transform of vz</b>"
        },
        "xaxis": {
         "anchor": "y",
         "domain": [
          0,
          1
         ],
         "title": {
          "font": {
           "family": "Trebuchet"
          },
          "text": "Frequency (Hz)"
         }
        },
        "yaxis": {
         "anchor": "x",
         "domain": [
          0,
          1
         ],
         "title": {
          "text": "Amplitude"
         }
        }
       }
      }
     },
     "metadata": {},
     "output_type": "display_data"
    }
   ],
   "source": [
    "fourier = fft(signal)\n",
    "\n",
    "# Calculate N/2 to normalize the FFT output\n",
    "N = len(signal)\n",
    "\n",
    "# Plot the results\n",
    "# plt.plot(rfftfreq(N, d=1/sampling_rate), 2*np.abs(rfft(signal))/N)\n",
    "# plt.title('Spectrum')\n",
    "# plt.xlabel('Frequency[Hz]')\n",
    "# plt.ylabel('Amplitude')\n",
    "# plt.show()\n",
    "\n",
    "fig = px.line(x=rfftfreq(N, d=1/sampling_rate), y=2*np.abs(rfft(signal))/N)\n",
    "\n",
    "fig.update_xaxes(title_font_family=\"Trebuchet\")\n",
    "fig.update_layout(template = \"plotly_white\",\n",
    "                  title=\"<b>Fourier Transform of vz</b>\",\n",
    "                 )\n",
    "fig.update_layout(\n",
    "    xaxis_title_text='Frequency (Hz)',\n",
    "    yaxis_title_text='Amplitude',\n",
    "    bargap=0.2,\n",
    "    bargroupgap=0.1\n",
    ")\n",
    "fig.write_html(\"figures/fourier-transform.html\")\n",
    "fig.show()"
   ]
  }
 ],
 "metadata": {
  "kernelspec": {
   "display_name": "drones",
   "language": "python",
   "name": "python3"
  },
  "language_info": {
   "codemirror_mode": {
    "name": "ipython",
    "version": 3
   },
   "file_extension": ".py",
   "mimetype": "text/x-python",
   "name": "python",
   "nbconvert_exporter": "python",
   "pygments_lexer": "ipython3",
   "version": "3.11.5"
  },
  "orig_nbformat": 4
 },
 "nbformat": 4,
 "nbformat_minor": 2
}
